{
  "nbformat": 4,
  "nbformat_minor": 0,
  "metadata": {
    "colab": {
      "name": "Dataset Creation.ipynb",
      "provenance": [],
      "collapsed_sections": [],
      "authorship_tag": "ABX9TyMI60lS3nbSGzJ62hw7AdkZ",
      "include_colab_link": true
    },
    "kernelspec": {
      "name": "python3",
      "display_name": "Python 3"
    },
    "language_info": {
      "name": "python"
    }
  },
  "cells": [
    {
      "cell_type": "markdown",
      "metadata": {
        "id": "view-in-github",
        "colab_type": "text"
      },
      "source": [
        "<a href=\"https://colab.research.google.com/github/geersenthil/Topic-Modeling-/blob/main/Dataset_Creation.ipynb\" target=\"_parent\"><img src=\"https://colab.research.google.com/assets/colab-badge.svg\" alt=\"Open In Colab\"/></a>"
      ]
    },
    {
      "cell_type": "markdown",
      "source": [
        "Imports and Libraries"
      ],
      "metadata": {
        "id": "IdCf2gcvvIpZ"
      }
    },
    {
      "cell_type": "code",
      "execution_count": 43,
      "metadata": {
        "id": "-5ItDlq0vQAh"
      },
      "outputs": [],
      "source": [
        "import pandas as pd\n",
        "import numpy as np\n",
        "import matplotlib.pyplot as plt\n",
        "from collections import Counter\n",
        "\n",
        "#Dataset\n",
        "from sklearn.datasets import fetch_20newsgroups\n",
        "\n",
        "#warnings\n",
        "import warnings\n",
        "warnings.filterwarnings(\"ignore\", category=DeprecationWarning)\n"
      ]
    },
    {
      "cell_type": "markdown",
      "source": [
        "Load Data into CSV"
      ],
      "metadata": {
        "id": "mO8HTig_-gx6"
      }
    },
    {
      "cell_type": "code",
      "source": [
        "#method that converts data to csv file\n",
        "def twenty_newsgroup_data_to_csv():\n",
        "    news_group_data = fetch_20newsgroups(subset='train', remove=('headers', 'footers', 'quotes') , download_if_missing=False, shuffle=True)\n",
        "\n",
        "    df = pd.DataFrame([news_group_data.data, news_group_data.target.tolist()]).T\n",
        "    df.columns = ['text', 'target']\n",
        "\n",
        "    targets = pd.DataFrame( news_group_data.target_names)\n",
        "    targets.columns=['title']\n",
        "\n",
        "    out = pd.merge(df, targets, left_on='target', right_index=True)\n",
        "    out['date'] = pd.to_datetime('now')\n",
        "    out.to_csv('20_newsgroup.csv')\n",
        "    \n",
        "twenty_newsgroup_data_to_csv()\n",
        "\n"
      ],
      "metadata": {
        "id": "uUTjPwBT-XxB"
      },
      "execution_count": 44,
      "outputs": []
    },
    {
      "cell_type": "markdown",
      "source": [
        "Load in Data"
      ],
      "metadata": {
        "id": "qPJhcDP-vUGI"
      }
    },
    {
      "cell_type": "code",
      "source": [
        "#read data from CSV\n",
        "dataset = pd.read_csv('20_newsgroup.csv', delimiter=',')\n",
        "dataset.sample(10)"
      ],
      "metadata": {
        "colab": {
          "base_uri": "https://localhost:8080/",
          "height": 1214
        },
        "id": "ic7uuR9kvkne",
        "outputId": "6c37c186-baa5-47fb-93b4-f6aa76aebdd1"
      },
      "execution_count": 45,
      "outputs": [
        {
          "output_type": "execute_result",
          "data": {
            "text/plain": [
              "       Unnamed: 0                                               text  target  \\\n",
              "10478        5526   ajteel@dendrite.cs.Colorado.EDU (A.J. Teel) w...      18   \n",
              "5748         1887  I have a Sega Genesis (barely used) that IUd l...       6   \n",
              "2204         8934  From the \"JPL Universe\"\\nApril 23, 1993\\n\\nSIR...      14   \n",
              "5178         9497  \\n\\nWhat, a dog weighs 150lb maybe, at max? Yo...       8   \n",
              "8122         4411  This is an all-point team for the Canadian NHL...      10   \n",
              "10863        2705  \\n\\n[ ... ]\\n\\n\\n\\nTalk about adding insult to...      11   \n",
              "2517         3367  OK, here's something for all of those people w...      16   \n",
              "388          7741  in europe you can buy a 525iX, with computer c...       7   \n",
              "10225       10745  \\n\\nThe wars of 1948, 1956, 1967, 1978 were de...      17   \n",
              "8622         2290  There's a lot of whining about how much player...       9   \n",
              "\n",
              "                       title                        date  \n",
              "10478     talk.politics.misc  2022-04-16 01:00:51.301756  \n",
              "5748            misc.forsale  2022-04-16 01:00:51.301756  \n",
              "2204               sci.space  2022-04-16 01:00:51.301756  \n",
              "5178         rec.motorcycles  2022-04-16 01:00:51.301756  \n",
              "8122        rec.sport.hockey  2022-04-16 01:00:51.301756  \n",
              "10863              sci.crypt  2022-04-16 01:00:51.301756  \n",
              "2517      talk.politics.guns  2022-04-16 01:00:51.301756  \n",
              "388                rec.autos  2022-04-16 01:00:51.301756  \n",
              "10225  talk.politics.mideast  2022-04-16 01:00:51.301756  \n",
              "8622      rec.sport.baseball  2022-04-16 01:00:51.301756  "
            ],
            "text/html": [
              "\n",
              "  <div id=\"df-459d047a-73a7-4995-a33d-a906b70321bd\">\n",
              "    <div class=\"colab-df-container\">\n",
              "      <div>\n",
              "<style scoped>\n",
              "    .dataframe tbody tr th:only-of-type {\n",
              "        vertical-align: middle;\n",
              "    }\n",
              "\n",
              "    .dataframe tbody tr th {\n",
              "        vertical-align: top;\n",
              "    }\n",
              "\n",
              "    .dataframe thead th {\n",
              "        text-align: right;\n",
              "    }\n",
              "</style>\n",
              "<table border=\"1\" class=\"dataframe\">\n",
              "  <thead>\n",
              "    <tr style=\"text-align: right;\">\n",
              "      <th></th>\n",
              "      <th>Unnamed: 0</th>\n",
              "      <th>text</th>\n",
              "      <th>target</th>\n",
              "      <th>title</th>\n",
              "      <th>date</th>\n",
              "    </tr>\n",
              "  </thead>\n",
              "  <tbody>\n",
              "    <tr>\n",
              "      <th>10478</th>\n",
              "      <td>5526</td>\n",
              "      <td>ajteel@dendrite.cs.Colorado.EDU (A.J. Teel) w...</td>\n",
              "      <td>18</td>\n",
              "      <td>talk.politics.misc</td>\n",
              "      <td>2022-04-16 01:00:51.301756</td>\n",
              "    </tr>\n",
              "    <tr>\n",
              "      <th>5748</th>\n",
              "      <td>1887</td>\n",
              "      <td>I have a Sega Genesis (barely used) that IUd l...</td>\n",
              "      <td>6</td>\n",
              "      <td>misc.forsale</td>\n",
              "      <td>2022-04-16 01:00:51.301756</td>\n",
              "    </tr>\n",
              "    <tr>\n",
              "      <th>2204</th>\n",
              "      <td>8934</td>\n",
              "      <td>From the \"JPL Universe\"\\nApril 23, 1993\\n\\nSIR...</td>\n",
              "      <td>14</td>\n",
              "      <td>sci.space</td>\n",
              "      <td>2022-04-16 01:00:51.301756</td>\n",
              "    </tr>\n",
              "    <tr>\n",
              "      <th>5178</th>\n",
              "      <td>9497</td>\n",
              "      <td>\\n\\nWhat, a dog weighs 150lb maybe, at max? Yo...</td>\n",
              "      <td>8</td>\n",
              "      <td>rec.motorcycles</td>\n",
              "      <td>2022-04-16 01:00:51.301756</td>\n",
              "    </tr>\n",
              "    <tr>\n",
              "      <th>8122</th>\n",
              "      <td>4411</td>\n",
              "      <td>This is an all-point team for the Canadian NHL...</td>\n",
              "      <td>10</td>\n",
              "      <td>rec.sport.hockey</td>\n",
              "      <td>2022-04-16 01:00:51.301756</td>\n",
              "    </tr>\n",
              "    <tr>\n",
              "      <th>10863</th>\n",
              "      <td>2705</td>\n",
              "      <td>\\n\\n[ ... ]\\n\\n\\n\\nTalk about adding insult to...</td>\n",
              "      <td>11</td>\n",
              "      <td>sci.crypt</td>\n",
              "      <td>2022-04-16 01:00:51.301756</td>\n",
              "    </tr>\n",
              "    <tr>\n",
              "      <th>2517</th>\n",
              "      <td>3367</td>\n",
              "      <td>OK, here's something for all of those people w...</td>\n",
              "      <td>16</td>\n",
              "      <td>talk.politics.guns</td>\n",
              "      <td>2022-04-16 01:00:51.301756</td>\n",
              "    </tr>\n",
              "    <tr>\n",
              "      <th>388</th>\n",
              "      <td>7741</td>\n",
              "      <td>in europe you can buy a 525iX, with computer c...</td>\n",
              "      <td>7</td>\n",
              "      <td>rec.autos</td>\n",
              "      <td>2022-04-16 01:00:51.301756</td>\n",
              "    </tr>\n",
              "    <tr>\n",
              "      <th>10225</th>\n",
              "      <td>10745</td>\n",
              "      <td>\\n\\nThe wars of 1948, 1956, 1967, 1978 were de...</td>\n",
              "      <td>17</td>\n",
              "      <td>talk.politics.mideast</td>\n",
              "      <td>2022-04-16 01:00:51.301756</td>\n",
              "    </tr>\n",
              "    <tr>\n",
              "      <th>8622</th>\n",
              "      <td>2290</td>\n",
              "      <td>There's a lot of whining about how much player...</td>\n",
              "      <td>9</td>\n",
              "      <td>rec.sport.baseball</td>\n",
              "      <td>2022-04-16 01:00:51.301756</td>\n",
              "    </tr>\n",
              "  </tbody>\n",
              "</table>\n",
              "</div>\n",
              "      <button class=\"colab-df-convert\" onclick=\"convertToInteractive('df-459d047a-73a7-4995-a33d-a906b70321bd')\"\n",
              "              title=\"Convert this dataframe to an interactive table.\"\n",
              "              style=\"display:none;\">\n",
              "        \n",
              "  <svg xmlns=\"http://www.w3.org/2000/svg\" height=\"24px\"viewBox=\"0 0 24 24\"\n",
              "       width=\"24px\">\n",
              "    <path d=\"M0 0h24v24H0V0z\" fill=\"none\"/>\n",
              "    <path d=\"M18.56 5.44l.94 2.06.94-2.06 2.06-.94-2.06-.94-.94-2.06-.94 2.06-2.06.94zm-11 1L8.5 8.5l.94-2.06 2.06-.94-2.06-.94L8.5 2.5l-.94 2.06-2.06.94zm10 10l.94 2.06.94-2.06 2.06-.94-2.06-.94-.94-2.06-.94 2.06-2.06.94z\"/><path d=\"M17.41 7.96l-1.37-1.37c-.4-.4-.92-.59-1.43-.59-.52 0-1.04.2-1.43.59L10.3 9.45l-7.72 7.72c-.78.78-.78 2.05 0 2.83L4 21.41c.39.39.9.59 1.41.59.51 0 1.02-.2 1.41-.59l7.78-7.78 2.81-2.81c.8-.78.8-2.07 0-2.86zM5.41 20L4 18.59l7.72-7.72 1.47 1.35L5.41 20z\"/>\n",
              "  </svg>\n",
              "      </button>\n",
              "      \n",
              "  <style>\n",
              "    .colab-df-container {\n",
              "      display:flex;\n",
              "      flex-wrap:wrap;\n",
              "      gap: 12px;\n",
              "    }\n",
              "\n",
              "    .colab-df-convert {\n",
              "      background-color: #E8F0FE;\n",
              "      border: none;\n",
              "      border-radius: 50%;\n",
              "      cursor: pointer;\n",
              "      display: none;\n",
              "      fill: #1967D2;\n",
              "      height: 32px;\n",
              "      padding: 0 0 0 0;\n",
              "      width: 32px;\n",
              "    }\n",
              "\n",
              "    .colab-df-convert:hover {\n",
              "      background-color: #E2EBFA;\n",
              "      box-shadow: 0px 1px 2px rgba(60, 64, 67, 0.3), 0px 1px 3px 1px rgba(60, 64, 67, 0.15);\n",
              "      fill: #174EA6;\n",
              "    }\n",
              "\n",
              "    [theme=dark] .colab-df-convert {\n",
              "      background-color: #3B4455;\n",
              "      fill: #D2E3FC;\n",
              "    }\n",
              "\n",
              "    [theme=dark] .colab-df-convert:hover {\n",
              "      background-color: #434B5C;\n",
              "      box-shadow: 0px 1px 3px 1px rgba(0, 0, 0, 0.15);\n",
              "      filter: drop-shadow(0px 1px 2px rgba(0, 0, 0, 0.3));\n",
              "      fill: #FFFFFF;\n",
              "    }\n",
              "  </style>\n",
              "\n",
              "      <script>\n",
              "        const buttonEl =\n",
              "          document.querySelector('#df-459d047a-73a7-4995-a33d-a906b70321bd button.colab-df-convert');\n",
              "        buttonEl.style.display =\n",
              "          google.colab.kernel.accessAllowed ? 'block' : 'none';\n",
              "\n",
              "        async function convertToInteractive(key) {\n",
              "          const element = document.querySelector('#df-459d047a-73a7-4995-a33d-a906b70321bd');\n",
              "          const dataTable =\n",
              "            await google.colab.kernel.invokeFunction('convertToInteractive',\n",
              "                                                     [key], {});\n",
              "          if (!dataTable) return;\n",
              "\n",
              "          const docLinkHtml = 'Like what you see? Visit the ' +\n",
              "            '<a target=\"_blank\" href=https://colab.research.google.com/notebooks/data_table.ipynb>data table notebook</a>'\n",
              "            + ' to learn more about interactive tables.';\n",
              "          element.innerHTML = '';\n",
              "          dataTable['output_type'] = 'display_data';\n",
              "          await google.colab.output.renderOutput(dataTable, element);\n",
              "          const docLink = document.createElement('div');\n",
              "          docLink.innerHTML = docLinkHtml;\n",
              "          element.appendChild(docLink);\n",
              "        }\n",
              "      </script>\n",
              "    </div>\n",
              "  </div>\n",
              "  "
            ]
          },
          "metadata": {},
          "execution_count": 45
        }
      ]
    },
    {
      "cell_type": "code",
      "source": [
        "# Data Size\n",
        "dataset.dropna(subset = [\"text\"], inplace=True)\n",
        "print(\"The size of the dataset is: \\n\", dataset.count())"
      ],
      "metadata": {
        "colab": {
          "base_uri": "https://localhost:8080/"
        },
        "id": "Uiu24YC1vs6v",
        "outputId": "676397b8-6f39-43b4-cd61-16b7c083f32d"
      },
      "execution_count": 48,
      "outputs": [
        {
          "output_type": "stream",
          "name": "stdout",
          "text": [
            "The size of the dataset is: \n",
            " Unnamed: 0    11096\n",
            "text          11096\n",
            "target        11096\n",
            "title         11096\n",
            "date          11096\n",
            "dtype: int64\n"
          ]
        }
      ]
    },
    {
      "cell_type": "code",
      "source": [
        "#Category Distribution\n",
        "counter = Counter(dataset['title'])\n",
        "topic_names = counter.keys()\n",
        "topic_counts = counter.values()\n",
        "ax = plt.gca()\n",
        "plt.draw()\n",
        "\n",
        "# Plot histogram using matplotlib bar().\n",
        "indexes = np.arange(len(topic_names))\n",
        "width = 0.5\n",
        "plt.bar(indexes, topic_counts, width)\n",
        "\n",
        "ax.set_xticklabels(ax.get_xticks(), rotation = 45)\n",
        "plt.xticks(indexes, topic_names)\n",
        "plt.show()"
      ],
      "metadata": {
        "colab": {
          "base_uri": "https://localhost:8080/",
          "height": 357
        },
        "id": "WwB25DTrCMuf",
        "outputId": "cb990ce2-ebca-48d3-bf4f-81b5a5d3b3fb"
      },
      "execution_count": 75,
      "outputs": [
        {
          "output_type": "display_data",
          "data": {
            "text/plain": [
              "<Figure size 432x288 with 1 Axes>"
            ],
            "image/png": "[encoded data removed]"
          },
          "metadata": {
            "needs_background": "light"
          }
        }
      ]
    },
    {
      "cell_type": "code",
      "source": [
        "print(counter)"
      ],
      "metadata": {
        "colab": {
          "base_uri": "https://localhost:8080/"
        },
        "id": "8dKGYW5aOmHi",
        "outputId": "cc13f77f-4f74-43e8-daf3-2d0b55783a7c"
      },
      "execution_count": 76,
      "outputs": [
        {
          "output_type": "stream",
          "name": "stdout",
          "text": [
            "Counter({'soc.religion.christian': 594, 'comp.windows.x': 592, 'rec.sport.hockey': 590, 'rec.motorcycles': 587, 'comp.sys.ibm.pc.hardware': 584, 'sci.med': 583, 'sci.crypt': 583, 'misc.forsale': 581, 'rec.sport.baseball': 581, 'sci.space': 580, 'sci.electronics': 577, 'comp.os.ms-windows.misc': 576, 'comp.graphics': 572, 'rec.autos': 569, 'comp.sys.mac.hardware': 565, 'talk.politics.mideast': 552, 'talk.politics.guns': 537, 'alt.atheism': 472, 'talk.politics.misc': 458, 'talk.religion.misc': 363})\n"
          ]
        }
      ]
    }
  ]
}