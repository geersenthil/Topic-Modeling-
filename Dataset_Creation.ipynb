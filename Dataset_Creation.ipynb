{
  "nbformat": 4,
  "nbformat_minor": 0,
  "metadata": {
    "colab": {
      "name": "Dataset Creation.ipynb",
      "provenance": [],
      "collapsed_sections": [],
      "authorship_tag": "ABX9TyNuexlPLPvLVCtwksF3umUq",
      "include_colab_link": true
    },
    "kernelspec": {
      "name": "python3",
      "display_name": "Python 3"
    },
    "language_info": {
      "name": "python"
    }
  },
  "cells": [
    {
      "cell_type": "markdown",
      "metadata": {
        "id": "view-in-github",
        "colab_type": "text"
      },
      "source": [
        "<a href=\"https://colab.research.google.com/github/geersenthil/Topic-Modeling-/blob/main/Dataset_Creation.ipynb\" target=\"_parent\"><img src=\"https://colab.research.google.com/assets/colab-badge.svg\" alt=\"Open In Colab\"/></a>"
      ]
    },
    {
      "cell_type": "markdown",
      "source": [
        "Imports and Libraries"
      ],
      "metadata": {
        "id": "IdCf2gcvvIpZ"
      }
    },
    {
      "cell_type": "code",
      "execution_count": null,
      "metadata": {
        "id": "-5ItDlq0vQAh"
      },
      "outputs": [],
      "source": [
        "import pandas as pd\n",
        "import numpy as np\n",
        "import matplotlib.pyplot as plt\n",
        "from collections import Counter\n",
        "\n",
        "#Dataset\n",
        "from sklearn.datasets import fetch_20newsgroups\n",
        "\n",
        "#warnings\n",
        "import warnings\n",
        "warnings.filterwarnings(\"ignore\", category=DeprecationWarning)\n"
      ]
    },
    {
      "cell_type": "markdown",
      "source": [
        "Load Data into CSV"
      ],
      "metadata": {
        "id": "mO8HTig_-gx6"
      }
    },
    {
      "cell_type": "code",
      "source": [
        "#method that converts data to csv file\n",
        "def twenty_newsgroup_data_to_csv():\n",
        "    news_group_data = fetch_20newsgroups(subset='train', remove=('headers', 'footers', 'quotes') ,shuffle=True)\n",
        "\n",
        "    df = (pd.DataFrame([news_group_data.data, news_group_data.target.tolist()]).T).sample(1500)\n",
        "    df.columns = ['text', 'target']\n",
        "\n",
        "    targets = pd.DataFrame( news_group_data.target_names)\n",
        "    targets.columns=['title']\n",
        "\n",
        "    out = pd.merge(df, targets, left_on='target', right_index=True)\n",
        "    out.to_csv('20_newsgroup.csv')\n",
        "twenty_newsgroup_data_to_csv()\n",
        "\n"
      ],
      "metadata": {
        "id": "uUTjPwBT-XxB"
      },
      "execution_count": null,
      "outputs": []
    },
    {
      "cell_type": "markdown",
      "source": [
        "Load in Data"
      ],
      "metadata": {
        "id": "qPJhcDP-vUGI"
      }
    },
    {
      "cell_type": "code",
      "source": [
        "#read data from CSV\n",
        "dataset = pd.read_csv('20_newsgroup.csv', delimiter=',')\n",
        "dataset.sample(10)"
      ],
      "metadata": {
        "colab": {
          "base_uri": "https://localhost:8080/",
          "height": 363
        },
        "id": "ic7uuR9kvkne",
        "outputId": "ade5a79e-56dc-4b9a-acbb-325921ce118d"
      },
      "execution_count": null,
      "outputs": [
        {
          "output_type": "execute_result",
          "data": {
            "text/plain": [
              "      Unnamed: 0                                               text  target  \\\n",
              "1206        9070  \\n\\n\\nNo, he does not.  Arafat explicitly *den...      17   \n",
              "230         5341  Tigers' manager Sparky Anderson gets his 2,000...       9   \n",
              "166         5720  \\nIn fact Adiposity 101 mentions a similar stu...      13   \n",
              "68          1457  wing the suggestion of Stu Lynne, I have poste...       1   \n",
              "317         9811  \\nThere are a couple.  I am personally using s...       2   \n",
              "945         1259  Quoting pmetzger@snark.shearson.com (Perry E. ...      11   \n",
              "941         4899  ...\\n\\nHaven't you read any of Noam Chomsky's ...      11   \n",
              "370         2719  The new name is Florida Panthers.  \\nThe panth...      10   \n",
              "1122        2376  What's the difference between loading mouse.co...       3   \n",
              "1168        1513  It seems that President Clinton can recognize ...      17   \n",
              "\n",
              "                         title  \n",
              "1206     talk.politics.mideast  \n",
              "230         rec.sport.baseball  \n",
              "166                    sci.med  \n",
              "68               comp.graphics  \n",
              "317    comp.os.ms-windows.misc  \n",
              "945                  sci.crypt  \n",
              "941                  sci.crypt  \n",
              "370           rec.sport.hockey  \n",
              "1122  comp.sys.ibm.pc.hardware  \n",
              "1168     talk.politics.mideast  "
            ],
            "text/html": [
              "\n",
              "  <div id=\"df-834792e6-cb81-4e7e-a79e-6fafc7268695\">\n",
              "    <div class=\"colab-df-container\">\n",
              "      <div>\n",
              "<style scoped>\n",
              "    .dataframe tbody tr th:only-of-type {\n",
              "        vertical-align: middle;\n",
              "    }\n",
              "\n",
              "    .dataframe tbody tr th {\n",
              "        vertical-align: top;\n",
              "    }\n",
              "\n",
              "    .dataframe thead th {\n",
              "        text-align: right;\n",
              "    }\n",
              "</style>\n",
              "<table border=\"1\" class=\"dataframe\">\n",
              "  <thead>\n",
              "    <tr style=\"text-align: right;\">\n",
              "      <th></th>\n",
              "      <th>Unnamed: 0</th>\n",
              "      <th>text</th>\n",
              "      <th>target</th>\n",
              "      <th>title</th>\n",
              "    </tr>\n",
              "  </thead>\n",
              "  <tbody>\n",
              "    <tr>\n",
              "      <th>1206</th>\n",
              "      <td>9070</td>\n",
              "      <td>\\n\\n\\nNo, he does not.  Arafat explicitly *den...</td>\n",
              "      <td>17</td>\n",
              "      <td>talk.politics.mideast</td>\n",
              "    </tr>\n",
              "    <tr>\n",
              "      <th>230</th>\n",
              "      <td>5341</td>\n",
              "      <td>Tigers' manager Sparky Anderson gets his 2,000...</td>\n",
              "      <td>9</td>\n",
              "      <td>rec.sport.baseball</td>\n",
              "    </tr>\n",
              "    <tr>\n",
              "      <th>166</th>\n",
              "      <td>5720</td>\n",
              "      <td>\\nIn fact Adiposity 101 mentions a similar stu...</td>\n",
              "      <td>13</td>\n",
              "      <td>sci.med</td>\n",
              "    </tr>\n",
              "    <tr>\n",
              "      <th>68</th>\n",
              "      <td>1457</td>\n",
              "      <td>wing the suggestion of Stu Lynne, I have poste...</td>\n",
              "      <td>1</td>\n",
              "      <td>comp.graphics</td>\n",
              "    </tr>\n",
              "    <tr>\n",
              "      <th>317</th>\n",
              "      <td>9811</td>\n",
              "      <td>\\nThere are a couple.  I am personally using s...</td>\n",
              "      <td>2</td>\n",
              "      <td>comp.os.ms-windows.misc</td>\n",
              "    </tr>\n",
              "    <tr>\n",
              "      <th>945</th>\n",
              "      <td>1259</td>\n",
              "      <td>Quoting pmetzger@snark.shearson.com (Perry E. ...</td>\n",
              "      <td>11</td>\n",
              "      <td>sci.crypt</td>\n",
              "    </tr>\n",
              "    <tr>\n",
              "      <th>941</th>\n",
              "      <td>4899</td>\n",
              "      <td>...\\n\\nHaven't you read any of Noam Chomsky's ...</td>\n",
              "      <td>11</td>\n",
              "      <td>sci.crypt</td>\n",
              "    </tr>\n",
              "    <tr>\n",
              "      <th>370</th>\n",
              "      <td>2719</td>\n",
              "      <td>The new name is Florida Panthers.  \\nThe panth...</td>\n",
              "      <td>10</td>\n",
              "      <td>rec.sport.hockey</td>\n",
              "    </tr>\n",
              "    <tr>\n",
              "      <th>1122</th>\n",
              "      <td>2376</td>\n",
              "      <td>What's the difference between loading mouse.co...</td>\n",
              "      <td>3</td>\n",
              "      <td>comp.sys.ibm.pc.hardware</td>\n",
              "    </tr>\n",
              "    <tr>\n",
              "      <th>1168</th>\n",
              "      <td>1513</td>\n",
              "      <td>It seems that President Clinton can recognize ...</td>\n",
              "      <td>17</td>\n",
              "      <td>talk.politics.mideast</td>\n",
              "    </tr>\n",
              "  </tbody>\n",
              "</table>\n",
              "</div>\n",
              "      <button class=\"colab-df-convert\" onclick=\"convertToInteractive('df-834792e6-cb81-4e7e-a79e-6fafc7268695')\"\n",
              "              title=\"Convert this dataframe to an interactive table.\"\n",
              "              style=\"display:none;\">\n",
              "        \n",
              "  <svg xmlns=\"http://www.w3.org/2000/svg\" height=\"24px\"viewBox=\"0 0 24 24\"\n",
              "       width=\"24px\">\n",
              "    <path d=\"M0 0h24v24H0V0z\" fill=\"none\"/>\n",
              "    <path d=\"M18.56 5.44l.94 2.06.94-2.06 2.06-.94-2.06-.94-.94-2.06-.94 2.06-2.06.94zm-11 1L8.5 8.5l.94-2.06 2.06-.94-2.06-.94L8.5 2.5l-.94 2.06-2.06.94zm10 10l.94 2.06.94-2.06 2.06-.94-2.06-.94-.94-2.06-.94 2.06-2.06.94z\"/><path d=\"M17.41 7.96l-1.37-1.37c-.4-.4-.92-.59-1.43-.59-.52 0-1.04.2-1.43.59L10.3 9.45l-7.72 7.72c-.78.78-.78 2.05 0 2.83L4 21.41c.39.39.9.59 1.41.59.51 0 1.02-.2 1.41-.59l7.78-7.78 2.81-2.81c.8-.78.8-2.07 0-2.86zM5.41 20L4 18.59l7.72-7.72 1.47 1.35L5.41 20z\"/>\n",
              "  </svg>\n",
              "      </button>\n",
              "      \n",
              "  <style>\n",
              "    .colab-df-container {\n",
              "      display:flex;\n",
              "      flex-wrap:wrap;\n",
              "      gap: 12px;\n",
              "    }\n",
              "\n",
              "    .colab-df-convert {\n",
              "      background-color: #E8F0FE;\n",
              "      border: none;\n",
              "      border-radius: 50%;\n",
              "      cursor: pointer;\n",
              "      display: none;\n",
              "      fill: #1967D2;\n",
              "      height: 32px;\n",
              "      padding: 0 0 0 0;\n",
              "      width: 32px;\n",
              "    }\n",
              "\n",
              "    .colab-df-convert:hover {\n",
              "      background-color: #E2EBFA;\n",
              "      box-shadow: 0px 1px 2px rgba(60, 64, 67, 0.3), 0px 1px 3px 1px rgba(60, 64, 67, 0.15);\n",
              "      fill: #174EA6;\n",
              "    }\n",
              "\n",
              "    [theme=dark] .colab-df-convert {\n",
              "      background-color: #3B4455;\n",
              "      fill: #D2E3FC;\n",
              "    }\n",
              "\n",
              "    [theme=dark] .colab-df-convert:hover {\n",
              "      background-color: #434B5C;\n",
              "      box-shadow: 0px 1px 3px 1px rgba(0, 0, 0, 0.15);\n",
              "      filter: drop-shadow(0px 1px 2px rgba(0, 0, 0, 0.3));\n",
              "      fill: #FFFFFF;\n",
              "    }\n",
              "  </style>\n",
              "\n",
              "      <script>\n",
              "        const buttonEl =\n",
              "          document.querySelector('#df-834792e6-cb81-4e7e-a79e-6fafc7268695 button.colab-df-convert');\n",
              "        buttonEl.style.display =\n",
              "          google.colab.kernel.accessAllowed ? 'block' : 'none';\n",
              "\n",
              "        async function convertToInteractive(key) {\n",
              "          const element = document.querySelector('#df-834792e6-cb81-4e7e-a79e-6fafc7268695');\n",
              "          const dataTable =\n",
              "            await google.colab.kernel.invokeFunction('convertToInteractive',\n",
              "                                                     [key], {});\n",
              "          if (!dataTable) return;\n",
              "\n",
              "          const docLinkHtml = 'Like what you see? Visit the ' +\n",
              "            '<a target=\"_blank\" href=https://colab.research.google.com/notebooks/data_table.ipynb>data table notebook</a>'\n",
              "            + ' to learn more about interactive tables.';\n",
              "          element.innerHTML = '';\n",
              "          dataTable['output_type'] = 'display_data';\n",
              "          await google.colab.output.renderOutput(dataTable, element);\n",
              "          const docLink = document.createElement('div');\n",
              "          docLink.innerHTML = docLinkHtml;\n",
              "          element.appendChild(docLink);\n",
              "        }\n",
              "      </script>\n",
              "    </div>\n",
              "  </div>\n",
              "  "
            ]
          },
          "metadata": {},
          "execution_count": 18
        }
      ]
    },
    {
      "cell_type": "code",
      "source": [
        "# Data Size\n",
        "dataset.dropna(subset = [\"text\"], inplace=True)\n",
        "print(\"The size of the dataset is: \\n\", dataset.count())"
      ],
      "metadata": {
        "colab": {
          "base_uri": "https://localhost:8080/"
        },
        "id": "Uiu24YC1vs6v",
        "outputId": "b0176328-867a-4466-d016-3a9370d90f0f"
      },
      "execution_count": null,
      "outputs": [
        {
          "output_type": "stream",
          "name": "stdout",
          "text": [
            "The size of the dataset is: \n",
            " Unnamed: 0    1463\n",
            "text          1463\n",
            "target        1463\n",
            "title         1463\n",
            "dtype: int64\n"
          ]
        }
      ]
    },
    {
      "cell_type": "code",
      "source": [
        "#Category Distribution\n",
        "counter = Counter(dataset['title'])\n",
        "topic_names = counter.keys()\n",
        "topic_counts = counter.values()\n",
        "ax = plt.gca()\n",
        "plt.draw()\n",
        "\n",
        "# Plot histogram using matplotlib bar().\n",
        "indexes = np.arange(len(topic_names))\n",
        "width = 0.5\n",
        "plt.bar(indexes, topic_counts, width)\n",
        "\n",
        "ax.set_xticklabels(ax.get_xticks(), rotation = 45)\n",
        "plt.xticks(indexes, topic_names)\n",
        "plt.show()"
      ],
      "metadata": {
        "colab": {
          "base_uri": "https://localhost:8080/",
          "height": 357
        },
        "id": "WwB25DTrCMuf",
        "outputId": "11da6f55-0f77-4809-f57d-f6393dfa423e"
      },
      "execution_count": null,
      "outputs": [
        {
          "output_type": "display_data",
          "data": {
            "text/plain": [
              "<Figure size 432x288 with 1 Axes>"
            ],
            "image/png": "[encoded data removed]"
          },
          "metadata": {
            "needs_background": "light"
          }
        }
      ]
    },
    {
      "cell_type": "code",
      "source": [
        "print(counter)"
      ],
      "metadata": {
        "colab": {
          "base_uri": "https://localhost:8080/"
        },
        "id": "8dKGYW5aOmHi",
        "outputId": "6e7b9d38-3485-4f02-84f7-633be758adee"
      },
      "execution_count": null,
      "outputs": [
        {
          "output_type": "stream",
          "name": "stdout",
          "text": [
            "Counter({'sci.crypt': 93, 'misc.forsale': 86, 'rec.sport.hockey': 84, 'sci.electronics': 83, 'comp.sys.ibm.pc.hardware': 83, 'sci.space': 78, 'comp.graphics': 77, 'rec.sport.baseball': 75, 'comp.os.ms-windows.misc': 74, 'talk.politics.misc': 74, 'comp.windows.x': 74, 'rec.motorcycles': 73, 'soc.religion.christian': 72, 'talk.politics.mideast': 71, 'rec.autos': 68, 'comp.sys.mac.hardware': 66, 'sci.med': 63, 'talk.politics.guns': 60, 'talk.religion.misc': 57, 'alt.atheism': 52})\n"
          ]
        }
      ]
    }
  ]
}