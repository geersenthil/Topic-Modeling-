{
  "nbformat": 4,
  "nbformat_minor": 0,
  "metadata": {
    "colab": {
      "name": "LDA.ipynb",
      "provenance": [],
      "collapsed_sections": [],
      "authorship_tag": "ABX9TyPP5IP7ETkI5eNov9uPFYfU",
      "include_colab_link": true
    },
    "kernelspec": {
      "name": "python3",
      "display_name": "Python 3"
    },
    "language_info": {
      "name": "python"
    }
  },
  "cells": [
    {
      "cell_type": "markdown",
      "metadata": {
        "id": "view-in-github",
        "colab_type": "text"
      },
      "source": [
        "<a href=\"https://colab.research.google.com/github/geersenthil/Topic-Modeling-/blob/main/LDA.ipynb\" target=\"_parent\"><img src=\"https://colab.research.google.com/assets/colab-badge.svg\" alt=\"Open In Colab\"/></a>"
      ]
    },
    {
      "cell_type": "markdown",
      "source": [
        "Import required libraries"
      ],
      "metadata": {
        "id": "zEgIHqld-YS-"
      }
    },
    {
      "cell_type": "code",
      "source": [
        "pip install pyLDAvis\n"
      ],
      "metadata": {
        "colab": {
          "base_uri": "https://localhost:8080/"
        },
        "id": "_VIzX8GbMz71",
        "outputId": "83f98f8b-a080-4191-8d18-d8bf66c6762b"
      },
      "execution_count": 1,
      "outputs": [
        {
          "output_type": "stream",
          "name": "stdout",
          "text": [
            "Collecting pyLDAvis\n",
            "  Downloading pyLDAvis-3.3.1.tar.gz (1.7 MB)\n",
            "\u001b[?25l\r\u001b[K     |▏                               | 10 kB 27.1 MB/s eta 0:00:01\r\u001b[K     |▍                               | 20 kB 27.0 MB/s eta 0:00:01\r\u001b[K     |▋                               | 30 kB 20.4 MB/s eta 0:00:01\r\u001b[K     |▉                               | 40 kB 17.5 MB/s eta 0:00:01\r\u001b[K     |█                               | 51 kB 10.6 MB/s eta 0:00:01\r\u001b[K     |█▏                              | 61 kB 12.1 MB/s eta 0:00:01\r\u001b[K     |█▍                              | 71 kB 11.3 MB/s eta 0:00:01\r\u001b[K     |█▋                              | 81 kB 11.5 MB/s eta 0:00:01\r\u001b[K     |█▉                              | 92 kB 12.7 MB/s eta 0:00:01\r\u001b[K     |██                              | 102 kB 12.5 MB/s eta 0:00:01\r\u001b[K     |██▏                             | 112 kB 12.5 MB/s eta 0:00:01\r\u001b[K     |██▍                             | 122 kB 12.5 MB/s eta 0:00:01\r\u001b[K     |██▋                             | 133 kB 12.5 MB/s eta 0:00:01\r\u001b[K     |██▊                             | 143 kB 12.5 MB/s eta 0:00:01\r\u001b[K     |███                             | 153 kB 12.5 MB/s eta 0:00:01\r\u001b[K     |███▏                            | 163 kB 12.5 MB/s eta 0:00:01\r\u001b[K     |███▍                            | 174 kB 12.5 MB/s eta 0:00:01\r\u001b[K     |███▋                            | 184 kB 12.5 MB/s eta 0:00:01\r\u001b[K     |███▊                            | 194 kB 12.5 MB/s eta 0:00:01\r\u001b[K     |████                            | 204 kB 12.5 MB/s eta 0:00:01\r\u001b[K     |████▏                           | 215 kB 12.5 MB/s eta 0:00:01\r\u001b[K     |████▍                           | 225 kB 12.5 MB/s eta 0:00:01\r\u001b[K     |████▋                           | 235 kB 12.5 MB/s eta 0:00:01\r\u001b[K     |████▊                           | 245 kB 12.5 MB/s eta 0:00:01\r\u001b[K     |█████                           | 256 kB 12.5 MB/s eta 0:00:01\r\u001b[K     |█████▏                          | 266 kB 12.5 MB/s eta 0:00:01\r\u001b[K     |█████▍                          | 276 kB 12.5 MB/s eta 0:00:01\r\u001b[K     |█████▌                          | 286 kB 12.5 MB/s eta 0:00:01\r\u001b[K     |█████▊                          | 296 kB 12.5 MB/s eta 0:00:01\r\u001b[K     |██████                          | 307 kB 12.5 MB/s eta 0:00:01\r\u001b[K     |██████▏                         | 317 kB 12.5 MB/s eta 0:00:01\r\u001b[K     |██████▍                         | 327 kB 12.5 MB/s eta 0:00:01\r\u001b[K     |██████▌                         | 337 kB 12.5 MB/s eta 0:00:01\r\u001b[K     |██████▊                         | 348 kB 12.5 MB/s eta 0:00:01\r\u001b[K     |███████                         | 358 kB 12.5 MB/s eta 0:00:01\r\u001b[K     |███████▏                        | 368 kB 12.5 MB/s eta 0:00:01\r\u001b[K     |███████▎                        | 378 kB 12.5 MB/s eta 0:00:01\r\u001b[K     |███████▌                        | 389 kB 12.5 MB/s eta 0:00:01\r\u001b[K     |███████▊                        | 399 kB 12.5 MB/s eta 0:00:01\r\u001b[K     |████████                        | 409 kB 12.5 MB/s eta 0:00:01\r\u001b[K     |████████▏                       | 419 kB 12.5 MB/s eta 0:00:01\r\u001b[K     |████████▎                       | 430 kB 12.5 MB/s eta 0:00:01\r\u001b[K     |████████▌                       | 440 kB 12.5 MB/s eta 0:00:01\r\u001b[K     |████████▊                       | 450 kB 12.5 MB/s eta 0:00:01\r\u001b[K     |█████████                       | 460 kB 12.5 MB/s eta 0:00:01\r\u001b[K     |█████████▏                      | 471 kB 12.5 MB/s eta 0:00:01\r\u001b[K     |█████████▎                      | 481 kB 12.5 MB/s eta 0:00:01\r\u001b[K     |█████████▌                      | 491 kB 12.5 MB/s eta 0:00:01\r\u001b[K     |█████████▊                      | 501 kB 12.5 MB/s eta 0:00:01\r\u001b[K     |██████████                      | 512 kB 12.5 MB/s eta 0:00:01\r\u001b[K     |██████████                      | 522 kB 12.5 MB/s eta 0:00:01\r\u001b[K     |██████████▎                     | 532 kB 12.5 MB/s eta 0:00:01\r\u001b[K     |██████████▌                     | 542 kB 12.5 MB/s eta 0:00:01\r\u001b[K     |██████████▊                     | 552 kB 12.5 MB/s eta 0:00:01\r\u001b[K     |███████████                     | 563 kB 12.5 MB/s eta 0:00:01\r\u001b[K     |███████████                     | 573 kB 12.5 MB/s eta 0:00:01\r\u001b[K     |███████████▎                    | 583 kB 12.5 MB/s eta 0:00:01\r\u001b[K     |███████████▌                    | 593 kB 12.5 MB/s eta 0:00:01\r\u001b[K     |███████████▊                    | 604 kB 12.5 MB/s eta 0:00:01\r\u001b[K     |███████████▉                    | 614 kB 12.5 MB/s eta 0:00:01\r\u001b[K     |████████████                    | 624 kB 12.5 MB/s eta 0:00:01\r\u001b[K     |████████████▎                   | 634 kB 12.5 MB/s eta 0:00:01\r\u001b[K     |████████████▌                   | 645 kB 12.5 MB/s eta 0:00:01\r\u001b[K     |████████████▊                   | 655 kB 12.5 MB/s eta 0:00:01\r\u001b[K     |████████████▉                   | 665 kB 12.5 MB/s eta 0:00:01\r\u001b[K     |█████████████                   | 675 kB 12.5 MB/s eta 0:00:01\r\u001b[K     |█████████████▎                  | 686 kB 12.5 MB/s eta 0:00:01\r\u001b[K     |█████████████▌                  | 696 kB 12.5 MB/s eta 0:00:01\r\u001b[K     |█████████████▊                  | 706 kB 12.5 MB/s eta 0:00:01\r\u001b[K     |█████████████▉                  | 716 kB 12.5 MB/s eta 0:00:01\r\u001b[K     |██████████████                  | 727 kB 12.5 MB/s eta 0:00:01\r\u001b[K     |██████████████▎                 | 737 kB 12.5 MB/s eta 0:00:01\r\u001b[K     |██████████████▌                 | 747 kB 12.5 MB/s eta 0:00:01\r\u001b[K     |██████████████▋                 | 757 kB 12.5 MB/s eta 0:00:01\r\u001b[K     |██████████████▉                 | 768 kB 12.5 MB/s eta 0:00:01\r\u001b[K     |███████████████                 | 778 kB 12.5 MB/s eta 0:00:01\r\u001b[K     |███████████████▎                | 788 kB 12.5 MB/s eta 0:00:01\r\u001b[K     |███████████████▌                | 798 kB 12.5 MB/s eta 0:00:01\r\u001b[K     |███████████████▋                | 808 kB 12.5 MB/s eta 0:00:01\r\u001b[K     |███████████████▉                | 819 kB 12.5 MB/s eta 0:00:01\r\u001b[K     |████████████████                | 829 kB 12.5 MB/s eta 0:00:01\r\u001b[K     |████████████████▎               | 839 kB 12.5 MB/s eta 0:00:01\r\u001b[K     |████████████████▍               | 849 kB 12.5 MB/s eta 0:00:01\r\u001b[K     |████████████████▋               | 860 kB 12.5 MB/s eta 0:00:01\r\u001b[K     |████████████████▉               | 870 kB 12.5 MB/s eta 0:00:01\r\u001b[K     |█████████████████               | 880 kB 12.5 MB/s eta 0:00:01\r\u001b[K     |█████████████████▎              | 890 kB 12.5 MB/s eta 0:00:01\r\u001b[K     |█████████████████▍              | 901 kB 12.5 MB/s eta 0:00:01\r\u001b[K     |█████████████████▋              | 911 kB 12.5 MB/s eta 0:00:01\r\u001b[K     |█████████████████▉              | 921 kB 12.5 MB/s eta 0:00:01\r\u001b[K     |██████████████████              | 931 kB 12.5 MB/s eta 0:00:01\r\u001b[K     |██████████████████▎             | 942 kB 12.5 MB/s eta 0:00:01\r\u001b[K     |██████████████████▍             | 952 kB 12.5 MB/s eta 0:00:01\r\u001b[K     |██████████████████▋             | 962 kB 12.5 MB/s eta 0:00:01\r\u001b[K     |██████████████████▉             | 972 kB 12.5 MB/s eta 0:00:01\r\u001b[K     |███████████████████             | 983 kB 12.5 MB/s eta 0:00:01\r\u001b[K     |███████████████████▏            | 993 kB 12.5 MB/s eta 0:00:01\r\u001b[K     |███████████████████▍            | 1.0 MB 12.5 MB/s eta 0:00:01\r\u001b[K     |███████████████████▋            | 1.0 MB 12.5 MB/s eta 0:00:01\r\u001b[K     |███████████████████▉            | 1.0 MB 12.5 MB/s eta 0:00:01\r\u001b[K     |████████████████████            | 1.0 MB 12.5 MB/s eta 0:00:01\r\u001b[K     |████████████████████▏           | 1.0 MB 12.5 MB/s eta 0:00:01\r\u001b[K     |████████████████████▍           | 1.1 MB 12.5 MB/s eta 0:00:01\r\u001b[K     |████████████████████▋           | 1.1 MB 12.5 MB/s eta 0:00:01\r\u001b[K     |████████████████████▉           | 1.1 MB 12.5 MB/s eta 0:00:01\r\u001b[K     |█████████████████████           | 1.1 MB 12.5 MB/s eta 0:00:01\r\u001b[K     |█████████████████████▏          | 1.1 MB 12.5 MB/s eta 0:00:01\r\u001b[K     |█████████████████████▍          | 1.1 MB 12.5 MB/s eta 0:00:01\r\u001b[K     |█████████████████████▋          | 1.1 MB 12.5 MB/s eta 0:00:01\r\u001b[K     |█████████████████████▉          | 1.1 MB 12.5 MB/s eta 0:00:01\r\u001b[K     |██████████████████████          | 1.1 MB 12.5 MB/s eta 0:00:01\r\u001b[K     |██████████████████████▏         | 1.1 MB 12.5 MB/s eta 0:00:01\r\u001b[K     |██████████████████████▍         | 1.2 MB 12.5 MB/s eta 0:00:01\r\u001b[K     |██████████████████████▋         | 1.2 MB 12.5 MB/s eta 0:00:01\r\u001b[K     |██████████████████████▉         | 1.2 MB 12.5 MB/s eta 0:00:01\r\u001b[K     |███████████████████████         | 1.2 MB 12.5 MB/s eta 0:00:01\r\u001b[K     |███████████████████████▏        | 1.2 MB 12.5 MB/s eta 0:00:01\r\u001b[K     |███████████████████████▍        | 1.2 MB 12.5 MB/s eta 0:00:01\r\u001b[K     |███████████████████████▋        | 1.2 MB 12.5 MB/s eta 0:00:01\r\u001b[K     |███████████████████████▊        | 1.2 MB 12.5 MB/s eta 0:00:01\r\u001b[K     |████████████████████████        | 1.2 MB 12.5 MB/s eta 0:00:01\r\u001b[K     |████████████████████████▏       | 1.2 MB 12.5 MB/s eta 0:00:01\r\u001b[K     |████████████████████████▍       | 1.3 MB 12.5 MB/s eta 0:00:01\r\u001b[K     |████████████████████████▋       | 1.3 MB 12.5 MB/s eta 0:00:01\r\u001b[K     |████████████████████████▊       | 1.3 MB 12.5 MB/s eta 0:00:01\r\u001b[K     |█████████████████████████       | 1.3 MB 12.5 MB/s eta 0:00:01\r\u001b[K     |█████████████████████████▏      | 1.3 MB 12.5 MB/s eta 0:00:01\r\u001b[K     |█████████████████████████▍      | 1.3 MB 12.5 MB/s eta 0:00:01\r\u001b[K     |█████████████████████████▌      | 1.3 MB 12.5 MB/s eta 0:00:01\r\u001b[K     |█████████████████████████▊      | 1.3 MB 12.5 MB/s eta 0:00:01\r\u001b[K     |██████████████████████████      | 1.3 MB 12.5 MB/s eta 0:00:01\r\u001b[K     |██████████████████████████▏     | 1.4 MB 12.5 MB/s eta 0:00:01\r\u001b[K     |██████████████████████████▍     | 1.4 MB 12.5 MB/s eta 0:00:01\r\u001b[K     |██████████████████████████▌     | 1.4 MB 12.5 MB/s eta 0:00:01\r\u001b[K     |██████████████████████████▊     | 1.4 MB 12.5 MB/s eta 0:00:01\r\u001b[K     |███████████████████████████     | 1.4 MB 12.5 MB/s eta 0:00:01\r\u001b[K     |███████████████████████████▏    | 1.4 MB 12.5 MB/s eta 0:00:01\r\u001b[K     |███████████████████████████▍    | 1.4 MB 12.5 MB/s eta 0:00:01\r\u001b[K     |███████████████████████████▌    | 1.4 MB 12.5 MB/s eta 0:00:01\r\u001b[K     |███████████████████████████▊    | 1.4 MB 12.5 MB/s eta 0:00:01\r\u001b[K     |████████████████████████████    | 1.4 MB 12.5 MB/s eta 0:00:01\r\u001b[K     |████████████████████████████▏   | 1.5 MB 12.5 MB/s eta 0:00:01\r\u001b[K     |████████████████████████████▎   | 1.5 MB 12.5 MB/s eta 0:00:01\r\u001b[K     |████████████████████████████▌   | 1.5 MB 12.5 MB/s eta 0:00:01\r\u001b[K     |████████████████████████████▊   | 1.5 MB 12.5 MB/s eta 0:00:01\r\u001b[K     |█████████████████████████████   | 1.5 MB 12.5 MB/s eta 0:00:01\r\u001b[K     |█████████████████████████████▏  | 1.5 MB 12.5 MB/s eta 0:00:01\r\u001b[K     |█████████████████████████████▎  | 1.5 MB 12.5 MB/s eta 0:00:01\r\u001b[K     |█████████████████████████████▌  | 1.5 MB 12.5 MB/s eta 0:00:01\r\u001b[K     |█████████████████████████████▊  | 1.5 MB 12.5 MB/s eta 0:00:01\r\u001b[K     |██████████████████████████████  | 1.5 MB 12.5 MB/s eta 0:00:01\r\u001b[K     |██████████████████████████████▏ | 1.6 MB 12.5 MB/s eta 0:00:01\r\u001b[K     |██████████████████████████████▎ | 1.6 MB 12.5 MB/s eta 0:00:01\r\u001b[K     |██████████████████████████████▌ | 1.6 MB 12.5 MB/s eta 0:00:01\r\u001b[K     |██████████████████████████████▊ | 1.6 MB 12.5 MB/s eta 0:00:01\r\u001b[K     |███████████████████████████████ | 1.6 MB 12.5 MB/s eta 0:00:01\r\u001b[K     |███████████████████████████████ | 1.6 MB 12.5 MB/s eta 0:00:01\r\u001b[K     |███████████████████████████████▎| 1.6 MB 12.5 MB/s eta 0:00:01\r\u001b[K     |███████████████████████████████▌| 1.6 MB 12.5 MB/s eta 0:00:01\r\u001b[K     |███████████████████████████████▊| 1.6 MB 12.5 MB/s eta 0:00:01\r\u001b[K     |████████████████████████████████| 1.6 MB 12.5 MB/s eta 0:00:01\r\u001b[K     |████████████████████████████████| 1.7 MB 12.5 MB/s \n",
            "\u001b[?25h  Installing build dependencies ... \u001b[?25l\u001b[?25hdone\n",
            "  Getting requirements to build wheel ... \u001b[?25l\u001b[?25hdone\n",
            "  Installing backend dependencies ... \u001b[?25l\u001b[?25hdone\n",
            "    Preparing wheel metadata ... \u001b[?25l\u001b[?25hdone\n",
            "Requirement already satisfied: scipy in /usr/local/lib/python3.7/dist-packages (from pyLDAvis) (1.4.1)\n",
            "Requirement already satisfied: scikit-learn in /usr/local/lib/python3.7/dist-packages (from pyLDAvis) (1.0.2)\n",
            "Requirement already satisfied: joblib in /usr/local/lib/python3.7/dist-packages (from pyLDAvis) (1.1.0)\n",
            "Requirement already satisfied: gensim in /usr/local/lib/python3.7/dist-packages (from pyLDAvis) (3.6.0)\n",
            "Requirement already satisfied: numpy>=1.20.0 in /usr/local/lib/python3.7/dist-packages (from pyLDAvis) (1.21.5)\n",
            "Requirement already satisfied: jinja2 in /usr/local/lib/python3.7/dist-packages (from pyLDAvis) (2.11.3)\n",
            "Requirement already satisfied: numexpr in /usr/local/lib/python3.7/dist-packages (from pyLDAvis) (2.8.1)\n",
            "Requirement already satisfied: sklearn in /usr/local/lib/python3.7/dist-packages (from pyLDAvis) (0.0)\n",
            "Requirement already satisfied: pandas>=1.2.0 in /usr/local/lib/python3.7/dist-packages (from pyLDAvis) (1.3.5)\n",
            "Requirement already satisfied: future in /usr/local/lib/python3.7/dist-packages (from pyLDAvis) (0.16.0)\n",
            "Requirement already satisfied: setuptools in /usr/local/lib/python3.7/dist-packages (from pyLDAvis) (57.4.0)\n",
            "Collecting funcy\n",
            "  Downloading funcy-1.17-py2.py3-none-any.whl (33 kB)\n",
            "Requirement already satisfied: pytz>=2017.3 in /usr/local/lib/python3.7/dist-packages (from pandas>=1.2.0->pyLDAvis) (2018.9)\n",
            "Requirement already satisfied: python-dateutil>=2.7.3 in /usr/local/lib/python3.7/dist-packages (from pandas>=1.2.0->pyLDAvis) (2.8.2)\n",
            "Requirement already satisfied: six>=1.5 in /usr/local/lib/python3.7/dist-packages (from python-dateutil>=2.7.3->pandas>=1.2.0->pyLDAvis) (1.15.0)\n",
            "Requirement already satisfied: smart-open>=1.2.1 in /usr/local/lib/python3.7/dist-packages (from gensim->pyLDAvis) (5.2.1)\n",
            "Requirement already satisfied: MarkupSafe>=0.23 in /usr/local/lib/python3.7/dist-packages (from jinja2->pyLDAvis) (2.0.1)\n",
            "Requirement already satisfied: packaging in /usr/local/lib/python3.7/dist-packages (from numexpr->pyLDAvis) (21.3)\n",
            "Requirement already satisfied: pyparsing!=3.0.5,>=2.0.2 in /usr/local/lib/python3.7/dist-packages (from packaging->numexpr->pyLDAvis) (3.0.8)\n",
            "Requirement already satisfied: threadpoolctl>=2.0.0 in /usr/local/lib/python3.7/dist-packages (from scikit-learn->pyLDAvis) (3.1.0)\n",
            "Building wheels for collected packages: pyLDAvis\n",
            "  Building wheel for pyLDAvis (PEP 517) ... \u001b[?25l\u001b[?25hdone\n",
            "  Created wheel for pyLDAvis: filename=pyLDAvis-3.3.1-py2.py3-none-any.whl size=136898 sha256=e07c4ca4084d64a3d889ccdc74c3e1ae2646cfca29f766e9d56e79d65dba4a37\n",
            "  Stored in directory: /root/.cache/pip/wheels/c9/21/f6/17bcf2667e8a68532ba2fbf6d5c72fdf4c7f7d9abfa4852d2f\n",
            "Successfully built pyLDAvis\n",
            "Installing collected packages: funcy, pyLDAvis\n",
            "Successfully installed funcy-1.17 pyLDAvis-3.3.1\n"
          ]
        }
      ]
    },
    {
      "cell_type": "code",
      "execution_count": 38,
      "metadata": {
        "id": "-5ItDlq0vQAh",
        "colab": {
          "base_uri": "https://localhost:8080/"
        },
        "outputId": "38781814-44d5-4799-dbd1-b863f4c201bc"
      },
      "outputs": [
        {
          "output_type": "stream",
          "name": "stdout",
          "text": [
            "[nltk_data] Downloading package stopwords to /root/nltk_data...\n",
            "[nltk_data]   Package stopwords is already up-to-date!\n"
          ]
        }
      ],
      "source": [
        "import re\n",
        "import pandas as pd\n",
        "import numpy as np\n",
        "import json\n",
        "import glob\n",
        "\n",
        "#Gensim\n",
        "import gensim\n",
        "import gensim.corpora as corpora\n",
        "from gensim.utils import simple_preprocess\n",
        "from gensim.models import CoherenceModel\n",
        "from gensim.parsing import strip_tags, strip_numeric, strip_multiple_whitespaces, stem_text, strip_punctuation, remove_stopwords\n",
        "from gensim.parsing import preprocess_string\n",
        "\n",
        "\n",
        "#for histogram\n",
        "import matplotlib.pyplot as plt\n",
        "from collections import Counter\n",
        "\n",
        "#nltk\n",
        "import nltk\n",
        "nltk.download('stopwords')\n",
        "from nltk.corpus import stopwords\n",
        "\n",
        "\n",
        "#Dataset\n",
        "from sklearn.datasets import fetch_20newsgroups\n",
        "\n",
        "#Spacy\n",
        "import spacy\n",
        "nlp = spacy.load('en_core_web_sm')\n",
        "\n",
        "#Visuals\n",
        "import pyLDAvis\n",
        "import pyLDAvis.gensim_models\n",
        "\n",
        "#warnings\n",
        "import warnings\n",
        "warnings.filterwarnings(\"ignore\", category=DeprecationWarning)\n"
      ]
    },
    {
      "cell_type": "markdown",
      "source": [
        "## Load Data into Dataframe"
      ],
      "metadata": {
        "id": "mO8HTig_-gx6"
      }
    },
    {
      "cell_type": "code",
      "source": [
        "#method that converts data to csv file\n",
        "def twenty_newsgroup_data_to_csv():\n",
        "    news_group_data = fetch_20newsgroups(subset='train', remove=('headers', 'footers', 'quotes') ,shuffle=True)\n",
        "\n",
        "    df = (pd.DataFrame([news_group_data.data, news_group_data.target.tolist()]).T).sample(1500)\n",
        "    df.columns = ['text', 'target']\n",
        "\n",
        "    targets = pd.DataFrame( news_group_data.target_names)\n",
        "    targets.columns=['title']\n",
        "\n",
        "    out = pd.merge(df, targets, left_on='target', right_index=True)\n",
        "    out.to_csv('20_newsgroup.csv')\n",
        "twenty_newsgroup_data_to_csv()\n"
      ],
      "metadata": {
        "id": "1QF5Of8VlzvK"
      },
      "execution_count": 72,
      "outputs": []
    },
    {
      "cell_type": "code",
      "source": [
        "#read data from CSV\n",
        "dataset = pd.read_csv('20_newsgroup.csv', delimiter=',')\n",
        "dataset.dropna(subset = [\"text\"], inplace=True)\n",
        "    \n",
        "\n"
      ],
      "metadata": {
        "id": "k91oxhMqDhS6"
      },
      "execution_count": 73,
      "outputs": []
    },
    {
      "cell_type": "code",
      "source": [
        "# Data Size\n",
        "print(\"The size of the dataset is: \\n\", dataset.count())"
      ],
      "metadata": {
        "id": "kdXeWRd_nkSS",
        "colab": {
          "base_uri": "https://localhost:8080/"
        },
        "outputId": "61eaa1df-c48a-4c9b-d880-523c9b6bccc6"
      },
      "execution_count": 74,
      "outputs": [
        {
          "output_type": "stream",
          "name": "stdout",
          "text": [
            "The size of the dataset is: \n",
            " Unnamed: 0    1471\n",
            "text          1471\n",
            "target        1471\n",
            "title         1471\n",
            "dtype: int64\n"
          ]
        }
      ]
    },
    {
      "cell_type": "code",
      "source": [
        "#Category Distribution\n",
        "counter = Counter(dataset['title'])\n",
        "topic_names = counter.keys()\n",
        "topic_counts = counter.values()\n",
        "ax = plt.gca()\n",
        "plt.draw()\n",
        "\n",
        "# Plot histogram using matplotlib bar().\n",
        "indexes = np.arange(len(topic_names))\n",
        "width = 0.5\n",
        "plt.bar(indexes, topic_counts, width)\n",
        "\n",
        "ax.set_xticklabels(ax.get_xticks(), rotation = 45)\n",
        "plt.xticks(indexes, topic_names)\n",
        "plt.show()"
      ],
      "metadata": {
        "colab": {
          "base_uri": "https://localhost:8080/",
          "height": 356
        },
        "id": "ZOjXmwehmhzn",
        "outputId": "1be6606a-0b4b-4c2c-d211-9abd3e609c5f"
      },
      "execution_count": 75,
      "outputs": [
        {
          "output_type": "display_data",
          "data": {
            "text/plain": [
              "<Figure size 432x288 with 1 Axes>"
            ],
            "image/png": "[encoded data removed]"
          },
          "metadata": {
            "needs_background": "light"
          }
        }
      ]
    },
    {
      "cell_type": "code",
      "source": [
        "print(counter)"
      ],
      "metadata": {
        "colab": {
          "base_uri": "https://localhost:8080/"
        },
        "id": "SsgN0Othv407",
        "outputId": "ca214179-bab2-427c-9b7c-3e9d58694d45"
      },
      "execution_count": 76,
      "outputs": [
        {
          "output_type": "stream",
          "name": "stdout",
          "text": [
            "Counter({'sci.crypt': 90, 'comp.windows.x': 88, 'sci.med': 84, 'comp.sys.ibm.pc.hardware': 83, 'soc.religion.christian': 83, 'comp.graphics': 77, 'sci.space': 77, 'comp.os.ms-windows.misc': 74, 'rec.motorcycles': 74, 'rec.autos': 74, 'rec.sport.hockey': 73, 'misc.forsale': 73, 'alt.atheism': 72, 'talk.politics.guns': 72, 'comp.sys.mac.hardware': 70, 'rec.sport.baseball': 68, 'talk.politics.mideast': 68, 'sci.electronics': 66, 'talk.politics.misc': 60, 'talk.religion.misc': 45})\n"
          ]
        }
      ]
    },
    {
      "cell_type": "markdown",
      "source": [
        "### Pre-process data"
      ],
      "metadata": {
        "id": "POkZSmLwORV5"
      }
    },
    {
      "cell_type": "markdown",
      "source": [
        "Lemmatization to get base words"
      ],
      "metadata": {
        "id": "PwPmkSb8bDV9"
      }
    },
    {
      "cell_type": "code",
      "source": [
        "def lemmatization(texts, allowed_postags=[\"NOUN\",\"ADJ\",\"VERB\",\"ADV\"]):\n",
        "  nlp = spacy.load('en_core_web_sm', disable=[\"parser\", \"ner\"])\n",
        "  texts_out = []\n",
        "  for text in texts:\n",
        "    doc = nlp(text)\n",
        "    new_text = []\n",
        "    for token in doc:\n",
        "        if token.pos_ in allowed_postags:\n",
        "            new_text.append(token.lemma_)\n",
        "    final = \" \".join(new_text)\n",
        "    texts_out.append(final)\n",
        "  return (texts_out)\n",
        " "
      ],
      "metadata": {
        "id": "S6HFH2FGbCDf"
      },
      "execution_count": 77,
      "outputs": []
    },
    {
      "cell_type": "code",
      "source": [
        "dataset['news_cleaned_text']=lemmatization(dataset['text'])\n"
      ],
      "metadata": {
        "id": "fG6EMSaW0UL5"
      },
      "execution_count": 78,
      "outputs": []
    },
    {
      "cell_type": "code",
      "source": [
        "print(dataset.head())\n"
      ],
      "metadata": {
        "id": "jHGRCfqi48Xf",
        "colab": {
          "base_uri": "https://localhost:8080/"
        },
        "outputId": "8410a5fa-8a64-42b6-ef28-9087bfc4df79"
      },
      "execution_count": 79,
      "outputs": [
        {
          "output_type": "stream",
          "name": "stdout",
          "text": [
            "   Unnamed: 0                                               text  target  \\\n",
            "0        3292  \\nNo flames please, but I picked up this discu...      12   \n",
            "1        9542  I got a question from my dad which I really ca...      12   \n",
            "2        8049  \\nFor some reason the name Grayhill springs to...      12   \n",
            "3        9547  \\nGee, I got the idea from somewhere that devi...      12   \n",
            "4        6161                  I'll bet there's a runway nearby.      12   \n",
            "\n",
            "             title                                  news_cleaned_text  \n",
            "0  sci.electronics  flame pick discussion bit late really curious ...  \n",
            "1  sci.electronics  get question dad really can answer would appre...  \n",
            "2  sci.electronics  reason name spring mind see catalog option cus...  \n",
            "3  sci.electronics  get idea somewhere device common use commander...  \n",
            "4  sci.electronics                             will bet runway nearby  \n"
          ]
        }
      ]
    },
    {
      "cell_type": "markdown",
      "source": [
        "Remove Stopwords"
      ],
      "metadata": {
        "id": "wmcinLVzwH8K"
      }
    },
    {
      "cell_type": "code",
      "source": [
        "stop_words = stopwords.words('english')\n",
        "print(len(stop_words))\n",
        "stop_words.extend(['from', 'subject', 're', 'edu', 'use','cdw','would','line','article'])\n",
        "print(len(stop_words))"
      ],
      "metadata": {
        "colab": {
          "base_uri": "https://localhost:8080/"
        },
        "id": "KbKsEajGMYmL",
        "outputId": "d2e2f89b-06f6-42a0-9cee-434942e46ca5"
      },
      "execution_count": 70,
      "outputs": [
        {
          "output_type": "stream",
          "name": "stdout",
          "text": [
            "179\n",
            "188\n"
          ]
        }
      ]
    },
    {
      "cell_type": "code",
      "source": [
        "#tokenize\n",
        "def gen_words(texts):\n",
        "  final = []\n",
        "\n",
        "  for text in texts:\n",
        "    new = gensim.utils.simple_preprocess(text, deacc=True)\n",
        "    for w in new:\n",
        "      if w in stop_words:\n",
        "        new.remove(w)\n",
        "    final.append(new)\n",
        "  return (final)\n",
        "dataset['news_tokens']=gen_words(dataset['news_cleaned_text'])\n"
      ],
      "metadata": {
        "id": "exZkFdeXnOvl"
      },
      "execution_count": 80,
      "outputs": []
    },
    {
      "cell_type": "code",
      "source": [
        "print(dataset.head())"
      ],
      "metadata": {
        "id": "gsMJL80923NM",
        "colab": {
          "base_uri": "https://localhost:8080/"
        },
        "outputId": "a61536dd-3ce2-49e1-ff0e-f1d6b784bc24"
      },
      "execution_count": 81,
      "outputs": [
        {
          "output_type": "stream",
          "name": "stdout",
          "text": [
            "   Unnamed: 0                                               text  target  \\\n",
            "0        3292  \\nNo flames please, but I picked up this discu...      12   \n",
            "1        9542  I got a question from my dad which I really ca...      12   \n",
            "2        8049  \\nFor some reason the name Grayhill springs to...      12   \n",
            "3        9547  \\nGee, I got the idea from somewhere that devi...      12   \n",
            "4        6161                  I'll bet there's a runway nearby.      12   \n",
            "\n",
            "             title                                  news_cleaned_text  \\\n",
            "0  sci.electronics  flame pick discussion bit late really curious ...   \n",
            "1  sci.electronics  get question dad really can answer would appre...   \n",
            "2  sci.electronics  reason name spring mind see catalog option cus...   \n",
            "3  sci.electronics  get idea somewhere device common use commander...   \n",
            "4  sci.electronics                             will bet runway nearby   \n",
            "\n",
            "                                         news_tokens  \n",
            "0  [flame, pick, discussion, bit, late, really, c...  \n",
            "1  [get, question, dad, really, answer, appreciat...  \n",
            "2  [reason, name, spring, mind, see, catalog, opt...  \n",
            "3  [get, idea, somewhere, device, common, command...  \n",
            "4                              [bet, runway, nearby]  \n"
          ]
        }
      ]
    },
    {
      "cell_type": "markdown",
      "source": [
        "## Bag of words"
      ],
      "metadata": {
        "id": "H-s7zzbaD6MK"
      }
    },
    {
      "cell_type": "code",
      "source": [
        "#id2word\n",
        "data_word = dataset['news_tokens']\n",
        "id2word = corpora.Dictionary(data_word)\n",
        "corpus = []\n",
        "for text in data_word:\n",
        "  new = id2word.doc2bow(text)\n",
        "  corpus.append(new)\n",
        "\n",
        "#id and frequency of word\n",
        "print (\"Dictionary for doc 9\" ,corpus[9])\n",
        "print (\"Dictionary for doc 176\" ,corpus[176])\n"
      ],
      "metadata": {
        "colab": {
          "base_uri": "https://localhost:8080/"
        },
        "id": "vb2t1uFVus6w",
        "outputId": "4057ce70-10b2-44a0-f034-a88b5e9f7b55"
      },
      "execution_count": 143,
      "outputs": [
        {
          "output_type": "stream",
          "name": "stdout",
          "text": [
            "Dictionary for doc 7 [(37, 1), (96, 1), (280, 1), (281, 1), (282, 1), (283, 1), (284, 1), (285, 1), (286, 1), (287, 1), (288, 1), (289, 1), (290, 1), (291, 1), (292, 2), (293, 1), (294, 1), (295, 1), (296, 1), (297, 1), (298, 1), (299, 1), (300, 1), (301, 1), (302, 1), (303, 1), (304, 1), (305, 1)]\n",
            "Dictionary for doc 176 [(44, 1), (59, 1), (96, 1), (294, 1), (298, 1), (313, 1), (426, 1), (549, 1), (610, 1), (620, 1), (946, 1), (1036, 1), (2588, 1), (2724, 1), (2725, 1), (2726, 1)]\n"
          ]
        }
      ]
    },
    {
      "cell_type": "code",
      "source": [
        "word = id2word[298]\n",
        "print(word)"
      ],
      "metadata": {
        "colab": {
          "base_uri": "https://localhost:8080/"
        },
        "id": "5liR2hg9wDPk",
        "outputId": "7d8568d4-a990-418e-9070-796f49a04182"
      },
      "execution_count": 146,
      "outputs": [
        {
          "output_type": "stream",
          "name": "stdout",
          "text": [
            "recall\n"
          ]
        }
      ]
    },
    {
      "cell_type": "markdown",
      "source": [
        "## Build LDA Model"
      ],
      "metadata": {
        "id": "nq8EM6wkKRnS"
      }
    },
    {
      "cell_type": "code",
      "source": [
        "lda_model = gensim.models.ldamodel.LdaModel(corpus=corpus[:-1], id2word = id2word, num_topics = 20, random_state = 100, update_every=1, chunksize=100, passes = 10, alpha=\"auto\")"
      ],
      "metadata": {
        "id": "Qmu3YMYRwZ1a"
      },
      "execution_count": 151,
      "outputs": []
    },
    {
      "cell_type": "code",
      "source": [
        "test_doc = corpus[-1]\n",
        "vector = lda_model[test_doc]\n",
        "print(vector)\n",
        "\n",
        "# sort by match f\n",
        "def Sort(sub_li):\n",
        "  sub_li.sort(key = lambda x: x[1])\n",
        "  sub_li.reverse()\n",
        "  return(sub_li)\n",
        "new_vector = Sort(vector)\n",
        "print(new_vector)\n",
        "\n"
      ],
      "metadata": {
        "colab": {
          "base_uri": "https://localhost:8080/"
        },
        "id": "LMN_aOKK0UUL",
        "outputId": "80e1338b-7d2a-4593-c0f5-f99b9bf7f2b8"
      },
      "execution_count": 152,
      "outputs": [
        {
          "output_type": "stream",
          "name": "stdout",
          "text": [
            "[(0, 0.044190012), (1, 0.055698104), (2, 0.012072348), (4, 0.039845243), (5, 0.11031731), (6, 0.08834165), (7, 0.20973796), (9, 0.11441303), (11, 0.1858238), (12, 0.03087611), (13, 0.010315255), (16, 0.017091902), (18, 0.015008173), (19, 0.022420712)]\n",
            "[(7, 0.20973796), (11, 0.1858238), (9, 0.11441303), (5, 0.11031731), (6, 0.08834165), (1, 0.055698104), (0, 0.044190012), (4, 0.039845243), (12, 0.03087611), (19, 0.022420712), (16, 0.017091902), (18, 0.015008173), (2, 0.012072348), (13, 0.010315255)]\n"
          ]
        }
      ]
    },
    {
      "cell_type": "markdown",
      "source": [
        "## Visualise Data"
      ],
      "metadata": {
        "id": "mtMNZtx_jdt4"
      }
    },
    {
      "cell_type": "code",
      "source": [
        "pyLDAvis.enable_notebook()\n",
        "vis = pyLDAvis.gensim_models.prepare(lda_model, corpus, id2word, mds=\"mmds\", R=10)\n",
        "vis"
      ],
      "metadata": {
        "colab": {
          "base_uri": "https://localhost:8080/",
          "height": 898
        },
        "id": "U1O4ZK6SxZ99",
        "outputId": "ee64aa1b-04fa-409a-ade2-7dad2f0ef4fb"
      },
      "execution_count": 153,
      "outputs": [
        {
          "output_type": "stream",
          "name": "stderr",
          "text": [
            "/usr/local/lib/python3.7/dist-packages/pyLDAvis/_prepare.py:247: FutureWarning: In a future version of pandas all arguments of DataFrame.drop except for the argument 'labels' will be keyword-only\n",
            "  by='saliency', ascending=False).head(R).drop('saliency', 1)\n"
          ]
        },
        {
          "output_type": "execute_result",
          "data": {
            "text/plain": [
              "PreparedData(topic_coordinates=              x         y  topics  cluster       Freq\n",
              "topic                                                \n",
              "9     -0.435840 -0.146829       1        1  15.917272\n",
              "6     -0.425852  0.040696       2        1  12.188984\n",
              "11    -0.292443 -0.347304       3        1  11.110489\n",
              "12    -0.075970 -0.422033       4        1   6.436468\n",
              "1     -0.070941  0.440553       5        1   6.323569\n",
              "16    -0.277056  0.349838       6        1   5.438781\n",
              "19    -0.323051  0.166968       7        1   5.158407\n",
              "5     -0.247081 -0.173741       8        1   4.961698\n",
              "7      0.055406 -0.366926       9        1   4.907028\n",
              "8      0.355202 -0.197549      10        1   3.941599\n",
              "18     0.225320 -0.354713      11        1   3.897771\n",
              "13     0.261433  0.351074      12        1   3.052910\n",
              "0     -0.070503 -0.038062      13        1   2.645884\n",
              "10     0.088719  0.043782      14        1   2.529976\n",
              "2     -0.078866  0.239270      15        1   2.393986\n",
              "4      0.107199  0.303293      16        1   1.969877\n",
              "3      0.193350 -0.128593      17        1   1.943876\n",
              "14     0.417729 -0.011963      18        1   1.925897\n",
              "17     0.292387  0.061207      19        1   1.655635\n",
              "15     0.300857  0.191032      20        1   1.599893, topic_info=          Term        Freq       Total Category  logprob  loglift\n",
              "6018        ax  433.000000  433.000000  Default  10.0000  10.0000\n",
              "102        say  988.000000  988.000000  Default   9.0000   9.0000\n",
              "130         go  806.000000  806.000000  Default   8.0000   8.0000\n",
              "99      people  759.000000  759.000000  Default   7.0000   7.0000\n",
              "771        car  324.000000  324.000000  Default   6.0000   6.0000\n",
              "...        ...         ...         ...      ...      ...      ...\n",
              "1239    strong   25.366128   26.164104  Topic20  -4.2302   4.1043\n",
              "4533      tape   20.362100   21.160076  Topic20  -4.4500   4.0968\n",
              "904   anywhere   20.067708   20.865684  Topic20  -4.4645   4.0962\n",
              "152      drive   43.201419  220.423217  Topic20  -3.6978   2.5056\n",
              "405      datum   20.936543   43.169014  Topic20  -4.4222   3.4116\n",
              "\n",
              "[312 rows x 6 columns], token_table=      Topic      Freq       Term\n",
              "term                            \n",
              "1081     13  0.118917       able\n",
              "1081     18  0.866393       able\n",
              "2814      4  0.987780     action\n",
              "2005      3  0.990761      agree\n",
              "1197     17  0.979847        aid\n",
              "...     ...       ...        ...\n",
              "279       1  0.264445       year\n",
              "279       4  0.103479       year\n",
              "279       6  0.629495       year\n",
              "7097     10  0.992647  yesterday\n",
              "1422     15  0.992754      young\n",
              "\n",
              "[482 rows x 3 columns], R=10, lambda_step=0.01, plot_opts={'xlab': 'PC1', 'ylab': 'PC2'}, topic_order=[10, 7, 12, 13, 2, 17, 20, 6, 8, 9, 19, 14, 1, 11, 3, 5, 4, 15, 18, 16])"
            ],
            "text/html": [
              "\n",
              "<link rel=\"stylesheet\" type=\"text/css\" href=\"https://cdn.jsdelivr.net/gh/bmabey/pyLDAvis@3.3.1/pyLDAvis/js/ldavis.v1.0.0.css\">\n",
              "\n",
              "\n",
              "<div id=\"ldavis_el631403852056875045413007782\"></div>\n",
              "<script type=\"text/javascript\">\n",
              "\n",
              "var ldavis_el631403852056875045413007782_data = {\"mdsDat\": {\"x\": [-0.43584048694364474, -0.4258518617131031, -0.29244276825050414, -0.07597036554798325, -0.07094136216858132, -0.277056360367547, -0.3230512071816247, -0.24708080650948705, 0.055406104004034076, 0.35520211216602193, 0.22531985005802824, 0.26143346223082026, -0.07050265659209834, 0.08871937187535664, -0.07886552089688295, 0.10719883276181508, 0.19334980263060095, 0.4177293245929892, 0.2923873920396846, 0.3008571438121064], \"y\": [-0.1468288668156406, 0.040695586678963135, -0.3473035938251057, -0.4220331472993215, 0.44055307272877864, 0.34983803515584866, 0.1669683206574774, -0.1737407125631108, -0.3669262805311298, -0.19754919599696963, -0.35471275822066684, 0.3510739522966988, -0.038061936128305274, 0.043782341299053285, 0.23926991202418138, 0.30329289504885604, -0.12859335700752775, -0.011962524141373835, 0.06120650911514419, 0.1910317475241502], \"topics\": [1, 2, 3, 4, 5, 6, 7, 8, 9, 10, 11, 12, 13, 14, 15, 16, 17, 18, 19, 20], \"cluster\": [1, 1, 1, 1, 1, 1, 1, 1, 1, 1, 1, 1, 1, 1, 1, 1, 1, 1, 1, 1], \"Freq\": [15.917272332386311, 12.188983976595608, 11.11048897130296, 6.436467734657385, 6.323569285671946, 5.4387807971142, 5.158407178955769, 4.961697938066266, 4.907027974340301, 3.9415992422758706, 3.8977713641965104, 3.0529097449618843, 2.6458839732201223, 2.529976040024364, 2.393985907162389, 1.9698766768526519, 1.9438761916662797, 1.9258972722112546, 1.6556347069546256, 1.5998926913833038]}, \"tinfo\": {\"Term\": [\"ax\", \"say\", \"go\", \"people\", \"car\", \"know\", \"think\", \"kill\", \"make\", \"year\", \"program\", \"true\", \"consider\", \"else\", \"attack\", \"kind\", \"second\", \"several\", \"really\", \"speak\", \"make\", \"seem\", \"way\", \"say\", \"case\", \"go\", \"much\", \"first\", \"many\", \"want\", \"time\", \"people\", \"include\", \"file\", \"information\", \"change\", \"dead\", \"source\", \"public\", \"ever\", \"check\", \"require\", \"support\", \"group\", \"question\", \"may\", \"system\", \"run\", \"need\", \"leave\", \"today\", \"money\", \"agree\", \"face\", \"just\", \"neighbor\", \"spend\", \"guy\", \"war\", \"come\", \"day\", \"think\", \"one\", \"could\", \"thing\", \"take\", \"good\", \"see\", \"know\", \"people\", \"even\", \"road\", \"military\", \"opinion\", \"machine\", \"action\", \"quote\", \"simply\", \"sit\", \"specific\", \"night\", \"small\", \"report\", \"claim\", \"home\", \"member\", \"gun\", \"fire\", \"murder\", \"truth\", \"cut\", \"american\", \"ride\", \"officer\", \"self\", \"pull\", \"live\", \"maybe\", \"rather\", \"game\", \"stop\", \"hear\", \"go\", \"say\", \"head\", \"time\", \"start\", \"people\", \"country\", \"town\", \"soldier\", \"israeli\", \"crowd\", \"city\", \"village\", \"organization\", \"political\", \"th\", \"government\", \"year\", \"law\", \"life\", \"remember\", \"player\", \"prove\", \"room\", \"unit\", \"protect\", \"majority\", \"phone\", \"lie\", \"play\", \"police\", \"comment\", \"tell\", \"criminal\", \"light\", \"ask\", \"part\", \"car\", \"thank\", \"school\", \"book\", \"die\", \"deal\", \"burn\", \"card\", \"handle\", \"somewhere\", \"old\", \"interested\", \"appreciate\", \"mail\", \"find\", \"tell\", \"back\", \"look\", \"know\", \"pay\", \"whole\", \"driver\", \"next\", \"sell\", \"option\", \"bike\", \"cost\", \"together\", \"rate\", \"exactly\", \"sound\", \"work\", \"new\", \"there\", \"speed\", \"greek\", \"output\", \"international\", \"morning\", \"letter\", \"yesterday\", \"entry\", \"mph\", \"space\", \"build\", \"run\", \"available\", \"woman\", \"job\", \"apartment\", \"wife\", \"figure\", \"death\", \"publish\", \"bear\", \"federal\", \"service\", \"talk\", \"state\", \"people\", \"lead\", \"believe\", \"jewish\", \"argument\", \"weapon\", \"destroy\", \"homosexual\", \"safety\", \"moral\", \"struggle\", \"eat\", \"race\", \"evidence\", \"study\", \"religion\", \"human\", \"window\", \"automatic\", \"forget\", \"office\", \"interest\", \"resource\", \"widget\", \"willing\", \"operate\", \"staff\", \"product\", \"work\", \"ax\", \"mode\", \"fear\", \"disk\", \"tm\", \"module\", \"typical\", \"sister\", \"um\", \"publication\", \"drive\", \"version\", \"contact\", \"available\", \"stand\", \"return\", \"important\", \"young\", \"building\", \"history\", \"reference\", \"manual\", \"standard\", \"market\", \"non\", \"armenian\", \"turkish\", \"single\", \"gas\", \"wheel\", \"german\", \"shall\", \"heavy\", \"seek\", \"manage\", \"border\", \"save\", \"escape\", \"kill\", \"child\", \"charge\", \"plan\", \"clearly\", \"depend\", \"wear\", \"aid\", \"skill\", \"rally\", \"table\", \"clock\", \"big\", \"statement\", \"floor\", \"model\", \"win\", \"former\", \"director\", \"target\", \"piece\", \"how\", \"able\", \"area\", \"man\", \"carry\", \"ground\", \"ql\", \"pl\", \"worker\", \"rush\", \"regulation\", \"hat\", \"belong\", \"mk\", \"anti\", \"gang\", \"remove\", \"shoot\", \"replace\", \"alone\", \"backup\", \"strong\", \"tape\", \"anywhere\", \"drive\", \"datum\"], \"Freq\": [433.0, 988.0, 806.0, 759.0, 324.0, 666.0, 518.0, 190.0, 587.0, 347.0, 167.85634905253926, 155.76424677148535, 135.2148085023588, 125.00822255671375, 118.34651717479312, 111.26867834572519, 104.98085333315326, 98.57844178614228, 263.6851501937922, 89.23127100366601, 533.5596210446308, 167.7459143211949, 255.21500338916658, 605.1699854418392, 162.28270686920027, 469.18887040330156, 220.61759201922908, 221.12852227789313, 207.75264047727504, 236.2795987667067, 253.582811662039, 258.09717863556983, 244.4867159992777, 235.78621348762795, 206.57400989670364, 250.16856220272317, 138.19232466345, 129.91313904559445, 115.92494065358044, 108.58860575835241, 112.48391592220554, 94.87240090321501, 201.4134872162162, 234.4933024501255, 208.1730520630146, 286.51406892269085, 160.91244773906774, 178.36040045629065, 183.40338689436277, 149.1424363678692, 83.80225539437562, 78.32281129889012, 76.91873222217971, 71.92395084544451, 65.8225997006423, 60.08898690817489, 57.37509331652961, 56.89476071222658, 53.85826795609118, 338.6671817806184, 178.80130719484754, 450.6291468288577, 155.5529452802315, 292.61307683754137, 238.2606909518561, 271.13322838443656, 235.68576133258247, 302.385874512836, 358.1047497968204, 272.0731338516432, 183.33718101272186, 91.82867965562158, 90.09695358014784, 80.84032727429037, 72.36780917450923, 69.06770990574338, 68.34984826361986, 66.11696474343968, 66.07620164719025, 62.688318005443634, 61.462002063083126, 95.87471092301477, 83.48832805637228, 75.50626708853211, 72.48954972926957, 72.02786193641235, 143.46735412493345, 65.59432995826843, 58.25137718696995, 56.607062785335046, 55.7010516791896, 53.85636203142975, 46.526424890608865, 45.67711328518059, 42.153856563271546, 35.5194052728063, 147.96229055804065, 90.44412080334556, 76.2700350335929, 65.60432272782151, 71.22283282011185, 119.7596656003752, 328.93142417979084, 345.52275897904315, 72.35800373978465, 131.57090100134226, 91.11911730444096, 87.22145583146079, 82.04371547283245, 69.12744377557785, 67.4295679616326, 64.53034846508663, 60.692132789123995, 56.971266105738, 55.09752412200623, 52.869273254966245, 49.40272804178032, 77.57488765095796, 123.62016160050311, 219.49009888015695, 191.16542361246044, 132.07306087266957, 117.2430639118083, 60.0782949243475, 51.47894226597294, 50.45427329173101, 46.74192868067454, 45.166981594059024, 44.27153821514108, 42.36571067488245, 87.46235193405612, 71.07547004692726, 87.22728731450212, 86.90555050232209, 210.4629519616379, 57.60148061222073, 81.05330060601113, 106.48645582342766, 78.185270371566, 323.584465951165, 169.2092373735217, 100.05062378405538, 99.86988017136363, 84.5397882713537, 63.419862885134, 59.02401929578434, 43.427067196638845, 33.535518977930515, 33.45346373450564, 132.9436649859341, 40.46394104102116, 45.70852978488187, 61.23342514843152, 122.99305733644319, 101.84937825521996, 85.95334714400003, 89.78098039293756, 101.91671648069956, 112.08914562396976, 107.669239295275, 104.9947009766684, 101.75732161584223, 87.92455201937383, 83.34138722531196, 66.7354399409358, 65.36762674185043, 58.51044249813924, 51.38555839687602, 54.600880110189586, 66.74755197497299, 147.74408526868217, 72.43040678701017, 98.38923778329728, 92.54903969659938, 85.71982955270406, 62.52076287568962, 48.45975460205555, 48.332696720001685, 44.60476941518281, 44.56180472095849, 44.170341950630714, 42.23234220920737, 59.777611165201925, 52.84655389372216, 56.233399932781325, 46.874449395231125, 137.29268293747745, 101.02346718948864, 99.62885856214619, 65.51828875946181, 57.661865055428144, 56.259482976581076, 44.41399692127154, 44.03492940469383, 42.62266535034623, 42.290495679868876, 83.57086990727394, 78.96657348401374, 141.0410610327776, 47.80094314722429, 56.940559962989234, 54.83694870746738, 54.59111516495132, 53.9228965894659, 50.83017491111297, 39.09202296011769, 33.10951776449869, 31.19271329126852, 30.397153312577593, 27.52122620572408, 26.863746968004737, 40.186044193949265, 28.727771903004275, 31.9050883302578, 31.33553470932669, 94.32878986052236, 69.27191051697015, 48.04571521142732, 40.47071433169263, 39.568219828068315, 36.40826318934614, 34.29208695991629, 33.93365047405066, 27.680380275711524, 21.38085171896217, 36.968293848218494, 56.70621656641632, 432.5940697392166, 52.12212258380549, 43.15175182243654, 35.38273254080054, 32.02944378623739, 28.712129097225606, 23.938034224356123, 23.761838335414712, 21.471632004992603, 21.155265647501334, 176.47749834306396, 43.260464883629524, 26.27591710453733, 24.816594856090347, 94.35548971119755, 93.21837986333794, 89.35561771015888, 87.85068684262326, 70.1401718055472, 67.85464904356252, 52.71543093912468, 34.89200186604492, 34.820798865849355, 34.47172072088784, 65.1182670863453, 132.9679952285077, 69.79080174386934, 45.199695362628674, 34.856102988522785, 30.386194669266438, 23.358425185056397, 21.451870057907414, 18.544122579137067, 16.967454949780663, 15.91740214981259, 21.114037414170646, 26.964491813578462, 19.267058885912114, 189.71891967809808, 125.5840755442222, 39.9391121010613, 57.52260966905531, 34.240366651715156, 31.10201833945713, 25.967257954226213, 25.739688667895287, 25.632349466856635, 25.136875092455387, 43.400896526655416, 30.087706589226514, 87.22133589375024, 58.06233860989938, 48.702911484549816, 48.62702822083893, 43.0903372950188, 39.16495481991073, 30.303510879671656, 24.299909774851287, 22.909710870040406, 21.909327000051604, 50.78824893468443, 52.31202052274057, 27.01484844742668, 90.89286178585948, 57.91177755802233, 26.81887633193768, 20.836689268857686, 18.321557961261586, 18.220488327699325, 17.599001156208942, 16.753394071909593, 16.721378381807483, 16.206163204481687, 44.75927158397447, 37.29537576746185, 36.238821141793146, 30.784363042263866, 28.496230338479037, 27.390059645966314, 25.9701171805556, 25.366128113933573, 20.362100309414455, 20.067708290338413, 43.20141866597845, 20.93654316736081], \"Total\": [433.0, 988.0, 806.0, 759.0, 324.0, 666.0, 518.0, 190.0, 587.0, 347.0, 168.64365312145935, 156.55155082734723, 136.0021127953256, 125.79552662101877, 119.13695342261502, 112.05598324527266, 105.76828151012398, 99.36574586130492, 265.9778830230715, 90.01857510047944, 587.7201472963429, 183.2490059458537, 313.8110581444145, 988.9074385665704, 182.44024387216263, 806.6383771437382, 287.3739835821956, 293.2769530758167, 266.61204516624684, 334.6828720608215, 497.6733703091694, 759.1128271868305, 245.26132929579776, 236.5611092106689, 207.43576272050737, 251.3060865890447, 138.96693562329492, 130.7299513544908, 116.6995515600801, 109.36321671573313, 113.31800355342642, 95.64732865834759, 204.29608428243685, 268.21912483937666, 234.45916831839776, 375.29339336496764, 192.22587739020273, 248.55021579399474, 303.90493833264816, 149.93970629726664, 84.59838873748929, 79.11894464005135, 77.71802641180099, 72.72008419727416, 66.61873341653926, 60.88512033776641, 58.1712266616349, 57.69097521257891, 54.654401309182134, 351.47352972745404, 186.18550353268728, 518.9547856508852, 173.23414070182167, 375.05432142928186, 314.84803272209996, 393.8940957625779, 329.16730874552576, 514.1428287438099, 666.6553273232952, 759.1128271868305, 265.79369789532154, 92.61455965867576, 90.88283358693761, 81.6262072504187, 73.16041701755418, 69.85358987506672, 69.13572824078241, 66.90284974114664, 66.86208171978419, 63.47419797698597, 62.24788205056374, 102.75562258708354, 89.25771497633428, 93.05928834203375, 108.14895544967553, 120.27031464325673, 144.26364794165553, 66.3906237552704, 59.047671047166325, 57.40335657596632, 56.49734547073907, 54.65266692487245, 47.32271876267159, 46.4734071184518, 42.950347229994165, 36.315699080501, 151.52167941555197, 96.73842870266562, 85.06689606345995, 71.56238136602605, 79.23551568340969, 173.8733218220051, 806.6383771437382, 988.9074385665704, 84.52573325447993, 497.6733703091694, 222.82554838094518, 759.1128271868305, 82.843045856833, 69.92677416627637, 68.2288984143049, 65.32967894960075, 61.49146323453557, 57.7705964558947, 55.89685453272135, 53.668603597283735, 50.20205838907609, 78.86946118149494, 147.72999812540215, 347.89791928218017, 192.09761472890824, 132.86381185638064, 118.03381489887295, 60.869045893249414, 52.269693252791896, 51.24502428735885, 47.532679661359715, 45.95774345683629, 45.06228919571834, 43.166715303185335, 90.98114927018376, 76.02281306287807, 101.15426039593795, 104.24021011685693, 335.69890332968396, 61.92461115047394, 117.35607878379415, 214.38952913150112, 159.18876197534803, 324.37461044533, 169.99938389597102, 100.84149755215331, 100.66070579012678, 85.32993274888199, 64.21000736020021, 59.81416381850091, 44.21721165293841, 34.32566345919526, 34.24360819355822, 136.8435167771895, 41.44303173708273, 47.4337417283083, 73.57241134618619, 299.74523511612324, 335.69890332968396, 212.9220885395806, 329.85581462090613, 666.6553273232952, 112.87796930802868, 108.45806316129057, 105.7835246208105, 102.54614527432396, 88.71380380569369, 84.13021086945406, 67.52426369252379, 66.15645038599253, 59.29926618587485, 52.17438204632748, 56.14665675367694, 71.75798075078661, 447.7890224416097, 230.3299917381308, 99.16075144971526, 93.32055386813948, 86.4913431983009, 63.29227648097921, 49.231268237987166, 49.10421043077312, 45.37628303651071, 45.33331841393401, 44.941855546261266, 43.00385585366739, 79.04008589156386, 105.81652909207325, 248.55021579399474, 108.9375983777543, 138.08964636409365, 101.82043061664187, 100.42582212510578, 66.31525219296934, 58.4588284876016, 57.0564490948908, 45.21096035062205, 44.83189281567629, 43.419628775449205, 43.08746022046795, 154.5717366575366, 161.2863632382136, 759.1128271868305, 55.882079585248675, 209.459642230362, 55.631060161398025, 55.385226614361066, 54.71700814931583, 51.62428640561128, 39.88613441450989, 33.92476232197817, 31.986824735433398, 31.19126480941132, 28.31533771569074, 27.657858435077877, 46.73184771278813, 31.566377667547293, 46.59054344842439, 52.6412572193517, 95.11366150103206, 70.05678221963888, 48.830586888275505, 41.25558602505643, 40.35309149247663, 37.19313546075736, 35.07724091054064, 34.718522135723056, 28.46525194500217, 22.165723431656644, 46.68450118966426, 447.7890224416097, 433.3726434640405, 52.90069631946853, 43.93032574827476, 36.16130626562436, 32.8080175383988, 29.490702822049432, 24.716607995574673, 24.540412298701057, 22.25020572981643, 21.93383960368542, 220.42321724916766, 76.90256458961231, 46.952042729034, 108.9375983777543, 95.14709047685109, 94.00998060974014, 90.14721846097596, 88.6422875870609, 70.93177263094671, 68.64624983238117, 53.5070316698743, 35.68360260590872, 35.61239959265492, 35.263321462659356, 71.48544522869884, 133.7708135846656, 70.59357510446661, 46.00243056222633, 35.658838193911876, 31.188929967158355, 24.161160386388776, 22.254605215822032, 19.3468579998059, 17.770190142517375, 16.720137317450142, 24.130674606604938, 40.12022094322326, 24.16652687398783, 190.51398286371375, 126.3791387291766, 40.734175295088804, 58.70853528949209, 35.03542983746516, 31.897081509140335, 26.76232112118226, 26.534751971463653, 26.42741267291108, 25.932906271185438, 50.51897490079944, 44.46693624806407, 88.01778696993536, 58.85878968241238, 49.499362725154356, 49.423479277938874, 43.88678835211874, 39.9614059220503, 31.09996197675088, 25.096360870731353, 23.706161933837425, 22.705778102788333, 58.86472614679486, 106.01362630838344, 125.48718441340225, 91.68647322695371, 58.705388912805866, 27.61248762555887, 21.630300557463755, 19.11516946643439, 19.014099665792465, 18.392612588845672, 17.547005495762658, 17.51498973117478, 16.999774493087756, 45.55724773404394, 38.09335194727639, 37.036797254367116, 31.582339178158396, 29.29420644603278, 28.188035793009927, 26.768093292299586, 26.164104277460186, 21.160076430989285, 20.865684450382545, 220.42321724916766, 43.16901409634491], \"Category\": [\"Default\", \"Default\", \"Default\", \"Default\", \"Default\", \"Default\", \"Default\", \"Default\", \"Default\", \"Default\", \"Topic1\", \"Topic1\", \"Topic1\", \"Topic1\", \"Topic1\", \"Topic1\", \"Topic1\", \"Topic1\", \"Topic1\", \"Topic1\", \"Topic1\", \"Topic1\", \"Topic1\", \"Topic1\", \"Topic1\", \"Topic1\", \"Topic1\", \"Topic1\", \"Topic1\", \"Topic1\", \"Topic1\", \"Topic1\", \"Topic2\", \"Topic2\", \"Topic2\", \"Topic2\", \"Topic2\", \"Topic2\", \"Topic2\", \"Topic2\", \"Topic2\", \"Topic2\", \"Topic2\", \"Topic2\", \"Topic2\", \"Topic2\", \"Topic2\", \"Topic2\", \"Topic2\", \"Topic3\", \"Topic3\", \"Topic3\", \"Topic3\", \"Topic3\", \"Topic3\", \"Topic3\", \"Topic3\", \"Topic3\", \"Topic3\", \"Topic3\", \"Topic3\", \"Topic3\", \"Topic3\", \"Topic3\", \"Topic3\", \"Topic3\", \"Topic3\", \"Topic3\", \"Topic3\", \"Topic3\", \"Topic3\", \"Topic4\", \"Topic4\", \"Topic4\", \"Topic4\", \"Topic4\", \"Topic4\", \"Topic4\", \"Topic4\", \"Topic4\", \"Topic4\", \"Topic4\", \"Topic4\", \"Topic4\", \"Topic4\", \"Topic4\", \"Topic5\", \"Topic5\", \"Topic5\", \"Topic5\", \"Topic5\", \"Topic5\", \"Topic5\", \"Topic5\", \"Topic5\", \"Topic5\", \"Topic5\", \"Topic5\", \"Topic5\", \"Topic5\", \"Topic5\", \"Topic5\", \"Topic5\", \"Topic5\", \"Topic5\", \"Topic5\", \"Topic5\", \"Topic5\", \"Topic6\", \"Topic6\", \"Topic6\", \"Topic6\", \"Topic6\", \"Topic6\", \"Topic6\", \"Topic6\", \"Topic6\", \"Topic6\", \"Topic6\", \"Topic6\", \"Topic7\", \"Topic7\", \"Topic7\", \"Topic7\", \"Topic7\", \"Topic7\", \"Topic7\", \"Topic7\", \"Topic7\", \"Topic7\", \"Topic7\", \"Topic7\", \"Topic7\", \"Topic7\", \"Topic7\", \"Topic7\", \"Topic7\", \"Topic7\", \"Topic7\", \"Topic8\", \"Topic8\", \"Topic8\", \"Topic8\", \"Topic8\", \"Topic8\", \"Topic8\", \"Topic8\", \"Topic8\", \"Topic8\", \"Topic8\", \"Topic8\", \"Topic8\", \"Topic8\", \"Topic8\", \"Topic8\", \"Topic8\", \"Topic8\", \"Topic8\", \"Topic9\", \"Topic9\", \"Topic9\", \"Topic9\", \"Topic9\", \"Topic9\", \"Topic9\", \"Topic9\", \"Topic9\", \"Topic9\", \"Topic9\", \"Topic9\", \"Topic9\", \"Topic9\", \"Topic10\", \"Topic10\", \"Topic10\", \"Topic10\", \"Topic10\", \"Topic10\", \"Topic10\", \"Topic10\", \"Topic10\", \"Topic10\", \"Topic10\", \"Topic10\", \"Topic10\", \"Topic10\", \"Topic11\", \"Topic11\", \"Topic11\", \"Topic11\", \"Topic11\", \"Topic11\", \"Topic11\", \"Topic11\", \"Topic11\", \"Topic11\", \"Topic11\", \"Topic11\", \"Topic11\", \"Topic11\", \"Topic11\", \"Topic12\", \"Topic12\", \"Topic12\", \"Topic12\", \"Topic12\", \"Topic12\", \"Topic12\", \"Topic12\", \"Topic12\", \"Topic12\", \"Topic12\", \"Topic12\", \"Topic12\", \"Topic12\", \"Topic13\", \"Topic13\", \"Topic13\", \"Topic13\", \"Topic13\", \"Topic13\", \"Topic13\", \"Topic13\", \"Topic13\", \"Topic13\", \"Topic13\", \"Topic13\", \"Topic14\", \"Topic14\", \"Topic14\", \"Topic14\", \"Topic14\", \"Topic14\", \"Topic14\", \"Topic14\", \"Topic14\", \"Topic14\", \"Topic14\", \"Topic14\", \"Topic14\", \"Topic14\", \"Topic15\", \"Topic15\", \"Topic15\", \"Topic15\", \"Topic15\", \"Topic15\", \"Topic15\", \"Topic15\", \"Topic15\", \"Topic15\", \"Topic15\", \"Topic16\", \"Topic16\", \"Topic16\", \"Topic16\", \"Topic16\", \"Topic16\", \"Topic16\", \"Topic16\", \"Topic16\", \"Topic16\", \"Topic16\", \"Topic16\", \"Topic16\", \"Topic17\", \"Topic17\", \"Topic17\", \"Topic17\", \"Topic17\", \"Topic17\", \"Topic17\", \"Topic17\", \"Topic17\", \"Topic17\", \"Topic17\", \"Topic17\", \"Topic18\", \"Topic18\", \"Topic18\", \"Topic18\", \"Topic18\", \"Topic18\", \"Topic18\", \"Topic18\", \"Topic18\", \"Topic18\", \"Topic18\", \"Topic18\", \"Topic18\", \"Topic19\", \"Topic19\", \"Topic19\", \"Topic19\", \"Topic19\", \"Topic19\", \"Topic19\", \"Topic19\", \"Topic19\", \"Topic19\", \"Topic20\", \"Topic20\", \"Topic20\", \"Topic20\", \"Topic20\", \"Topic20\", \"Topic20\", \"Topic20\", \"Topic20\", \"Topic20\", \"Topic20\", \"Topic20\"], \"logprob\": [10.0, 9.0, 8.0, 7.0, 6.0, 5.0, 4.0, 3.0, 2.0, 1.0, -4.638, -4.7128, -4.8543, -4.9327, -4.9875, -5.0492, -5.1073, -5.1703, -4.1864, -5.2699, -3.4816, -4.6387, -4.219, -3.3556, -4.6718, -3.6101, -4.3647, -4.3624, -4.4248, -4.2961, -4.2254, -4.2078, -3.9951, -4.0313, -4.1636, -3.9721, -4.5656, -4.6274, -4.7413, -4.8067, -4.7714, -4.9417, -4.1889, -4.0368, -4.1559, -3.8365, -4.4134, -4.3104, -4.2826, -4.3967, -4.9732, -5.0408, -5.0589, -5.126, -5.2146, -5.3058, -5.352, -5.3604, -5.4153, -3.5766, -4.2153, -3.291, -4.3546, -3.7228, -3.9282, -3.799, -3.9391, -3.6899, -3.5208, -3.7955, -4.1903, -4.3358, -4.3548, -4.4632, -4.5739, -4.6206, -4.6311, -4.6643, -4.6649, -4.7175, -4.7373, -4.2927, -4.431, -4.5315, -4.5723, -4.5786, -3.8719, -4.6545, -4.7732, -4.8019, -4.818, -4.8517, -4.998, -5.0164, -5.0967, -5.2679, -3.841, -4.3333, -4.5037, -4.6544, -4.5722, -4.0525, -3.0422, -2.9929, -4.5564, -3.9585, -4.3258, -4.3696, -4.28, -4.4513, -4.4762, -4.5201, -4.5815, -4.6447, -4.6782, -4.7195, -4.7873, -4.336, -3.8701, -3.296, -3.3812, -3.751, -3.8701, -4.5387, -4.6932, -4.7133, -4.7897, -4.824, -4.844, -4.888, -4.1631, -4.3706, -4.1658, -4.1695, -3.285, -4.5808, -4.2392, -3.9663, -4.2753, -2.816, -3.4643, -3.9898, -3.9916, -4.1582, -4.4457, -4.5175, -4.8244, -5.0829, -5.0853, -3.7055, -4.8951, -4.7732, -4.4808, -3.7833, -3.972, -4.1417, -4.0981, -3.9713, -3.8651, -3.9053, -3.9305, -3.9618, -4.1079, -4.1614, -4.3837, -4.4044, -4.5152, -4.645, -4.5843, -4.3835, -3.5889, -4.3018, -3.7764, -3.8376, -3.9142, -4.2298, -4.4846, -4.4872, -4.5675, -4.5684, -4.5773, -4.6221, -4.2747, -4.3979, -4.3358, -4.5178, -3.432, -3.7388, -3.7527, -4.1718, -4.2995, -4.3242, -4.5606, -4.5691, -4.6017, -4.6096, -3.9284, -3.9851, -3.4051, -4.4871, -4.3121, -4.1055, -4.1099, -4.1223, -4.1813, -4.4439, -4.61, -4.6696, -4.6955, -4.7949, -4.819, -4.4163, -4.752, -4.6471, -4.6651, -3.4199, -3.7287, -4.0946, -4.2661, -4.2887, -4.3719, -4.4318, -4.4423, -4.646, -4.9042, -4.3567, -3.9288, -1.8521, -3.9683, -4.1572, -4.3557, -4.4553, -4.5646, -4.7465, -4.7539, -4.8552, -4.87, -2.7487, -4.1547, -4.6533, -4.7104, -3.3196, -3.3317, -3.3741, -3.391, -3.6162, -3.6493, -3.9018, -4.3144, -4.3165, -4.3265, -3.6905, -2.7816, -3.4262, -3.8606, -4.1205, -4.2577, -4.5207, -4.6059, -4.7515, -4.8404, -4.9043, -4.6218, -4.3772, -4.7133, -2.4129, -2.8254, -3.971, -3.6062, -4.125, -4.2211, -4.4016, -4.4104, -4.4146, -4.4341, -3.8879, -4.2543, -3.1807, -3.5876, -3.7634, -3.7649, -3.8858, -3.9813, -4.2379, -4.4586, -4.5176, -4.5622, -3.7214, -3.6919, -4.3527, -2.9882, -3.439, -4.2088, -4.4612, -4.5898, -4.5954, -4.6301, -4.6793, -4.6812, -4.7125, -3.6624, -3.8448, -3.8735, -4.0367, -4.1139, -4.1535, -4.2067, -4.2302, -4.45, -4.4645, -3.6978, -4.4222], \"loglift\": [10.0, 9.0, 8.0, 7.0, 6.0, 5.0, 4.0, 3.0, 2.0, 1.0, 1.8331, 1.8327, 1.832, 1.8315, 1.8311, 1.8307, 1.8303, 1.8298, 1.8291, 1.829, 1.7411, 1.7494, 1.6311, 1.3467, 1.7207, 1.2959, 1.5734, 1.5554, 1.5883, 1.4896, 1.1635, 0.759, 2.1015, 2.1014, 2.1005, 2.1001, 2.099, 2.0984, 2.098, 2.0975, 2.0972, 2.0965, 2.0904, 1.9703, 1.9857, 1.8347, 1.9268, 1.7728, 1.5996, 2.1919, 2.1878, 2.1872, 2.1869, 2.1863, 2.1853, 2.1841, 2.1835, 2.1834, 2.1826, 2.1602, 2.1568, 2.0561, 2.0896, 1.9491, 1.9186, 1.8238, 1.8632, 1.6665, 1.5758, 1.1712, 1.8259, 2.7347, 2.7345, 2.7335, 2.7323, 2.7319, 2.7318, 2.7314, 2.7314, 2.7307, 2.7305, 2.6739, 2.6764, 2.5342, 2.3431, 2.2305, 2.7554, 2.7488, 2.7473, 2.7469, 2.7467, 2.7462, 2.7439, 2.7436, 2.7422, 2.7387, 2.7371, 2.6936, 2.6517, 2.674, 2.6543, 2.388, 1.8639, 1.7093, 2.6055, 1.4305, 1.8667, 0.5972, 2.9019, 2.9001, 2.8998, 2.8993, 2.8985, 2.8977, 2.8972, 2.8966, 2.8956, 2.8951, 2.7334, 2.451, 2.9597, 2.9586, 2.9578, 2.9515, 2.9493, 2.949, 2.9478, 2.9472, 2.9468, 2.9458, 2.9251, 2.8973, 2.8164, 2.7827, 2.4976, 2.8922, 2.5944, 2.2648, 2.2535, 3.001, 2.9988, 2.9955, 2.9955, 2.9941, 2.991, 2.9901, 2.9854, 2.9801, 2.9801, 2.9745, 2.9795, 2.9664, 2.8198, 2.1126, 1.8107, 2.0963, 1.7021, 1.1253, 3.0075, 3.0072, 3.007, 3.0068, 3.0056, 3.0051, 3.0028, 3.0025, 3.0011, 2.9993, 2.9866, 2.9421, 1.9057, 1.8576, 3.2258, 3.2253, 3.2246, 3.2213, 3.2178, 3.2177, 3.2164, 3.2164, 3.2163, 3.2155, 2.9543, 2.5393, 1.7474, 2.3903, 3.239, 3.2369, 3.2368, 3.2327, 3.231, 3.2307, 3.227, 3.2268, 3.2262, 3.2261, 2.6298, 2.5306, 1.5617, 3.0886, 1.9422, 3.4747, 3.4746, 3.4745, 3.4736, 3.469, 3.4648, 3.4639, 3.4633, 3.4606, 3.4599, 3.3382, 3.3948, 3.1104, 2.9703, 3.6239, 3.6209, 3.616, 3.613, 3.6125, 3.6108, 3.6095, 3.6093, 3.6042, 3.5961, 3.3988, 1.5657, 3.6752, 3.6621, 3.6591, 3.6552, 3.6529, 3.6502, 3.645, 3.6447, 3.6413, 3.6408, 3.4546, 3.1017, 3.0965, 2.1977, 3.7239, 3.7238, 3.7234, 3.7232, 3.721, 3.7206, 3.7173, 3.7098, 3.7097, 3.7095, 3.6389, 3.9212, 3.9158, 3.9096, 3.9044, 3.9011, 3.8934, 3.8905, 3.8848, 3.881, 3.878, 3.7937, 3.5298, 3.7006, 3.9363, 3.9342, 3.9208, 3.9201, 3.9175, 3.9152, 3.9103, 3.9101, 3.9099, 3.9093, 3.7886, 3.5499, 3.9407, 3.9362, 3.9336, 3.9335, 3.9315, 3.9296, 3.9238, 3.9175, 3.9156, 3.9141, 3.8022, 3.2434, 2.414, 4.0923, 4.0874, 4.0718, 4.0636, 4.0586, 4.0584, 4.0569, 4.0547, 4.0546, 4.0532, 4.1176, 4.1141, 4.1135, 4.1096, 4.1076, 4.1065, 4.105, 4.1043, 4.0968, 4.0962, 2.5056, 3.4116]}, \"token.table\": {\"Topic\": [13, 18, 4, 3, 17, 20, 5, 20, 20, 11, 8, 13, 2, 12, 18, 12, 16, 1, 2, 3, 7, 9, 11, 1, 13, 4, 9, 10, 14, 14, 1, 6, 8, 20, 11, 1, 4, 11, 19, 18, 9, 8, 10, 16, 2, 7, 10, 15, 8, 8, 8, 19, 1, 2, 2, 17, 2, 17, 6, 4, 5, 17, 10, 17, 3, 7, 9, 7, 9, 1, 8, 14, 9, 1, 2, 3, 4, 7, 9, 11, 6, 3, 7, 6, 5, 8, 20, 3, 7, 2, 8, 11, 17, 12, 8, 18, 14, 14, 20, 9, 12, 1, 10, 4, 16, 1, 2, 3, 11, 2, 5, 12, 9, 18, 3, 14, 11, 11, 2, 1, 2, 4, 8, 12, 5, 1, 3, 6, 18, 13, 18, 5, 9, 20, 16, 16, 1, 5, 8, 9, 1, 2, 3, 5, 6, 8, 10, 6, 7, 11, 10, 19, 2, 3, 5, 3, 8, 19, 4, 5, 5, 8, 9, 16, 15, 4, 11, 12, 18, 11, 12, 15, 2, 2, 13, 8, 10, 6, 12, 11, 3, 17, 1, 1, 3, 8, 7, 8, 11, 3, 10, 1, 7, 7, 4, 7, 5, 16, 1, 2, 3, 8, 4, 2, 7, 8, 7, 1, 2, 5, 6, 8, 9, 7, 11, 18, 16, 15, 1, 2, 5, 11, 12, 15, 2, 3, 5, 5, 7, 1, 4, 4, 19, 14, 18, 14, 3, 12, 10, 10, 1, 5, 8, 9, 5, 2, 3, 5, 7, 9, 11, 13, 3, 1, 2, 8, 9, 20, 9, 4, 15, 20, 13, 5, 8, 9, 20, 1, 2, 3, 13, 4, 9, 6, 10, 7, 8, 15, 9, 1, 3, 5, 11, 7, 18, 19, 17, 2, 7, 7, 7, 11, 6, 11, 13, 1, 7, 7, 2, 14, 11, 5, 19, 2, 3, 9, 11, 4, 12, 17, 9, 2, 5, 1, 9, 15, 19, 11, 12, 7, 20, 20, 4, 6, 2, 13, 15, 5, 4, 7, 2, 7, 10, 19, 12, 16, 20, 1, 5, 6, 12, 8, 1, 1, 2, 3, 4, 5, 8, 15, 16, 1, 2, 5, 8, 12, 5, 9, 11, 1, 16, 20, 4, 16, 14, 4, 17, 4, 11, 6, 8, 3, 9, 2, 1, 10, 1, 4, 10, 3, 13, 15, 15, 2, 5, 6, 5, 7, 11, 18, 5, 12, 20, 12, 7, 12, 2, 3, 2, 7, 8, 9, 1, 17, 1, 2, 3, 5, 7, 5, 7, 11, 12, 20, 18, 7, 8, 9, 11, 5, 6, 8, 10, 1, 2, 3, 1, 2, 3, 5, 1, 2, 3, 5, 6, 7, 8, 11, 14, 3, 9, 6, 1, 5, 16, 14, 14, 7, 2, 14, 6, 1, 3, 5, 8, 9, 3, 1, 3, 5, 12, 17, 16, 9, 13, 11, 13, 18, 13, 11, 1, 2, 4, 7, 9, 13, 19, 1, 4, 6, 10, 15], \"Freq\": [0.1189167173315924, 0.8663932262730303, 0.9877803005315351, 0.9907611342573676, 0.9798471087259929, 0.9578531898521097, 0.9880579126034301, 0.987768187022687, 0.9585115718374302, 0.9957598343125803, 0.9697738007572646, 0.021082039146897057, 0.3301462389201589, 0.169789494301796, 0.4905029835385218, 0.9930445962234056, 0.9942378044656375, 0.04197966214329258, 0.1772474623827909, 0.20989831071646292, 0.4944271319098904, 0.05130847595291316, 0.018657627619241147, 0.9904567525863961, 0.9849153474345181, 0.11015480585856638, 0.22030961171713276, 0.43143965627938496, 0.22948917887201328, 0.9991401315480787, 0.36163462667559865, 0.23013112606629005, 0.403903609014305, 0.9713056404910041, 0.9814441737024897, 0.5442575896058475, 0.1814191965352825, 0.27212879480292373, 0.9705972005077369, 0.988436576231086, 0.9922359213732258, 0.9934363087866249, 0.08288205914693197, 0.8702616210427858, 0.46306565165602853, 0.028350958264654808, 0.5008669293422349, 0.9868638186191305, 0.9863884443662643, 0.998845130188162, 0.9724719943335115, 0.99251281892745, 0.887961979011137, 0.10414368889636794, 0.9948028055875124, 0.9819764291342528, 0.9883689836381117, 0.9969999896107136, 0.9866610957274258, 0.816683657849033, 0.18267923925570476, 0.9704462071032471, 0.31484066997328847, 0.6746585785141896, 0.964510756365845, 0.01422582236527795, 0.01991615131138913, 0.8346107505200724, 0.16308485929702563, 0.9926316380331995, 0.4259665573108811, 0.5537565245041455, 0.9825194613791222, 0.013331402184477354, 0.010665121747581883, 0.781220168010373, 0.02932908480585018, 0.15197798490304185, 0.002666280436895471, 0.010665121747581883, 0.9898235772464242, 0.0645946728721507, 0.9366227566461851, 0.9920076184776889, 0.99119701170745, 0.48646003249302966, 0.48646003249302966, 0.9614067508138421, 0.03759691204299941, 0.99304197348126, 0.9811554707755692, 0.9814841422547377, 0.9718757495451967, 0.987907117965636, 0.9961334465145666, 0.9646314044508103, 0.9678853895073939, 0.7984639830433498, 0.19507926858445476, 0.9925931318358023, 0.9888633602446494, 0.9936760340976557, 0.9790427979705519, 0.16551819882341004, 0.7862114444111977, 0.2370259359001488, 0.048910113757173565, 0.6885039090432894, 0.02257389865715703, 0.9966788036540911, 0.12839209861496884, 0.8559473240997924, 0.979577470503587, 0.01781049946370158, 0.9900978635376614, 0.9788226986158577, 0.9903355052246214, 0.9921512541480555, 0.997628058083845, 0.3936676423039253, 0.12010199256729925, 0.016680832301013786, 0.4103484746049391, 0.05671482982344687, 0.9941162812882989, 0.7535539280608525, 0.16707756776009852, 0.07501441817800342, 0.9899117342595485, 0.9829904381412435, 0.9759416391924338, 0.9222722712709116, 0.06986911145991755, 0.9712980903127229, 0.9815238457762103, 0.9519410339644565, 0.5814253490649713, 0.4078655433739351, 0.008677990284551811, 0.001239712897793116, 0.08810109397108891, 0.024303750060990042, 0.7169606267992062, 0.08506312521346515, 0.03949359384910882, 0.03645562509148507, 0.009113906272871267, 0.8393691299903849, 0.1421512236274039, 0.013538211774038467, 0.9943191632811809, 0.9879842562008478, 0.8724210107692029, 0.1230337322879645, 0.9912407043653395, 0.9880228196865659, 0.9905125370822797, 0.9688262766034494, 0.13013788318029162, 0.8518115989982724, 0.6901576316741941, 0.2070472895022582, 0.1035236447511291, 0.9820716108109452, 0.9905857955247495, 0.6657484549955126, 0.3236277211783742, 0.9777833969744751, 0.9689163657112609, 0.37993013572342466, 0.5888917103713083, 0.9872739449917405, 0.9948572027256831, 0.9978992883638175, 0.9912499518768603, 0.9651803529665153, 0.9749901174181592, 0.9949536113616129, 0.988656334077273, 0.9919423772648259, 0.990712320922246, 0.9973021252509249, 0.9905762886131544, 0.30900525587504996, 0.537009133996446, 0.15300260242356842, 0.9942861615931191, 0.12526377063905486, 0.8589515700963761, 0.9937327721890851, 0.9917074953845835, 0.032973863531785004, 0.956242042421765, 0.9934985166817706, 0.30675871563775603, 0.6902071101849511, 0.9767579172225667, 0.019799146970727703, 0.003031627625389207, 0.20918230615185526, 0.5153766963161651, 0.2728464862850286, 0.9841387315045546, 0.12232846301110856, 0.040776154337036186, 0.8291151381864024, 0.9764262043789094, 0.9085957023194308, 0.0017014900792498703, 0.05614917261524572, 0.017014900792498705, 0.0017014900792498703, 0.013611920633998962, 0.35860235617171055, 0.42235388615779246, 0.21516141370302636, 0.9569299400012365, 0.9808426684531141, 0.7801598006207893, 0.11627381643867532, 0.06751382889987599, 0.003750768272215333, 0.033756914449937996, 0.9641746321600165, 0.7647350181858823, 0.20783739170208648, 0.026645819448985444, 0.9303438272356398, 0.06202292181570932, 0.399100976349622, 0.598651464524433, 0.9902860248509626, 0.9411889555656004, 0.982973828661362, 0.9914316174392056, 0.9833607620337028, 0.9858574372403228, 0.9691490248377094, 0.9775129175057232, 0.9766566082566343, 0.769032733044148, 0.18442866448570067, 0.020878716734230262, 0.024358502856601974, 0.9822571995036102, 0.6021619819803387, 0.1875586501250235, 0.06581005267544685, 0.03290502633772342, 0.06581005267544685, 0.013162010535089369, 0.029614523703951078, 0.9854624523552534, 0.04775756694554236, 0.5557244153663111, 0.052099163940591664, 0.31259498364355, 0.03039117896534514, 0.9946741511066755, 0.9799530199348776, 0.9092760042558263, 0.08393316962361473, 0.9695656722875332, 0.9898133761261536, 0.971913051727196, 0.0073076169302796696, 0.014615233860559339, 0.05772534189558192, 0.040407739326907346, 0.9005153335710779, 0.9836554425760543, 0.9923283554202441, 0.9865659332388003, 0.9875419975093674, 0.9953821145765385, 0.4899843370355445, 0.4711387856111005, 0.03769110284888804, 0.9922219604639341, 0.33987042605525863, 0.3583130073140711, 0.11460746925119186, 0.18574313982089716, 0.9729718767112391, 0.9702118826401218, 0.9708602959173277, 0.9879313069897196, 0.05261578516821814, 0.9339301867358719, 0.9857226956576003, 0.8600725234850677, 0.1285165839690331, 0.9760555955741914, 0.19278346711761718, 0.7925542537057595, 0.9961833540157258, 0.9791603463356331, 0.9757088061211441, 0.9940055334341199, 0.9574247090086082, 0.9732153366964391, 0.9913068152756419, 0.9778184554081272, 0.887148075683413, 0.0980981045226851, 0.0042651349792471776, 0.008530269958494355, 0.9835724845939721, 0.9762144116608996, 0.964026158062276, 0.9774912131151893, 0.09404363354261798, 0.8934145186548709, 0.9925637312373828, 0.003759711103171905, 0.9905240179832332, 0.9786537890172398, 0.3004901631056947, 0.6868346585273021, 0.9912413667239454, 0.9720062928971305, 0.9558203958036197, 0.9298916068152377, 0.056017566675616734, 0.9932321302912719, 0.9679205464670694, 0.9892566661200279, 0.9931804686816482, 0.9933643299612861, 0.9757044843929175, 0.7161530696377721, 0.05230331407466875, 0.22530658370626538, 0.9466659119486529, 0.9727407870038617, 0.672977350703264, 0.2991010447570063, 0.6117862768602009, 0.3498810773448422, 0.0303365095963736, 0.008089735892366294, 0.9916552453842913, 0.9927361823492382, 0.23339817904918073, 0.060294529587705016, 0.5873854172737715, 0.019449848254098394, 0.08752431714344276, 0.007779939301639357, 0.0019449848254098393, 0.9566583060541035, 0.9167853278813449, 0.04911349970792919, 0.01637116656930973, 0.005457055523103244, 0.005457055523103244, 0.9778733516424171, 0.9919538586434969, 0.9747615613706706, 0.9963191957335537, 0.9436249170158245, 0.9815612398159181, 0.9865050630183938, 0.978209182645896, 0.977978678918542, 0.987106567764415, 0.9838269194869315, 0.9342554459114073, 0.058390965369462956, 0.9819885936477726, 0.9636834942588742, 0.055742928635239664, 0.9336940546402644, 0.9944163418793645, 0.24038435416259987, 0.7591084868292627, 0.9886848342206873, 0.9925292797372894, 0.9965650239432524, 0.9798658765020105, 0.9474087351468177, 0.9879440299109286, 0.9828037537582492, 0.5430257027490267, 0.4083912309930697, 0.04487815725198568, 0.13640334841890425, 0.37200913205155706, 0.4898120238678835, 0.9854093214106814, 0.8960628247020542, 0.08834422215372366, 0.9555075814896886, 0.9618077427545715, 0.0633585526050446, 0.9186990127731466, 0.9838661406849089, 0.009789712842635908, 0.8375563279296847, 0.020808852867818254, 0.13525754364081866, 0.0052022132169545635, 0.11876725550709961, 0.8511653311342139, 0.25387534638314463, 0.017771274246820123, 0.688002188698322, 0.030465041565977357, 0.007616260391494339, 0.2523100331492487, 0.15526771270722997, 0.5434369944753049, 0.05175590423574332, 0.9451761700968937, 0.9563139502026374, 0.625560577997369, 0.3038437093130078, 0.029788598952255666, 0.038725178637932366, 0.012679178797719858, 0.9889759462221489, 0.9941212498947491, 0.988294245124757, 0.2064488046440237, 0.031761354560619036, 0.7559202385427329, 0.07707800584174412, 0.005780850438130809, 0.869054515865665, 0.04624680350504647, 0.5103749068233402, 0.09644880128945012, 0.09443945126258657, 0.2652342035459878, 0.002009350026863544, 0.008037400107454176, 0.018084150241771894, 0.006028050080590632, 0.9753713391108412, 0.9929267123591904, 0.994953290232348, 0.986746504792676, 0.9964768740748183, 0.9929732928520908, 0.9915916554220662, 0.9710070250860079, 0.9438114979700575, 0.9887934013997376, 0.42911442779708686, 0.5591491028871132, 0.9839551878147931, 0.7051451379833743, 0.04780645003277114, 0.12549193133602424, 0.026891128143433765, 0.09262499693849408, 0.9880265579073831, 0.8125908675998603, 0.1529582809599737, 0.028679677679995068, 0.9868960644310228, 0.9715151343663204, 0.961879744883512, 0.9957765873007581, 0.9692894628375138, 0.995246158575225, 0.9793043571119133, 0.9797937286956673, 0.9882912561302251, 0.9921091378478829, 0.20992028676240565, 0.26575015026304544, 0.022331945400255918, 0.044663890800511835, 0.3305127919237876, 0.12729208878145873, 0.9416604980461936, 0.26444538728436245, 0.10347862980692443, 0.6294949979921236, 0.9926473855081485, 0.9927541627755254], \"Term\": [\"able\", \"able\", \"action\", \"agree\", \"aid\", \"alone\", \"american\", \"anti\", \"anywhere\", \"apartment\", \"appreciate\", \"appreciate\", \"area\", \"area\", \"area\", \"argument\", \"armenian\", \"ask\", \"ask\", \"ask\", \"ask\", \"ask\", \"ask\", \"attack\", \"automatic\", \"available\", \"available\", \"available\", \"available\", \"ax\", \"back\", \"back\", \"back\", \"backup\", \"bear\", \"believe\", \"believe\", \"believe\", \"belong\", \"big\", \"bike\", \"book\", \"border\", \"border\", \"build\", \"build\", \"build\", \"building\", \"burn\", \"car\", \"card\", \"carry\", \"case\", \"case\", \"change\", \"charge\", \"check\", \"child\", \"city\", \"claim\", \"claim\", \"clearly\", \"clock\", \"clock\", \"come\", \"come\", \"come\", \"comment\", \"comment\", \"consider\", \"contact\", \"contact\", \"cost\", \"could\", \"could\", \"could\", \"could\", \"could\", \"could\", \"could\", \"country\", \"criminal\", \"criminal\", \"crowd\", \"cut\", \"datum\", \"datum\", \"day\", \"day\", \"dead\", \"deal\", \"death\", \"depend\", \"destroy\", \"die\", \"director\", \"disk\", \"drive\", \"drive\", \"driver\", \"eat\", \"else\", \"entry\", \"escape\", \"escape\", \"even\", \"even\", \"even\", \"even\", \"ever\", \"evidence\", \"evidence\", \"exactly\", \"exactly\", \"face\", \"fear\", \"federal\", \"figure\", \"file\", \"find\", \"find\", \"find\", \"find\", \"find\", \"fire\", \"first\", \"first\", \"first\", \"floor\", \"forget\", \"former\", \"game\", \"game\", \"gang\", \"gas\", \"german\", \"go\", \"go\", \"go\", \"go\", \"good\", \"good\", \"good\", \"good\", \"good\", \"good\", \"good\", \"government\", \"government\", \"government\", \"greek\", \"ground\", \"group\", \"group\", \"gun\", \"guy\", \"handle\", \"hat\", \"head\", \"head\", \"hear\", \"hear\", \"hear\", \"heavy\", \"history\", \"home\", \"home\", \"homosexual\", \"how\", \"human\", \"human\", \"important\", \"include\", \"information\", \"interest\", \"interested\", \"international\", \"israeli\", \"jewish\", \"job\", \"just\", \"kill\", \"kind\", \"know\", \"know\", \"know\", \"law\", \"lead\", \"lead\", \"leave\", \"letter\", \"lie\", \"lie\", \"life\", \"light\", \"light\", \"live\", \"live\", \"look\", \"look\", \"look\", \"look\", \"machine\", \"mail\", \"mail\", \"mail\", \"majority\", \"make\", \"make\", \"make\", \"make\", \"make\", \"make\", \"man\", \"man\", \"man\", \"manage\", \"manual\", \"many\", \"many\", \"many\", \"many\", \"many\", \"market\", \"may\", \"may\", \"may\", \"maybe\", \"maybe\", \"member\", \"member\", \"military\", \"mk\", \"mode\", \"model\", \"module\", \"money\", \"moral\", \"morning\", \"mph\", \"much\", \"much\", \"much\", \"much\", \"murder\", \"need\", \"need\", \"need\", \"need\", \"need\", \"need\", \"need\", \"neighbor\", \"new\", \"new\", \"new\", \"new\", \"new\", \"next\", \"night\", \"non\", \"non\", \"office\", \"officer\", \"old\", \"old\", \"old\", \"one\", \"one\", \"one\", \"operate\", \"opinion\", \"option\", \"organization\", \"output\", \"part\", \"part\", \"part\", \"pay\", \"people\", \"people\", \"people\", \"people\", \"phone\", \"piece\", \"pl\", \"plan\", \"play\", \"play\", \"player\", \"police\", \"police\", \"political\", \"product\", \"product\", \"program\", \"protect\", \"prove\", \"public\", \"publication\", \"publish\", \"pull\", \"ql\", \"question\", \"question\", \"question\", \"question\", \"quote\", \"race\", \"rally\", \"rate\", \"rather\", \"rather\", \"really\", \"really\", \"reference\", \"regulation\", \"religion\", \"religion\", \"remember\", \"remove\", \"replace\", \"report\", \"report\", \"require\", \"resource\", \"return\", \"ride\", \"road\", \"room\", \"run\", \"run\", \"run\", \"rush\", \"safety\", \"save\", \"save\", \"say\", \"say\", \"say\", \"say\", \"school\", \"second\", \"see\", \"see\", \"see\", \"see\", \"see\", \"see\", \"see\", \"seek\", \"seem\", \"seem\", \"seem\", \"seem\", \"seem\", \"self\", \"sell\", \"service\", \"several\", \"shall\", \"shoot\", \"simply\", \"single\", \"sister\", \"sit\", \"skill\", \"small\", \"small\", \"soldier\", \"somewhere\", \"sound\", \"sound\", \"source\", \"space\", \"space\", \"speak\", \"specific\", \"speed\", \"spend\", \"staff\", \"stand\", \"standard\", \"start\", \"start\", \"start\", \"state\", \"state\", \"state\", \"statement\", \"stop\", \"stop\", \"strong\", \"struggle\", \"study\", \"study\", \"support\", \"support\", \"system\", \"system\", \"system\", \"system\", \"table\", \"table\", \"take\", \"take\", \"take\", \"take\", \"take\", \"talk\", \"talk\", \"talk\", \"talk\", \"tape\", \"target\", \"tell\", \"tell\", \"tell\", \"tell\", \"th\", \"th\", \"thank\", \"there\", \"thing\", \"thing\", \"thing\", \"think\", \"think\", \"think\", \"think\", \"time\", \"time\", \"time\", \"time\", \"time\", \"time\", \"time\", \"time\", \"tm\", \"today\", \"together\", \"town\", \"true\", \"truth\", \"turkish\", \"typical\", \"um\", \"unit\", \"version\", \"version\", \"village\", \"want\", \"want\", \"want\", \"want\", \"want\", \"war\", \"way\", \"way\", \"way\", \"weapon\", \"wear\", \"wheel\", \"whole\", \"widget\", \"wife\", \"willing\", \"win\", \"window\", \"woman\", \"work\", \"work\", \"work\", \"work\", \"work\", \"work\", \"worker\", \"year\", \"year\", \"year\", \"yesterday\", \"young\"]}, \"R\": 10, \"lambda.step\": 0.01, \"plot.opts\": {\"xlab\": \"PC1\", \"ylab\": \"PC2\"}, \"topic.order\": [10, 7, 12, 13, 2, 17, 20, 6, 8, 9, 19, 14, 1, 11, 3, 5, 4, 15, 18, 16]};\n",
              "\n",
              "function LDAvis_load_lib(url, callback){\n",
              "  var s = document.createElement('script');\n",
              "  s.src = url;\n",
              "  s.async = true;\n",
              "  s.onreadystatechange = s.onload = callback;\n",
              "  s.onerror = function(){console.warn(\"failed to load library \" + url);};\n",
              "  document.getElementsByTagName(\"head\")[0].appendChild(s);\n",
              "}\n",
              "\n",
              "if(typeof(LDAvis) !== \"undefined\"){\n",
              "   // already loaded: just create the visualization\n",
              "   !function(LDAvis){\n",
              "       new LDAvis(\"#\" + \"ldavis_el631403852056875045413007782\", ldavis_el631403852056875045413007782_data);\n",
              "   }(LDAvis);\n",
              "}else if(typeof define === \"function\" && define.amd){\n",
              "   // require.js is available: use it to load d3/LDAvis\n",
              "   require.config({paths: {d3: \"https://d3js.org/d3.v5\"}});\n",
              "   require([\"d3\"], function(d3){\n",
              "      window.d3 = d3;\n",
              "      LDAvis_load_lib(\"https://cdn.jsdelivr.net/gh/bmabey/pyLDAvis@3.3.1/pyLDAvis/js/ldavis.v3.0.0.js\", function(){\n",
              "        new LDAvis(\"#\" + \"ldavis_el631403852056875045413007782\", ldavis_el631403852056875045413007782_data);\n",
              "      });\n",
              "    });\n",
              "}else{\n",
              "    // require.js not available: dynamically load d3 & LDAvis\n",
              "    LDAvis_load_lib(\"https://d3js.org/d3.v5.js\", function(){\n",
              "         LDAvis_load_lib(\"https://cdn.jsdelivr.net/gh/bmabey/pyLDAvis@3.3.1/pyLDAvis/js/ldavis.v3.0.0.js\", function(){\n",
              "                 new LDAvis(\"#\" + \"ldavis_el631403852056875045413007782\", ldavis_el631403852056875045413007782_data);\n",
              "            })\n",
              "         });\n",
              "}\n",
              "</script>"
            ]
          },
          "metadata": {},
          "execution_count": 153
        }
      ]
    },
    {
      "cell_type": "code",
      "source": [
        "for i in range(0, lda_model.num_topics-1):\n",
        "  print (lda_model.print_topic(i))"
      ],
      "metadata": {
        "colab": {
          "base_uri": "https://localhost:8080/"
        },
        "id": "0np3pPUu1MQX",
        "outputId": "17fc064d-635a-4518-8abc-ad210cb08177"
      },
      "execution_count": 154,
      "outputs": [
        {
          "output_type": "stream",
          "name": "stdout",
          "text": [
            "0.033*\"window\" + 0.024*\"automatic\" + 0.020*\"work\" + 0.017*\"forget\" + 0.014*\"office\" + 0.014*\"interest\" + 0.013*\"product\" + 0.013*\"resource\" + 0.012*\"widget\" + 0.012*\"willing\"\n",
            "0.050*\"say\" + 0.048*\"go\" + 0.021*\"live\" + 0.021*\"gun\" + 0.019*\"time\" + 0.017*\"hear\" + 0.013*\"start\" + 0.013*\"maybe\" + 0.013*\"people\" + 0.011*\"rather\"\n",
            "0.036*\"stand\" + 0.036*\"return\" + 0.034*\"important\" + 0.034*\"young\" + 0.027*\"building\" + 0.026*\"history\" + 0.025*\"non\" + 0.020*\"reference\" + 0.013*\"manual\" + 0.013*\"standard\"\n",
            "0.090*\"kill\" + 0.059*\"child\" + 0.027*\"plan\" + 0.020*\"table\" + 0.019*\"charge\" + 0.016*\"clearly\" + 0.015*\"depend\" + 0.014*\"clock\" + 0.012*\"wear\" + 0.012*\"aid\"\n",
            "0.062*\"armenian\" + 0.033*\"turkish\" + 0.021*\"single\" + 0.016*\"gas\" + 0.014*\"wheel\" + 0.013*\"save\" + 0.011*\"german\" + 0.010*\"shall\" + 0.010*\"border\" + 0.009*\"escape\"\n",
            "0.060*\"car\" + 0.031*\"thank\" + 0.025*\"old\" + 0.023*\"find\" + 0.019*\"know\" + 0.019*\"tell\" + 0.019*\"school\" + 0.018*\"book\" + 0.017*\"look\" + 0.016*\"back\"\n",
            "0.022*\"may\" + 0.019*\"change\" + 0.018*\"include\" + 0.018*\"file\" + 0.018*\"group\" + 0.016*\"question\" + 0.016*\"information\" + 0.015*\"support\" + 0.014*\"need\" + 0.013*\"run\"\n",
            "0.028*\"work\" + 0.021*\"pay\" + 0.020*\"whole\" + 0.020*\"driver\" + 0.019*\"next\" + 0.016*\"sell\" + 0.016*\"option\" + 0.014*\"new\" + 0.012*\"sound\" + 0.012*\"bike\"\n",
            "0.023*\"there\" + 0.022*\"speed\" + 0.020*\"greek\" + 0.015*\"output\" + 0.014*\"space\" + 0.013*\"run\" + 0.012*\"build\" + 0.011*\"international\" + 0.011*\"morning\" + 0.011*\"available\"\n",
            "0.035*\"say\" + 0.031*\"make\" + 0.027*\"go\" + 0.015*\"really\" + 0.015*\"people\" + 0.015*\"way\" + 0.015*\"time\" + 0.014*\"want\" + 0.013*\"first\" + 0.013*\"much\"\n",
            "0.157*\"ax\" + 0.064*\"drive\" + 0.019*\"mode\" + 0.016*\"version\" + 0.016*\"fear\" + 0.013*\"disk\" + 0.012*\"tm\" + 0.010*\"module\" + 0.010*\"contact\" + 0.009*\"available\"\n",
            "0.037*\"think\" + 0.030*\"know\" + 0.028*\"come\" + 0.025*\"see\" + 0.024*\"could\" + 0.022*\"people\" + 0.022*\"take\" + 0.020*\"thing\" + 0.019*\"good\" + 0.015*\"even\"\n",
            "0.014*\"small\" + 0.013*\"road\" + 0.013*\"military\" + 0.012*\"report\" + 0.012*\"opinion\" + 0.011*\"claim\" + 0.010*\"home\" + 0.010*\"machine\" + 0.010*\"member\" + 0.010*\"action\"\n",
            "0.016*\"jewish\" + 0.016*\"argument\" + 0.016*\"weapon\" + 0.015*\"destroy\" + 0.012*\"evidence\" + 0.012*\"homosexual\" + 0.010*\"safety\" + 0.010*\"religion\" + 0.009*\"human\" + 0.009*\"moral\"\n",
            "0.042*\"big\" + 0.028*\"statement\" + 0.025*\"area\" + 0.024*\"able\" + 0.023*\"floor\" + 0.023*\"model\" + 0.021*\"win\" + 0.019*\"former\" + 0.014*\"director\" + 0.013*\"man\"\n",
            "0.026*\"anti\" + 0.025*\"drive\" + 0.021*\"gang\" + 0.021*\"remove\" + 0.018*\"shoot\" + 0.016*\"replace\" + 0.016*\"alone\" + 0.015*\"backup\" + 0.015*\"strong\" + 0.012*\"datum\"\n",
            "0.037*\"year\" + 0.021*\"government\" + 0.014*\"country\" + 0.013*\"th\" + 0.012*\"town\" + 0.011*\"soldier\" + 0.011*\"israeli\" + 0.010*\"crowd\" + 0.010*\"city\" + 0.009*\"village\"\n",
            "0.050*\"carry\" + 0.032*\"ground\" + 0.015*\"ql\" + 0.012*\"pl\" + 0.010*\"worker\" + 0.010*\"rush\" + 0.010*\"regulation\" + 0.009*\"hat\" + 0.009*\"belong\" + 0.009*\"mk\"\n",
            "0.033*\"people\" + 0.032*\"woman\" + 0.024*\"job\" + 0.023*\"apartment\" + 0.020*\"talk\" + 0.019*\"state\" + 0.015*\"wife\" + 0.014*\"figure\" + 0.013*\"believe\" + 0.013*\"death\"\n"
          ]
        }
      ]
    }
  ]
}