{
  "nbformat": 4,
  "nbformat_minor": 0,
  "metadata": {
    "colab": {
      "name": "LSA.ipynb",
      "provenance": [],
      "collapsed_sections": [],
      "authorship_tag": "ABX9TyNd4eK97IFryHYlxVbimrvY",
      "include_colab_link": true
    },
    "kernelspec": {
      "name": "python3",
      "display_name": "Python 3"
    },
    "language_info": {
      "name": "python"
    }
  },
  "cells": [
    {
      "cell_type": "markdown",
      "metadata": {
        "id": "view-in-github",
        "colab_type": "text"
      },
      "source": [
        "<a href=\"https://colab.research.google.com/github/geersenthil/Topic-Modeling-/blob/main/LSA.ipynb\" target=\"_parent\"><img src=\"https://colab.research.google.com/assets/colab-badge.svg\" alt=\"Open In Colab\"/></a>"
      ]
    },
    {
      "cell_type": "markdown",
      "source": [
        "## Import Libraries"
      ],
      "metadata": {
        "id": "1w85MANKPzDp"
      }
    },
    {
      "cell_type": "code",
      "execution_count": 54,
      "metadata": {
        "id": "3SYRy2UDnqId",
        "colab": {
          "base_uri": "https://localhost:8080/"
        },
        "outputId": "eb16cb86-d5d0-435a-85f1-f4ca88d5cf57"
      },
      "outputs": [
        {
          "output_type": "stream",
          "name": "stdout",
          "text": [
            "[nltk_data] Downloading package stopwords to /root/nltk_data...\n",
            "[nltk_data]   Package stopwords is already up-to-date!\n"
          ]
        }
      ],
      "source": [
        "import pandas as pd\n",
        "import numpy as np\n",
        "\n",
        "#Gensim\n",
        "import gensim\n",
        "import gensim.corpora as corpora\n",
        "from gensim.models import LsiModel\n",
        "from gensim.parsing import strip_tags, strip_numeric, strip_multiple_whitespaces, stem_text, strip_punctuation, remove_stopwords\n",
        "from gensim.parsing import preprocess_string\n",
        "from gensim.models.coherencemodel import CoherenceModel\n",
        "\n",
        "\n",
        "#for histogram\n",
        "import matplotlib.pyplot as plt\n",
        "from collections import Counter\n",
        "\n",
        "\n",
        "#nltk\n",
        "import nltk\n",
        "nltk.download('stopwords')\n",
        "from nltk.corpus import stopwords\n",
        "from nltk.tokenize import word_tokenize,sent_tokenize\n",
        "\n",
        "\n",
        "# vectorizers for creating the document-term-matrix (DTM)\n",
        "from sklearn.feature_extraction.text import TfidfVectorizer,CountVectorizer\n",
        "\n",
        "#Spacy\n",
        "import spacy\n",
        "\n",
        "\n",
        "#Dataset\n",
        "from sklearn.datasets import fetch_20newsgroups\n"
      ]
    },
    {
      "cell_type": "markdown",
      "source": [
        "## Load Data into Dataframe"
      ],
      "metadata": {
        "id": "FFk_NZmgf7jB"
      }
    },
    {
      "cell_type": "code",
      "source": [
        "#method that converts data to csv file\n",
        "def twenty_newsgroup_data_to_csv():\n",
        "    news_group_data = fetch_20newsgroups(subset='train', remove=('headers', 'footers', 'quotes') ,shuffle=True)\n",
        "\n",
        "    df = (pd.DataFrame([news_group_data.data, news_group_data.target.tolist()]).T).sample(1500)\n",
        "    df.columns = ['text', 'target']\n",
        "\n",
        "    targets = pd.DataFrame( news_group_data.target_names)\n",
        "    targets.columns=['title']\n",
        "\n",
        "    out = pd.merge(df, targets, left_on='target', right_index=True)\n",
        "    out.to_csv('20_newsgroup.csv')\n",
        "twenty_newsgroup_data_to_csv()"
      ],
      "metadata": {
        "id": "3GeGzeMVfxOX"
      },
      "execution_count": 55,
      "outputs": []
    },
    {
      "cell_type": "code",
      "source": [
        "#read data from CSV\n",
        "dataset = pd.read_csv('20_newsgroup.csv', delimiter=',')\n",
        "dataset.dropna(subset = [\"text\"], inplace=True)\n"
      ],
      "metadata": {
        "id": "vJZSa2e-gHjs"
      },
      "execution_count": 56,
      "outputs": []
    },
    {
      "cell_type": "code",
      "source": [
        "# Data Size\n",
        "print(\"The size of the dataset is: \\n\", dataset.count())"
      ],
      "metadata": {
        "colab": {
          "base_uri": "https://localhost:8080/"
        },
        "id": "fQrAoszwURrD",
        "outputId": "4a802840-a2f9-4138-f48a-282e2098c582"
      },
      "execution_count": 57,
      "outputs": [
        {
          "output_type": "stream",
          "name": "stdout",
          "text": [
            "The size of the dataset is: \n",
            " Unnamed: 0    1474\n",
            "text          1474\n",
            "target        1474\n",
            "title         1474\n",
            "dtype: int64\n"
          ]
        }
      ]
    },
    {
      "cell_type": "code",
      "source": [
        "#Category Distribution\n",
        "counter = Counter(dataset['title'])\n",
        "topic_names = counter.keys()\n",
        "topic_counts = counter.values()\n",
        "ax = plt.gca()\n",
        "plt.draw()\n",
        "\n",
        "# Plot histogram using matplotlib bar().\n",
        "indexes = np.arange(len(topic_names))\n",
        "width = 0.5\n",
        "plt.bar(indexes, topic_counts, width)\n",
        "\n",
        "ax.set_xticklabels(ax.get_xticks(), rotation = 45)\n",
        "plt.xticks(indexes, topic_names)\n",
        "plt.show()"
      ],
      "metadata": {
        "colab": {
          "base_uri": "https://localhost:8080/",
          "height": 357
        },
        "id": "jxx5xD7UUh-W",
        "outputId": "b56360dd-7908-47ac-f873-5692580b5cf9"
      },
      "execution_count": 58,
      "outputs": [
        {
          "output_type": "display_data",
          "data": {
            "text/plain": [
              "<Figure size 432x288 with 1 Axes>"
            ],
            "image/png": "[encoded data removed]"
          },
          "metadata": {
            "needs_background": "light"
          }
        }
      ]
    },
    {
      "cell_type": "code",
      "source": [
        "print(counter)"
      ],
      "metadata": {
        "colab": {
          "base_uri": "https://localhost:8080/"
        },
        "id": "KsW8lzO4UtiY",
        "outputId": "ed31fbb0-d422-44b0-c369-2c942ac2f839"
      },
      "execution_count": 59,
      "outputs": [
        {
          "output_type": "stream",
          "name": "stdout",
          "text": [
            "Counter({'comp.graphics': 94, 'comp.windows.x': 85, 'rec.motorcycles': 83, 'sci.electronics': 81, 'rec.sport.baseball': 81, 'comp.sys.ibm.pc.hardware': 81, 'rec.autos': 79, 'comp.sys.mac.hardware': 79, 'sci.space': 78, 'comp.os.ms-windows.misc': 77, 'misc.forsale': 76, 'sci.crypt': 75, 'talk.politics.mideast': 73, 'sci.med': 73, 'rec.sport.hockey': 71, 'soc.religion.christian': 66, 'talk.politics.misc': 64, 'alt.atheism': 62, 'talk.politics.guns': 60, 'talk.religion.misc': 36})\n"
          ]
        }
      ]
    },
    {
      "cell_type": "markdown",
      "source": [
        "## Pre-process data"
      ],
      "metadata": {
        "id": "_P5ElWt8RlOR"
      }
    },
    {
      "cell_type": "markdown",
      "source": [
        "Lemmatization to get base words"
      ],
      "metadata": {
        "id": "y-sfYGIIW2mg"
      }
    },
    {
      "cell_type": "code",
      "source": [
        "def lemmatization(texts, allowed_postags=[\"NOUN\",\"ADJ\",\"VERB\",\"ADV\"]):\n",
        "  nlp = spacy.load('en_core_web_sm', disable=[\"parser\", \"ner\"])\n",
        "  texts_out = []\n",
        "  for text in texts:\n",
        "    doc = nlp(text)\n",
        "    new_text = []\n",
        "    for token in doc:\n",
        "        if token.pos_ in allowed_postags:\n",
        "            new_text.append(token.lemma_)\n",
        "    final = \" \".join(new_text)\n",
        "    texts_out.append(final)\n",
        "  return (texts_out)"
      ],
      "metadata": {
        "id": "x6ptoc_0Rk7N"
      },
      "execution_count": 77,
      "outputs": []
    },
    {
      "cell_type": "code",
      "source": [
        "dataset['news_lemma_text']=lemmatization(dataset['text'])\n"
      ],
      "metadata": {
        "id": "cdUHg20b4awO"
      },
      "execution_count": 78,
      "outputs": []
    },
    {
      "cell_type": "code",
      "source": [
        "dataset.head(10)"
      ],
      "metadata": {
        "colab": {
          "base_uri": "https://localhost:8080/",
          "height": 363
        },
        "id": "tpjSLVfxXF5P",
        "outputId": "5be88322-233d-4733-b47d-1a9339ee478d"
      },
      "execution_count": 79,
      "outputs": [
        {
          "output_type": "execute_result",
          "data": {
            "text/plain": [
              "   Unnamed: 0                                               text  target  \\\n",
              "0       11186  \\n  > \\n  > I am looking for an algorithm to d...       1   \n",
              "1        5799  I finally got a 24 bit viewer for my POVRAY ge...       1   \n",
              "2        8627  Up until last week, I have been running POVray...       1   \n",
              "3       10871  What hardware do plan to run on?  Workstation ...       1   \n",
              "4        7454  /*\\n\\nThis program doesn't detect edges with c...       1   \n",
              "5        7568  Visual Numerics Inc. (formerly IMSL and Precis...       1   \n",
              "6        1715  Hi.\\n\\nThe RTrace ray tracer supports 3D text ...       1   \n",
              "7        9413  Hello, I am looking for commercial software pa...       1   \n",
              "8        3503  Hi again,\\n\\nMany thanks to all the people who...       1   \n",
              "9        7826  \\nA brilliant algorithm.  *NOT*\\n\\nSeriously -...       1   \n",
              "\n",
              "           title                                  news_cleaned_text  \\\n",
              "0  comp.graphics  look algorithm determine give point bind polyg...   \n",
              "1  comp.graphics  finally get bit viewer povray generate .tga fi...   \n",
              "2  comp.graphics  last week run major problem increase memory fi...   \n",
              "3  comp.graphics  hardware plan run workstation pc cost level ru...   \n",
              "4  comp.graphics  program detect edge compass operator laplacian...   \n",
              "5  comp.graphics  formerly process secure site beta testing prod...   \n",
              "6  comp.graphics  ray support text primitive collection sphere c...   \n",
              "7  comp.graphics  look commercial software package professional ...   \n",
              "8  comp.graphics  again many thank people respond request screen...   \n",
              "9  comp.graphics  brilliant algorithm not seriously correct sign...   \n",
              "\n",
              "                                         news_tokens  \\\n",
              "0  [look, algorithm, determine, give, point, bind...   \n",
              "1  [finally, get, bit, viewer, povray, generate, ...   \n",
              "2  [last, week, run, major, problem, increase, me...   \n",
              "3  [hardware, plan, run, workstation, cost, level...   \n",
              "4  [program, detect, edge, compass, operator, lap...   \n",
              "5  [formerly, process, secure, site, beta, testin...   \n",
              "6  [ray, support, text, primitive, collection, sp...   \n",
              "7  [look, commercial, software, package, professi...   \n",
              "8  [many, thank, people, respond, request, screen...   \n",
              "9  [brilliant, algorithm, seriously, correct, sig...   \n",
              "\n",
              "                                     news_lemma_text  \n",
              "0  look algorithm determine give point bind polyg...  \n",
              "1  finally get bit viewer povray generate .tga fi...  \n",
              "2  last week run major problem increase memory fi...  \n",
              "3  hardware plan run workstation pc cost level ru...  \n",
              "4  program detect edge compass operator laplacian...  \n",
              "5  formerly process secure site beta testing prod...  \n",
              "6  ray support text primitive collection sphere c...  \n",
              "7  look commercial software package professional ...  \n",
              "8  again many thank people respond request screen...  \n",
              "9  brilliant algorithm not seriously correct sign...  "
            ],
            "text/html": [
              "\n",
              "  <div id=\"df-0570dae9-663b-4546-8603-72c3083d3d7f\">\n",
              "    <div class=\"colab-df-container\">\n",
              "      <div>\n",
              "<style scoped>\n",
              "    .dataframe tbody tr th:only-of-type {\n",
              "        vertical-align: middle;\n",
              "    }\n",
              "\n",
              "    .dataframe tbody tr th {\n",
              "        vertical-align: top;\n",
              "    }\n",
              "\n",
              "    .dataframe thead th {\n",
              "        text-align: right;\n",
              "    }\n",
              "</style>\n",
              "<table border=\"1\" class=\"dataframe\">\n",
              "  <thead>\n",
              "    <tr style=\"text-align: right;\">\n",
              "      <th></th>\n",
              "      <th>Unnamed: 0</th>\n",
              "      <th>text</th>\n",
              "      <th>target</th>\n",
              "      <th>title</th>\n",
              "      <th>news_cleaned_text</th>\n",
              "      <th>news_tokens</th>\n",
              "      <th>news_lemma_text</th>\n",
              "    </tr>\n",
              "  </thead>\n",
              "  <tbody>\n",
              "    <tr>\n",
              "      <th>0</th>\n",
              "      <td>11186</td>\n",
              "      <td>\\n  &gt; \\n  &gt; I am looking for an algorithm to d...</td>\n",
              "      <td>1</td>\n",
              "      <td>comp.graphics</td>\n",
              "      <td>look algorithm determine give point bind polyg...</td>\n",
              "      <td>[look, algorithm, determine, give, point, bind...</td>\n",
              "      <td>look algorithm determine give point bind polyg...</td>\n",
              "    </tr>\n",
              "    <tr>\n",
              "      <th>1</th>\n",
              "      <td>5799</td>\n",
              "      <td>I finally got a 24 bit viewer for my POVRAY ge...</td>\n",
              "      <td>1</td>\n",
              "      <td>comp.graphics</td>\n",
              "      <td>finally get bit viewer povray generate .tga fi...</td>\n",
              "      <td>[finally, get, bit, viewer, povray, generate, ...</td>\n",
              "      <td>finally get bit viewer povray generate .tga fi...</td>\n",
              "    </tr>\n",
              "    <tr>\n",
              "      <th>2</th>\n",
              "      <td>8627</td>\n",
              "      <td>Up until last week, I have been running POVray...</td>\n",
              "      <td>1</td>\n",
              "      <td>comp.graphics</td>\n",
              "      <td>last week run major problem increase memory fi...</td>\n",
              "      <td>[last, week, run, major, problem, increase, me...</td>\n",
              "      <td>last week run major problem increase memory fi...</td>\n",
              "    </tr>\n",
              "    <tr>\n",
              "      <th>3</th>\n",
              "      <td>10871</td>\n",
              "      <td>What hardware do plan to run on?  Workstation ...</td>\n",
              "      <td>1</td>\n",
              "      <td>comp.graphics</td>\n",
              "      <td>hardware plan run workstation pc cost level ru...</td>\n",
              "      <td>[hardware, plan, run, workstation, cost, level...</td>\n",
              "      <td>hardware plan run workstation pc cost level ru...</td>\n",
              "    </tr>\n",
              "    <tr>\n",
              "      <th>4</th>\n",
              "      <td>7454</td>\n",
              "      <td>/*\\n\\nThis program doesn't detect edges with c...</td>\n",
              "      <td>1</td>\n",
              "      <td>comp.graphics</td>\n",
              "      <td>program detect edge compass operator laplacian...</td>\n",
              "      <td>[program, detect, edge, compass, operator, lap...</td>\n",
              "      <td>program detect edge compass operator laplacian...</td>\n",
              "    </tr>\n",
              "    <tr>\n",
              "      <th>5</th>\n",
              "      <td>7568</td>\n",
              "      <td>Visual Numerics Inc. (formerly IMSL and Precis...</td>\n",
              "      <td>1</td>\n",
              "      <td>comp.graphics</td>\n",
              "      <td>formerly process secure site beta testing prod...</td>\n",
              "      <td>[formerly, process, secure, site, beta, testin...</td>\n",
              "      <td>formerly process secure site beta testing prod...</td>\n",
              "    </tr>\n",
              "    <tr>\n",
              "      <th>6</th>\n",
              "      <td>1715</td>\n",
              "      <td>Hi.\\n\\nThe RTrace ray tracer supports 3D text ...</td>\n",
              "      <td>1</td>\n",
              "      <td>comp.graphics</td>\n",
              "      <td>ray support text primitive collection sphere c...</td>\n",
              "      <td>[ray, support, text, primitive, collection, sp...</td>\n",
              "      <td>ray support text primitive collection sphere c...</td>\n",
              "    </tr>\n",
              "    <tr>\n",
              "      <th>7</th>\n",
              "      <td>9413</td>\n",
              "      <td>Hello, I am looking for commercial software pa...</td>\n",
              "      <td>1</td>\n",
              "      <td>comp.graphics</td>\n",
              "      <td>look commercial software package professional ...</td>\n",
              "      <td>[look, commercial, software, package, professi...</td>\n",
              "      <td>look commercial software package professional ...</td>\n",
              "    </tr>\n",
              "    <tr>\n",
              "      <th>8</th>\n",
              "      <td>3503</td>\n",
              "      <td>Hi again,\\n\\nMany thanks to all the people who...</td>\n",
              "      <td>1</td>\n",
              "      <td>comp.graphics</td>\n",
              "      <td>again many thank people respond request screen...</td>\n",
              "      <td>[many, thank, people, respond, request, screen...</td>\n",
              "      <td>again many thank people respond request screen...</td>\n",
              "    </tr>\n",
              "    <tr>\n",
              "      <th>9</th>\n",
              "      <td>7826</td>\n",
              "      <td>\\nA brilliant algorithm.  *NOT*\\n\\nSeriously -...</td>\n",
              "      <td>1</td>\n",
              "      <td>comp.graphics</td>\n",
              "      <td>brilliant algorithm not seriously correct sign...</td>\n",
              "      <td>[brilliant, algorithm, seriously, correct, sig...</td>\n",
              "      <td>brilliant algorithm not seriously correct sign...</td>\n",
              "    </tr>\n",
              "  </tbody>\n",
              "</table>\n",
              "</div>\n",
              "      <button class=\"colab-df-convert\" onclick=\"convertToInteractive('df-0570dae9-663b-4546-8603-72c3083d3d7f')\"\n",
              "              title=\"Convert this dataframe to an interactive table.\"\n",
              "              style=\"display:none;\">\n",
              "        \n",
              "  <svg xmlns=\"http://www.w3.org/2000/svg\" height=\"24px\"viewBox=\"0 0 24 24\"\n",
              "       width=\"24px\">\n",
              "    <path d=\"M0 0h24v24H0V0z\" fill=\"none\"/>\n",
              "    <path d=\"M18.56 5.44l.94 2.06.94-2.06 2.06-.94-2.06-.94-.94-2.06-.94 2.06-2.06.94zm-11 1L8.5 8.5l.94-2.06 2.06-.94-2.06-.94L8.5 2.5l-.94 2.06-2.06.94zm10 10l.94 2.06.94-2.06 2.06-.94-2.06-.94-.94-2.06-.94 2.06-2.06.94z\"/><path d=\"M17.41 7.96l-1.37-1.37c-.4-.4-.92-.59-1.43-.59-.52 0-1.04.2-1.43.59L10.3 9.45l-7.72 7.72c-.78.78-.78 2.05 0 2.83L4 21.41c.39.39.9.59 1.41.59.51 0 1.02-.2 1.41-.59l7.78-7.78 2.81-2.81c.8-.78.8-2.07 0-2.86zM5.41 20L4 18.59l7.72-7.72 1.47 1.35L5.41 20z\"/>\n",
              "  </svg>\n",
              "      </button>\n",
              "      \n",
              "  <style>\n",
              "    .colab-df-container {\n",
              "      display:flex;\n",
              "      flex-wrap:wrap;\n",
              "      gap: 12px;\n",
              "    }\n",
              "\n",
              "    .colab-df-convert {\n",
              "      background-color: #E8F0FE;\n",
              "      border: none;\n",
              "      border-radius: 50%;\n",
              "      cursor: pointer;\n",
              "      display: none;\n",
              "      fill: #1967D2;\n",
              "      height: 32px;\n",
              "      padding: 0 0 0 0;\n",
              "      width: 32px;\n",
              "    }\n",
              "\n",
              "    .colab-df-convert:hover {\n",
              "      background-color: #E2EBFA;\n",
              "      box-shadow: 0px 1px 2px rgba(60, 64, 67, 0.3), 0px 1px 3px 1px rgba(60, 64, 67, 0.15);\n",
              "      fill: #174EA6;\n",
              "    }\n",
              "\n",
              "    [theme=dark] .colab-df-convert {\n",
              "      background-color: #3B4455;\n",
              "      fill: #D2E3FC;\n",
              "    }\n",
              "\n",
              "    [theme=dark] .colab-df-convert:hover {\n",
              "      background-color: #434B5C;\n",
              "      box-shadow: 0px 1px 3px 1px rgba(0, 0, 0, 0.15);\n",
              "      filter: drop-shadow(0px 1px 2px rgba(0, 0, 0, 0.3));\n",
              "      fill: #FFFFFF;\n",
              "    }\n",
              "  </style>\n",
              "\n",
              "      <script>\n",
              "        const buttonEl =\n",
              "          document.querySelector('#df-0570dae9-663b-4546-8603-72c3083d3d7f button.colab-df-convert');\n",
              "        buttonEl.style.display =\n",
              "          google.colab.kernel.accessAllowed ? 'block' : 'none';\n",
              "\n",
              "        async function convertToInteractive(key) {\n",
              "          const element = document.querySelector('#df-0570dae9-663b-4546-8603-72c3083d3d7f');\n",
              "          const dataTable =\n",
              "            await google.colab.kernel.invokeFunction('convertToInteractive',\n",
              "                                                     [key], {});\n",
              "          if (!dataTable) return;\n",
              "\n",
              "          const docLinkHtml = 'Like what you see? Visit the ' +\n",
              "            '<a target=\"_blank\" href=https://colab.research.google.com/notebooks/data_table.ipynb>data table notebook</a>'\n",
              "            + ' to learn more about interactive tables.';\n",
              "          element.innerHTML = '';\n",
              "          dataTable['output_type'] = 'display_data';\n",
              "          await google.colab.output.renderOutput(dataTable, element);\n",
              "          const docLink = document.createElement('div');\n",
              "          docLink.innerHTML = docLinkHtml;\n",
              "          element.appendChild(docLink);\n",
              "        }\n",
              "      </script>\n",
              "    </div>\n",
              "  </div>\n",
              "  "
            ]
          },
          "metadata": {},
          "execution_count": 79
        }
      ]
    },
    {
      "cell_type": "markdown",
      "source": [
        "Remove Stopword"
      ],
      "metadata": {
        "id": "FHwcoh0nXJon"
      }
    },
    {
      "cell_type": "code",
      "source": [
        "stop_words = stopwords.words('english')\n",
        "print(len(stop_words))\n",
        "stop_words.extend(['from', 'subject', 're', 'edu', 'use','cdw','would','line','article'])\n",
        "print(len(stop_words))"
      ],
      "metadata": {
        "id": "9mRA_0cTFKxa",
        "colab": {
          "base_uri": "https://localhost:8080/"
        },
        "outputId": "01a8bc8f-5dc1-4da2-eacd-b7806aa487df"
      },
      "execution_count": 80,
      "outputs": [
        {
          "output_type": "stream",
          "name": "stdout",
          "text": [
            "179\n",
            "188\n"
          ]
        }
      ]
    },
    {
      "cell_type": "code",
      "source": [
        "#tokenize\n",
        "def gen_words(texts):\n",
        "  final = []\n",
        "\n",
        "  for text in texts:\n",
        "    new = gensim.utils.simple_preprocess(text, deacc=True)\n",
        "    for w in new:\n",
        "      if w in stop_words or len(w)<3:\n",
        "        new.remove(w)\n",
        "    final.append(new)\n",
        "  return (final)\n",
        "dataset['news_tokens']=gen_words(dataset['news_cleaned_text'])"
      ],
      "metadata": {
        "id": "asuN6GezAaxh"
      },
      "execution_count": 81,
      "outputs": []
    },
    {
      "cell_type": "code",
      "source": [
        "dataset.head(10)"
      ],
      "metadata": {
        "id": "C9XWFwnCAq6O",
        "colab": {
          "base_uri": "https://localhost:8080/",
          "height": 363
        },
        "outputId": "c972c23d-d0cb-4280-b290-1eb46afc2c5f"
      },
      "execution_count": 82,
      "outputs": [
        {
          "output_type": "execute_result",
          "data": {
            "text/plain": [
              "   Unnamed: 0                                               text  target  \\\n",
              "0       11186  \\n  > \\n  > I am looking for an algorithm to d...       1   \n",
              "1        5799  I finally got a 24 bit viewer for my POVRAY ge...       1   \n",
              "2        8627  Up until last week, I have been running POVray...       1   \n",
              "3       10871  What hardware do plan to run on?  Workstation ...       1   \n",
              "4        7454  /*\\n\\nThis program doesn't detect edges with c...       1   \n",
              "5        7568  Visual Numerics Inc. (formerly IMSL and Precis...       1   \n",
              "6        1715  Hi.\\n\\nThe RTrace ray tracer supports 3D text ...       1   \n",
              "7        9413  Hello, I am looking for commercial software pa...       1   \n",
              "8        3503  Hi again,\\n\\nMany thanks to all the people who...       1   \n",
              "9        7826  \\nA brilliant algorithm.  *NOT*\\n\\nSeriously -...       1   \n",
              "\n",
              "           title                                  news_cleaned_text  \\\n",
              "0  comp.graphics  look algorithm determine give point bind polyg...   \n",
              "1  comp.graphics  finally get bit viewer povray generate .tga fi...   \n",
              "2  comp.graphics  last week run major problem increase memory fi...   \n",
              "3  comp.graphics  hardware plan run workstation pc cost level ru...   \n",
              "4  comp.graphics  program detect edge compass operator laplacian...   \n",
              "5  comp.graphics  formerly process secure site beta testing prod...   \n",
              "6  comp.graphics  ray support text primitive collection sphere c...   \n",
              "7  comp.graphics  look commercial software package professional ...   \n",
              "8  comp.graphics  again many thank people respond request screen...   \n",
              "9  comp.graphics  brilliant algorithm not seriously correct sign...   \n",
              "\n",
              "                                         news_tokens  \\\n",
              "0  [look, algorithm, determine, give, point, bind...   \n",
              "1  [finally, get, bit, viewer, povray, generate, ...   \n",
              "2  [last, week, run, major, problem, increase, me...   \n",
              "3  [hardware, plan, run, workstation, cost, level...   \n",
              "4  [program, detect, edge, compass, operator, lap...   \n",
              "5  [formerly, process, secure, site, beta, testin...   \n",
              "6  [ray, support, text, primitive, collection, sp...   \n",
              "7  [look, commercial, software, package, professi...   \n",
              "8  [many, thank, people, respond, request, screen...   \n",
              "9  [brilliant, algorithm, seriously, correct, sig...   \n",
              "\n",
              "                                     news_lemma_text  \n",
              "0  look algorithm determine give point bind polyg...  \n",
              "1  finally get bit viewer povray generate .tga fi...  \n",
              "2  last week run major problem increase memory fi...  \n",
              "3  hardware plan run workstation pc cost level ru...  \n",
              "4  program detect edge compass operator laplacian...  \n",
              "5  formerly process secure site beta testing prod...  \n",
              "6  ray support text primitive collection sphere c...  \n",
              "7  look commercial software package professional ...  \n",
              "8  again many thank people respond request screen...  \n",
              "9  brilliant algorithm not seriously correct sign...  "
            ],
            "text/html": [
              "\n",
              "  <div id=\"df-36bb8a17-82d8-443a-9558-f400a1b567b7\">\n",
              "    <div class=\"colab-df-container\">\n",
              "      <div>\n",
              "<style scoped>\n",
              "    .dataframe tbody tr th:only-of-type {\n",
              "        vertical-align: middle;\n",
              "    }\n",
              "\n",
              "    .dataframe tbody tr th {\n",
              "        vertical-align: top;\n",
              "    }\n",
              "\n",
              "    .dataframe thead th {\n",
              "        text-align: right;\n",
              "    }\n",
              "</style>\n",
              "<table border=\"1\" class=\"dataframe\">\n",
              "  <thead>\n",
              "    <tr style=\"text-align: right;\">\n",
              "      <th></th>\n",
              "      <th>Unnamed: 0</th>\n",
              "      <th>text</th>\n",
              "      <th>target</th>\n",
              "      <th>title</th>\n",
              "      <th>news_cleaned_text</th>\n",
              "      <th>news_tokens</th>\n",
              "      <th>news_lemma_text</th>\n",
              "    </tr>\n",
              "  </thead>\n",
              "  <tbody>\n",
              "    <tr>\n",
              "      <th>0</th>\n",
              "      <td>11186</td>\n",
              "      <td>\\n  &gt; \\n  &gt; I am looking for an algorithm to d...</td>\n",
              "      <td>1</td>\n",
              "      <td>comp.graphics</td>\n",
              "      <td>look algorithm determine give point bind polyg...</td>\n",
              "      <td>[look, algorithm, determine, give, point, bind...</td>\n",
              "      <td>look algorithm determine give point bind polyg...</td>\n",
              "    </tr>\n",
              "    <tr>\n",
              "      <th>1</th>\n",
              "      <td>5799</td>\n",
              "      <td>I finally got a 24 bit viewer for my POVRAY ge...</td>\n",
              "      <td>1</td>\n",
              "      <td>comp.graphics</td>\n",
              "      <td>finally get bit viewer povray generate .tga fi...</td>\n",
              "      <td>[finally, get, bit, viewer, povray, generate, ...</td>\n",
              "      <td>finally get bit viewer povray generate .tga fi...</td>\n",
              "    </tr>\n",
              "    <tr>\n",
              "      <th>2</th>\n",
              "      <td>8627</td>\n",
              "      <td>Up until last week, I have been running POVray...</td>\n",
              "      <td>1</td>\n",
              "      <td>comp.graphics</td>\n",
              "      <td>last week run major problem increase memory fi...</td>\n",
              "      <td>[last, week, run, major, problem, increase, me...</td>\n",
              "      <td>last week run major problem increase memory fi...</td>\n",
              "    </tr>\n",
              "    <tr>\n",
              "      <th>3</th>\n",
              "      <td>10871</td>\n",
              "      <td>What hardware do plan to run on?  Workstation ...</td>\n",
              "      <td>1</td>\n",
              "      <td>comp.graphics</td>\n",
              "      <td>hardware plan run workstation pc cost level ru...</td>\n",
              "      <td>[hardware, plan, run, workstation, cost, level...</td>\n",
              "      <td>hardware plan run workstation pc cost level ru...</td>\n",
              "    </tr>\n",
              "    <tr>\n",
              "      <th>4</th>\n",
              "      <td>7454</td>\n",
              "      <td>/*\\n\\nThis program doesn't detect edges with c...</td>\n",
              "      <td>1</td>\n",
              "      <td>comp.graphics</td>\n",
              "      <td>program detect edge compass operator laplacian...</td>\n",
              "      <td>[program, detect, edge, compass, operator, lap...</td>\n",
              "      <td>program detect edge compass operator laplacian...</td>\n",
              "    </tr>\n",
              "    <tr>\n",
              "      <th>5</th>\n",
              "      <td>7568</td>\n",
              "      <td>Visual Numerics Inc. (formerly IMSL and Precis...</td>\n",
              "      <td>1</td>\n",
              "      <td>comp.graphics</td>\n",
              "      <td>formerly process secure site beta testing prod...</td>\n",
              "      <td>[formerly, process, secure, site, beta, testin...</td>\n",
              "      <td>formerly process secure site beta testing prod...</td>\n",
              "    </tr>\n",
              "    <tr>\n",
              "      <th>6</th>\n",
              "      <td>1715</td>\n",
              "      <td>Hi.\\n\\nThe RTrace ray tracer supports 3D text ...</td>\n",
              "      <td>1</td>\n",
              "      <td>comp.graphics</td>\n",
              "      <td>ray support text primitive collection sphere c...</td>\n",
              "      <td>[ray, support, text, primitive, collection, sp...</td>\n",
              "      <td>ray support text primitive collection sphere c...</td>\n",
              "    </tr>\n",
              "    <tr>\n",
              "      <th>7</th>\n",
              "      <td>9413</td>\n",
              "      <td>Hello, I am looking for commercial software pa...</td>\n",
              "      <td>1</td>\n",
              "      <td>comp.graphics</td>\n",
              "      <td>look commercial software package professional ...</td>\n",
              "      <td>[look, commercial, software, package, professi...</td>\n",
              "      <td>look commercial software package professional ...</td>\n",
              "    </tr>\n",
              "    <tr>\n",
              "      <th>8</th>\n",
              "      <td>3503</td>\n",
              "      <td>Hi again,\\n\\nMany thanks to all the people who...</td>\n",
              "      <td>1</td>\n",
              "      <td>comp.graphics</td>\n",
              "      <td>again many thank people respond request screen...</td>\n",
              "      <td>[many, thank, people, respond, request, screen...</td>\n",
              "      <td>again many thank people respond request screen...</td>\n",
              "    </tr>\n",
              "    <tr>\n",
              "      <th>9</th>\n",
              "      <td>7826</td>\n",
              "      <td>\\nA brilliant algorithm.  *NOT*\\n\\nSeriously -...</td>\n",
              "      <td>1</td>\n",
              "      <td>comp.graphics</td>\n",
              "      <td>brilliant algorithm not seriously correct sign...</td>\n",
              "      <td>[brilliant, algorithm, seriously, correct, sig...</td>\n",
              "      <td>brilliant algorithm not seriously correct sign...</td>\n",
              "    </tr>\n",
              "  </tbody>\n",
              "</table>\n",
              "</div>\n",
              "      <button class=\"colab-df-convert\" onclick=\"convertToInteractive('df-36bb8a17-82d8-443a-9558-f400a1b567b7')\"\n",
              "              title=\"Convert this dataframe to an interactive table.\"\n",
              "              style=\"display:none;\">\n",
              "        \n",
              "  <svg xmlns=\"http://www.w3.org/2000/svg\" height=\"24px\"viewBox=\"0 0 24 24\"\n",
              "       width=\"24px\">\n",
              "    <path d=\"M0 0h24v24H0V0z\" fill=\"none\"/>\n",
              "    <path d=\"M18.56 5.44l.94 2.06.94-2.06 2.06-.94-2.06-.94-.94-2.06-.94 2.06-2.06.94zm-11 1L8.5 8.5l.94-2.06 2.06-.94-2.06-.94L8.5 2.5l-.94 2.06-2.06.94zm10 10l.94 2.06.94-2.06 2.06-.94-2.06-.94-.94-2.06-.94 2.06-2.06.94z\"/><path d=\"M17.41 7.96l-1.37-1.37c-.4-.4-.92-.59-1.43-.59-.52 0-1.04.2-1.43.59L10.3 9.45l-7.72 7.72c-.78.78-.78 2.05 0 2.83L4 21.41c.39.39.9.59 1.41.59.51 0 1.02-.2 1.41-.59l7.78-7.78 2.81-2.81c.8-.78.8-2.07 0-2.86zM5.41 20L4 18.59l7.72-7.72 1.47 1.35L5.41 20z\"/>\n",
              "  </svg>\n",
              "      </button>\n",
              "      \n",
              "  <style>\n",
              "    .colab-df-container {\n",
              "      display:flex;\n",
              "      flex-wrap:wrap;\n",
              "      gap: 12px;\n",
              "    }\n",
              "\n",
              "    .colab-df-convert {\n",
              "      background-color: #E8F0FE;\n",
              "      border: none;\n",
              "      border-radius: 50%;\n",
              "      cursor: pointer;\n",
              "      display: none;\n",
              "      fill: #1967D2;\n",
              "      height: 32px;\n",
              "      padding: 0 0 0 0;\n",
              "      width: 32px;\n",
              "    }\n",
              "\n",
              "    .colab-df-convert:hover {\n",
              "      background-color: #E2EBFA;\n",
              "      box-shadow: 0px 1px 2px rgba(60, 64, 67, 0.3), 0px 1px 3px 1px rgba(60, 64, 67, 0.15);\n",
              "      fill: #174EA6;\n",
              "    }\n",
              "\n",
              "    [theme=dark] .colab-df-convert {\n",
              "      background-color: #3B4455;\n",
              "      fill: #D2E3FC;\n",
              "    }\n",
              "\n",
              "    [theme=dark] .colab-df-convert:hover {\n",
              "      background-color: #434B5C;\n",
              "      box-shadow: 0px 1px 3px 1px rgba(0, 0, 0, 0.15);\n",
              "      filter: drop-shadow(0px 1px 2px rgba(0, 0, 0, 0.3));\n",
              "      fill: #FFFFFF;\n",
              "    }\n",
              "  </style>\n",
              "\n",
              "      <script>\n",
              "        const buttonEl =\n",
              "          document.querySelector('#df-36bb8a17-82d8-443a-9558-f400a1b567b7 button.colab-df-convert');\n",
              "        buttonEl.style.display =\n",
              "          google.colab.kernel.accessAllowed ? 'block' : 'none';\n",
              "\n",
              "        async function convertToInteractive(key) {\n",
              "          const element = document.querySelector('#df-36bb8a17-82d8-443a-9558-f400a1b567b7');\n",
              "          const dataTable =\n",
              "            await google.colab.kernel.invokeFunction('convertToInteractive',\n",
              "                                                     [key], {});\n",
              "          if (!dataTable) return;\n",
              "\n",
              "          const docLinkHtml = 'Like what you see? Visit the ' +\n",
              "            '<a target=\"_blank\" href=https://colab.research.google.com/notebooks/data_table.ipynb>data table notebook</a>'\n",
              "            + ' to learn more about interactive tables.';\n",
              "          element.innerHTML = '';\n",
              "          dataTable['output_type'] = 'display_data';\n",
              "          await google.colab.output.renderOutput(dataTable, element);\n",
              "          const docLink = document.createElement('div');\n",
              "          docLink.innerHTML = docLinkHtml;\n",
              "          element.appendChild(docLink);\n",
              "        }\n",
              "      </script>\n",
              "    </div>\n",
              "  </div>\n",
              "  "
            ]
          },
          "metadata": {},
          "execution_count": 82
        }
      ]
    },
    {
      "cell_type": "code",
      "source": [
        "def joinTokens(texts):\n",
        "  texts_out = []\n",
        "  for text in texts:\n",
        "    new_text = []\n",
        "    for token in text:\n",
        "            new_text.append(token)\n",
        "    final = \" \".join(new_text)\n",
        "    texts_out.append(final)\n",
        "  return (texts_out)"
      ],
      "metadata": {
        "id": "QHJH_p0hofps"
      },
      "execution_count": 83,
      "outputs": []
    },
    {
      "cell_type": "code",
      "source": [
        "dataset['news_joined_text']=joinTokens(dataset['news_tokens'])"
      ],
      "metadata": {
        "id": "dP5AoxKFBUnC"
      },
      "execution_count": 84,
      "outputs": []
    },
    {
      "cell_type": "code",
      "source": [
        "dataset.head(10)"
      ],
      "metadata": {
        "colab": {
          "base_uri": "https://localhost:8080/",
          "height": 597
        },
        "id": "Z-JJR33bERXG",
        "outputId": "22f9727b-a647-4325-f391-a1ea24f065dc"
      },
      "execution_count": 85,
      "outputs": [
        {
          "output_type": "execute_result",
          "data": {
            "text/plain": [
              "   Unnamed: 0                                               text  target  \\\n",
              "0       11186  \\n  > \\n  > I am looking for an algorithm to d...       1   \n",
              "1        5799  I finally got a 24 bit viewer for my POVRAY ge...       1   \n",
              "2        8627  Up until last week, I have been running POVray...       1   \n",
              "3       10871  What hardware do plan to run on?  Workstation ...       1   \n",
              "4        7454  /*\\n\\nThis program doesn't detect edges with c...       1   \n",
              "5        7568  Visual Numerics Inc. (formerly IMSL and Precis...       1   \n",
              "6        1715  Hi.\\n\\nThe RTrace ray tracer supports 3D text ...       1   \n",
              "7        9413  Hello, I am looking for commercial software pa...       1   \n",
              "8        3503  Hi again,\\n\\nMany thanks to all the people who...       1   \n",
              "9        7826  \\nA brilliant algorithm.  *NOT*\\n\\nSeriously -...       1   \n",
              "\n",
              "           title                                  news_cleaned_text  \\\n",
              "0  comp.graphics  look algorithm determine give point bind polyg...   \n",
              "1  comp.graphics  finally get bit viewer povray generate .tga fi...   \n",
              "2  comp.graphics  last week run major problem increase memory fi...   \n",
              "3  comp.graphics  hardware plan run workstation pc cost level ru...   \n",
              "4  comp.graphics  program detect edge compass operator laplacian...   \n",
              "5  comp.graphics  formerly process secure site beta testing prod...   \n",
              "6  comp.graphics  ray support text primitive collection sphere c...   \n",
              "7  comp.graphics  look commercial software package professional ...   \n",
              "8  comp.graphics  again many thank people respond request screen...   \n",
              "9  comp.graphics  brilliant algorithm not seriously correct sign...   \n",
              "\n",
              "                                         news_tokens  \\\n",
              "0  [look, algorithm, determine, give, point, bind...   \n",
              "1  [finally, get, bit, viewer, povray, generate, ...   \n",
              "2  [last, week, run, major, problem, increase, me...   \n",
              "3  [hardware, plan, run, workstation, cost, level...   \n",
              "4  [program, detect, edge, compass, operator, lap...   \n",
              "5  [formerly, process, secure, site, beta, testin...   \n",
              "6  [ray, support, text, primitive, collection, sp...   \n",
              "7  [look, commercial, software, package, professi...   \n",
              "8  [many, thank, people, respond, request, screen...   \n",
              "9  [brilliant, algorithm, seriously, correct, sig...   \n",
              "\n",
              "                                     news_lemma_text  \\\n",
              "0  look algorithm determine give point bind polyg...   \n",
              "1  finally get bit viewer povray generate .tga fi...   \n",
              "2  last week run major problem increase memory fi...   \n",
              "3  hardware plan run workstation pc cost level ru...   \n",
              "4  program detect edge compass operator laplacian...   \n",
              "5  formerly process secure site beta testing prod...   \n",
              "6  ray support text primitive collection sphere c...   \n",
              "7  look commercial software package professional ...   \n",
              "8  again many thank people respond request screen...   \n",
              "9  brilliant algorithm not seriously correct sign...   \n",
              "\n",
              "                                    news_joined_text  \n",
              "0  look algorithm determine give point bind polyg...  \n",
              "1  finally get bit viewer povray generate tga fil...  \n",
              "2  last week run major problem increase memory fi...  \n",
              "3  hardware plan run workstation cost level run t...  \n",
              "4  program detect edge compass operator laplacian...  \n",
              "5  formerly process secure site beta testing prod...  \n",
              "6  ray support text primitive collection sphere c...  \n",
              "7  look commercial software package professional ...  \n",
              "8  many thank people respond request screen grabb...  \n",
              "9  brilliant algorithm seriously correct sign cha...  "
            ],
            "text/html": [
              "\n",
              "  <div id=\"df-b6f3924d-8559-418f-8cbe-f4e16bbed931\">\n",
              "    <div class=\"colab-df-container\">\n",
              "      <div>\n",
              "<style scoped>\n",
              "    .dataframe tbody tr th:only-of-type {\n",
              "        vertical-align: middle;\n",
              "    }\n",
              "\n",
              "    .dataframe tbody tr th {\n",
              "        vertical-align: top;\n",
              "    }\n",
              "\n",
              "    .dataframe thead th {\n",
              "        text-align: right;\n",
              "    }\n",
              "</style>\n",
              "<table border=\"1\" class=\"dataframe\">\n",
              "  <thead>\n",
              "    <tr style=\"text-align: right;\">\n",
              "      <th></th>\n",
              "      <th>Unnamed: 0</th>\n",
              "      <th>text</th>\n",
              "      <th>target</th>\n",
              "      <th>title</th>\n",
              "      <th>news_cleaned_text</th>\n",
              "      <th>news_tokens</th>\n",
              "      <th>news_lemma_text</th>\n",
              "      <th>news_joined_text</th>\n",
              "    </tr>\n",
              "  </thead>\n",
              "  <tbody>\n",
              "    <tr>\n",
              "      <th>0</th>\n",
              "      <td>11186</td>\n",
              "      <td>\\n  &gt; \\n  &gt; I am looking for an algorithm to d...</td>\n",
              "      <td>1</td>\n",
              "      <td>comp.graphics</td>\n",
              "      <td>look algorithm determine give point bind polyg...</td>\n",
              "      <td>[look, algorithm, determine, give, point, bind...</td>\n",
              "      <td>look algorithm determine give point bind polyg...</td>\n",
              "      <td>look algorithm determine give point bind polyg...</td>\n",
              "    </tr>\n",
              "    <tr>\n",
              "      <th>1</th>\n",
              "      <td>5799</td>\n",
              "      <td>I finally got a 24 bit viewer for my POVRAY ge...</td>\n",
              "      <td>1</td>\n",
              "      <td>comp.graphics</td>\n",
              "      <td>finally get bit viewer povray generate .tga fi...</td>\n",
              "      <td>[finally, get, bit, viewer, povray, generate, ...</td>\n",
              "      <td>finally get bit viewer povray generate .tga fi...</td>\n",
              "      <td>finally get bit viewer povray generate tga fil...</td>\n",
              "    </tr>\n",
              "    <tr>\n",
              "      <th>2</th>\n",
              "      <td>8627</td>\n",
              "      <td>Up until last week, I have been running POVray...</td>\n",
              "      <td>1</td>\n",
              "      <td>comp.graphics</td>\n",
              "      <td>last week run major problem increase memory fi...</td>\n",
              "      <td>[last, week, run, major, problem, increase, me...</td>\n",
              "      <td>last week run major problem increase memory fi...</td>\n",
              "      <td>last week run major problem increase memory fi...</td>\n",
              "    </tr>\n",
              "    <tr>\n",
              "      <th>3</th>\n",
              "      <td>10871</td>\n",
              "      <td>What hardware do plan to run on?  Workstation ...</td>\n",
              "      <td>1</td>\n",
              "      <td>comp.graphics</td>\n",
              "      <td>hardware plan run workstation pc cost level ru...</td>\n",
              "      <td>[hardware, plan, run, workstation, cost, level...</td>\n",
              "      <td>hardware plan run workstation pc cost level ru...</td>\n",
              "      <td>hardware plan run workstation cost level run t...</td>\n",
              "    </tr>\n",
              "    <tr>\n",
              "      <th>4</th>\n",
              "      <td>7454</td>\n",
              "      <td>/*\\n\\nThis program doesn't detect edges with c...</td>\n",
              "      <td>1</td>\n",
              "      <td>comp.graphics</td>\n",
              "      <td>program detect edge compass operator laplacian...</td>\n",
              "      <td>[program, detect, edge, compass, operator, lap...</td>\n",
              "      <td>program detect edge compass operator laplacian...</td>\n",
              "      <td>program detect edge compass operator laplacian...</td>\n",
              "    </tr>\n",
              "    <tr>\n",
              "      <th>5</th>\n",
              "      <td>7568</td>\n",
              "      <td>Visual Numerics Inc. (formerly IMSL and Precis...</td>\n",
              "      <td>1</td>\n",
              "      <td>comp.graphics</td>\n",
              "      <td>formerly process secure site beta testing prod...</td>\n",
              "      <td>[formerly, process, secure, site, beta, testin...</td>\n",
              "      <td>formerly process secure site beta testing prod...</td>\n",
              "      <td>formerly process secure site beta testing prod...</td>\n",
              "    </tr>\n",
              "    <tr>\n",
              "      <th>6</th>\n",
              "      <td>1715</td>\n",
              "      <td>Hi.\\n\\nThe RTrace ray tracer supports 3D text ...</td>\n",
              "      <td>1</td>\n",
              "      <td>comp.graphics</td>\n",
              "      <td>ray support text primitive collection sphere c...</td>\n",
              "      <td>[ray, support, text, primitive, collection, sp...</td>\n",
              "      <td>ray support text primitive collection sphere c...</td>\n",
              "      <td>ray support text primitive collection sphere c...</td>\n",
              "    </tr>\n",
              "    <tr>\n",
              "      <th>7</th>\n",
              "      <td>9413</td>\n",
              "      <td>Hello, I am looking for commercial software pa...</td>\n",
              "      <td>1</td>\n",
              "      <td>comp.graphics</td>\n",
              "      <td>look commercial software package professional ...</td>\n",
              "      <td>[look, commercial, software, package, professi...</td>\n",
              "      <td>look commercial software package professional ...</td>\n",
              "      <td>look commercial software package professional ...</td>\n",
              "    </tr>\n",
              "    <tr>\n",
              "      <th>8</th>\n",
              "      <td>3503</td>\n",
              "      <td>Hi again,\\n\\nMany thanks to all the people who...</td>\n",
              "      <td>1</td>\n",
              "      <td>comp.graphics</td>\n",
              "      <td>again many thank people respond request screen...</td>\n",
              "      <td>[many, thank, people, respond, request, screen...</td>\n",
              "      <td>again many thank people respond request screen...</td>\n",
              "      <td>many thank people respond request screen grabb...</td>\n",
              "    </tr>\n",
              "    <tr>\n",
              "      <th>9</th>\n",
              "      <td>7826</td>\n",
              "      <td>\\nA brilliant algorithm.  *NOT*\\n\\nSeriously -...</td>\n",
              "      <td>1</td>\n",
              "      <td>comp.graphics</td>\n",
              "      <td>brilliant algorithm not seriously correct sign...</td>\n",
              "      <td>[brilliant, algorithm, seriously, correct, sig...</td>\n",
              "      <td>brilliant algorithm not seriously correct sign...</td>\n",
              "      <td>brilliant algorithm seriously correct sign cha...</td>\n",
              "    </tr>\n",
              "  </tbody>\n",
              "</table>\n",
              "</div>\n",
              "      <button class=\"colab-df-convert\" onclick=\"convertToInteractive('df-b6f3924d-8559-418f-8cbe-f4e16bbed931')\"\n",
              "              title=\"Convert this dataframe to an interactive table.\"\n",
              "              style=\"display:none;\">\n",
              "        \n",
              "  <svg xmlns=\"http://www.w3.org/2000/svg\" height=\"24px\"viewBox=\"0 0 24 24\"\n",
              "       width=\"24px\">\n",
              "    <path d=\"M0 0h24v24H0V0z\" fill=\"none\"/>\n",
              "    <path d=\"M18.56 5.44l.94 2.06.94-2.06 2.06-.94-2.06-.94-.94-2.06-.94 2.06-2.06.94zm-11 1L8.5 8.5l.94-2.06 2.06-.94-2.06-.94L8.5 2.5l-.94 2.06-2.06.94zm10 10l.94 2.06.94-2.06 2.06-.94-2.06-.94-.94-2.06-.94 2.06-2.06.94z\"/><path d=\"M17.41 7.96l-1.37-1.37c-.4-.4-.92-.59-1.43-.59-.52 0-1.04.2-1.43.59L10.3 9.45l-7.72 7.72c-.78.78-.78 2.05 0 2.83L4 21.41c.39.39.9.59 1.41.59.51 0 1.02-.2 1.41-.59l7.78-7.78 2.81-2.81c.8-.78.8-2.07 0-2.86zM5.41 20L4 18.59l7.72-7.72 1.47 1.35L5.41 20z\"/>\n",
              "  </svg>\n",
              "      </button>\n",
              "      \n",
              "  <style>\n",
              "    .colab-df-container {\n",
              "      display:flex;\n",
              "      flex-wrap:wrap;\n",
              "      gap: 12px;\n",
              "    }\n",
              "\n",
              "    .colab-df-convert {\n",
              "      background-color: #E8F0FE;\n",
              "      border: none;\n",
              "      border-radius: 50%;\n",
              "      cursor: pointer;\n",
              "      display: none;\n",
              "      fill: #1967D2;\n",
              "      height: 32px;\n",
              "      padding: 0 0 0 0;\n",
              "      width: 32px;\n",
              "    }\n",
              "\n",
              "    .colab-df-convert:hover {\n",
              "      background-color: #E2EBFA;\n",
              "      box-shadow: 0px 1px 2px rgba(60, 64, 67, 0.3), 0px 1px 3px 1px rgba(60, 64, 67, 0.15);\n",
              "      fill: #174EA6;\n",
              "    }\n",
              "\n",
              "    [theme=dark] .colab-df-convert {\n",
              "      background-color: #3B4455;\n",
              "      fill: #D2E3FC;\n",
              "    }\n",
              "\n",
              "    [theme=dark] .colab-df-convert:hover {\n",
              "      background-color: #434B5C;\n",
              "      box-shadow: 0px 1px 3px 1px rgba(0, 0, 0, 0.15);\n",
              "      filter: drop-shadow(0px 1px 2px rgba(0, 0, 0, 0.3));\n",
              "      fill: #FFFFFF;\n",
              "    }\n",
              "  </style>\n",
              "\n",
              "      <script>\n",
              "        const buttonEl =\n",
              "          document.querySelector('#df-b6f3924d-8559-418f-8cbe-f4e16bbed931 button.colab-df-convert');\n",
              "        buttonEl.style.display =\n",
              "          google.colab.kernel.accessAllowed ? 'block' : 'none';\n",
              "\n",
              "        async function convertToInteractive(key) {\n",
              "          const element = document.querySelector('#df-b6f3924d-8559-418f-8cbe-f4e16bbed931');\n",
              "          const dataTable =\n",
              "            await google.colab.kernel.invokeFunction('convertToInteractive',\n",
              "                                                     [key], {});\n",
              "          if (!dataTable) return;\n",
              "\n",
              "          const docLinkHtml = 'Like what you see? Visit the ' +\n",
              "            '<a target=\"_blank\" href=https://colab.research.google.com/notebooks/data_table.ipynb>data table notebook</a>'\n",
              "            + ' to learn more about interactive tables.';\n",
              "          element.innerHTML = '';\n",
              "          dataTable['output_type'] = 'display_data';\n",
              "          await google.colab.output.renderOutput(dataTable, element);\n",
              "          const docLink = document.createElement('div');\n",
              "          docLink.innerHTML = docLinkHtml;\n",
              "          element.appendChild(docLink);\n",
              "        }\n",
              "      </script>\n",
              "    </div>\n",
              "  </div>\n",
              "  "
            ]
          },
          "metadata": {},
          "execution_count": 85
        }
      ]
    },
    {
      "cell_type": "markdown",
      "source": [
        "## Term-document matrix"
      ],
      "metadata": {
        "id": "UDBPVmZud57_"
      }
    },
    {
      "cell_type": "code",
      "source": [
        "vect =TfidfVectorizer(stop_words=stop_words,max_features=1000)"
      ],
      "metadata": {
        "id": "BO3CW_xBs-6T"
      },
      "execution_count": 91,
      "outputs": []
    },
    {
      "cell_type": "code",
      "source": [
        "vect_text=vect.fit_transform(dataset['news_joined_text'])"
      ],
      "metadata": {
        "id": "v9gafP10uSqb"
      },
      "execution_count": 92,
      "outputs": []
    },
    {
      "cell_type": "code",
      "source": [
        "print(vect_text)"
      ],
      "metadata": {
        "colab": {
          "base_uri": "https://localhost:8080/"
        },
        "id": "lvdkpIgVufUf",
        "outputId": "8528bcf8-be19-4e93-df9d-f5fe4afd0e76"
      },
      "execution_count": 93,
      "outputs": [
        {
          "output_type": "stream",
          "name": "stdout",
          "text": [
            "  (0, 758)\t0.30265910803849894\n",
            "  (0, 270)\t0.2821518799619311\n",
            "  (0, 434)\t0.2638731692491544\n",
            "  (0, 175)\t0.323566997713172\n",
            "  (0, 99)\t0.28326613864382666\n",
            "  (0, 731)\t0.3177014637347521\n",
            "  (0, 146)\t0.3057237773853435\n",
            "  (0, 651)\t0.22424981453019155\n",
            "  (0, 373)\t0.212272128180783\n",
            "  (0, 228)\t0.33227730465954725\n",
            "  (0, 26)\t0.3644272883370323\n",
            "  (0, 502)\t0.2031238161336793\n",
            "  (1, 910)\t0.1282493404980726\n",
            "  (1, 151)\t0.1759880147914628\n",
            "  (1, 921)\t0.10563368643113306\n",
            "  (1, 365)\t0.18654146630475266\n",
            "  (1, 956)\t0.1596595401547019\n",
            "  (1, 737)\t0.18880385828344973\n",
            "  (1, 526)\t0.3414911379546885\n",
            "  (1, 65)\t0.20097443600853807\n",
            "  (1, 84)\t0.13422493739362273\n",
            "  (1, 686)\t0.295438362531031\n",
            "  (1, 991)\t0.11926609987113121\n",
            "  (1, 959)\t0.18654146630475266\n",
            "  (1, 700)\t0.1804400153000338\n",
            "  :\t:\n",
            "  (1472, 416)\t0.28945142167601046\n",
            "  (1472, 374)\t0.30990516592798106\n",
            "  (1472, 817)\t0.3042788239165401\n",
            "  (1473, 134)\t0.3179579806221106\n",
            "  (1473, 738)\t0.4444952032521114\n",
            "  (1473, 83)\t0.1481650677507038\n",
            "  (1473, 861)\t0.134770601667584\n",
            "  (1473, 377)\t0.24335010004459612\n",
            "  (1473, 566)\t0.6295560010188495\n",
            "  (1473, 818)\t0.12406723432213648\n",
            "  (1473, 472)\t0.12260870471059193\n",
            "  (1473, 932)\t0.15588058487627837\n",
            "  (1473, 165)\t0.1589789903110553\n",
            "  (1473, 581)\t0.12308688845833525\n",
            "  (1473, 489)\t0.11623691814695405\n",
            "  (1473, 774)\t0.07956023622896921\n",
            "  (1473, 297)\t0.11264616446653841\n",
            "  (1473, 6)\t0.13624129073868954\n",
            "  (1473, 562)\t0.0893674415726886\n",
            "  (1473, 462)\t0.07162607383947063\n",
            "  (1473, 704)\t0.10198866595866758\n",
            "  (1473, 187)\t0.08231922558314478\n",
            "  (1473, 905)\t0.09662701696786351\n",
            "  (1473, 426)\t0.10343523556766294\n",
            "  (1473, 910)\t0.09528571890127782\n"
          ]
        }
      ]
    },
    {
      "cell_type": "markdown",
      "source": [
        "## Single Value Decompostion\n"
      ],
      "metadata": {
        "id": "AVHvEqCxIzac"
      }
    },
    {
      "cell_type": "code",
      "source": [
        "from sklearn.decomposition import TruncatedSVD\n",
        "lsa_model = TruncatedSVD(n_components=20, algorithm='randomized', n_iter=10, random_state=42)"
      ],
      "metadata": {
        "id": "Lxopis4GvtR8"
      },
      "execution_count": 103,
      "outputs": []
    },
    {
      "cell_type": "markdown",
      "source": [
        "## Topic Encoded Data"
      ],
      "metadata": {
        "id": "GTfp2wCoJW59"
      }
    },
    {
      "cell_type": "code",
      "source": [
        "lsa_top=lsa_model.fit_transform(vect_text)\n",
        "l=lsa_top[0]\n",
        "print(\"Document 0 :\")\n",
        "for i,topic in enumerate(l):\n",
        "  print(\"Topic \",i,\" : \",topic*100)"
      ],
      "metadata": {
        "colab": {
          "base_uri": "https://localhost:8080/"
        },
        "id": "mPTSMl_1vy25",
        "outputId": "d557dd52-ba32-475f-8068-6ec440150e6b"
      },
      "execution_count": 104,
      "outputs": [
        {
          "output_type": "stream",
          "name": "stdout",
          "text": [
            "Document 0 :\n",
            "Topic  0  :  12.115701352136247\n",
            "Topic  1  :  4.11142729116312\n",
            "Topic  2  :  -1.8954125874200174\n",
            "Topic  3  :  6.637521626043597\n",
            "Topic  4  :  0.677555320036511\n",
            "Topic  5  :  -10.82086573125832\n",
            "Topic  6  :  -0.1115290030171967\n",
            "Topic  7  :  -8.239248004511765\n",
            "Topic  8  :  5.483333906106902\n",
            "Topic  9  :  -0.32088397081673087\n",
            "Topic  10  :  6.189082693201078\n",
            "Topic  11  :  -6.52475109835559\n",
            "Topic  12  :  0.8508066211024429\n",
            "Topic  13  :  1.6423661730349444\n",
            "Topic  14  :  10.535672915679525\n",
            "Topic  15  :  13.077451381049007\n",
            "Topic  16  :  1.602558406610111\n",
            "Topic  17  :  0.8578854306263997\n",
            "Topic  18  :  -2.517035296827173\n",
            "Topic  19  :  10.850322871146034\n"
          ]
        }
      ]
    },
    {
      "cell_type": "markdown",
      "source": [
        "Words Associated with the topic"
      ],
      "metadata": {
        "id": "2ktPbfkpJ-T5"
      }
    },
    {
      "cell_type": "code",
      "source": [
        "vocab = vect.get_feature_names()\n",
        "\n",
        "for i, comp in enumerate(lsa_model.components_):\n",
        "    vocab_comp = zip(vocab, comp)\n",
        "    sorted_words = sorted(vocab_comp, key= lambda x:x[1], reverse=True)[:10]\n",
        "    print(\"Topic \"+str(i)+\": \")\n",
        "    for t in sorted_words:\n",
        "        print(t[0],end=\" \")\n",
        "    print(\"\\n\")\n",
        "         "
      ],
      "metadata": {
        "colab": {
          "base_uri": "https://localhost:8080/"
        },
        "id": "NFAdJB9swkO2",
        "outputId": "330106dd-da28-4846-8387-90fa991443e7"
      },
      "execution_count": 105,
      "outputs": [
        {
          "output_type": "stream",
          "name": "stdout",
          "text": [
            "Topic 0: \n",
            "know think good say get make see could time may \n",
            "\n",
            "Topic 1: \n",
            "file window card thank program driver problem drive mail help \n",
            "\n",
            "Topic 2: \n",
            "game team play win run player season score last good \n",
            "\n",
            "Topic 3: \n",
            "key file game program team window send play chip group \n",
            "\n",
            "Topic 4: \n",
            "key drive chip system card phone keyboard car escrow number \n",
            "\n",
            "Topic 5: \n",
            "file drive window problem key run get time disk change \n",
            "\n",
            "Topic 6: \n",
            "window driver card screen run color system display application monitor \n",
            "\n",
            "Topic 7: \n",
            "know driver card say post game drive key could see \n",
            "\n",
            "Topic 8: \n",
            "look driver car card good key see work file know \n",
            "\n",
            "Topic 9: \n",
            "window thank good key know get post could bike advance \n",
            "\n",
            "Topic 10: \n",
            "look window card see color monitor call screen drive think \n",
            "\n",
            "Topic 11: \n",
            "get post see mail take address email problem new think \n",
            "\n",
            "Topic 12: \n",
            "say year good driver post tell look window address want \n",
            "\n",
            "Topic 13: \n",
            "think post make see could version really drive like driver \n",
            "\n",
            "Topic 14: \n",
            "look could post year find window appreciate car question much \n",
            "\n",
            "Topic 15: \n",
            "run book see good call believe know version code program \n",
            "\n",
            "Topic 16: \n",
            "say year system time card could new graphic thank write \n",
            "\n",
            "Topic 17: \n",
            "run look right system thank problem write law tell sound \n",
            "\n",
            "Topic 18: \n",
            "post good may card right get file probably work number \n",
            "\n",
            "Topic 19: \n",
            "see new book right game law lot could hear car \n",
            "\n"
          ]
        },
        {
          "output_type": "stream",
          "name": "stderr",
          "text": [
            "/usr/local/lib/python3.7/dist-packages/sklearn/utils/deprecation.py:87: FutureWarning: Function get_feature_names is deprecated; get_feature_names is deprecated in 1.0 and will be removed in 1.2. Please use get_feature_names_out instead.\n",
            "  warnings.warn(msg, category=FutureWarning)\n"
          ]
        }
      ]
    },
    {
      "cell_type": "code",
      "source": [
        "n_components = 20\n",
        "n_top_words = 10\n",
        "\n",
        "\n",
        "def plot_top_words(model, feature_names, n_top_words, title):\n",
        "    fig, axes = plt.subplots(4, 5, figsize=(30, 15), sharex=True)\n",
        "    axes = axes.flatten()\n",
        "    for topic_idx, topic in enumerate(model.components_):\n",
        "        top_features_ind = topic.argsort()[: -n_top_words - 1 : -1]\n",
        "        top_features = [feature_names[i] for i in top_features_ind]\n",
        "        weights = topic[top_features_ind]\n",
        "\n",
        "        ax = axes[topic_idx]\n",
        "        ax.barh(top_features, weights, height=0.7)\n",
        "        ax.set_title(f\"Topic {topic_idx +1}\", fontdict={\"fontsize\": 30})\n",
        "        ax.invert_yaxis()\n",
        "        ax.tick_params(axis=\"both\", which=\"major\", labelsize=20)\n",
        "        for i in \"top right left\".split():\n",
        "            ax.spines[i].set_visible(False)\n",
        "        fig.suptitle(title, fontsize=40)\n",
        "    plt.subplots_adjust(top=0.90, bottom=0.05, wspace=0.90, hspace=0.3)\n",
        "    plt.show()\n",
        "\n",
        "tfidf_feature_names = vect.get_feature_names_out()\n",
        "plot_top_words(lsa_model, tfidf_feature_names, n_top_words, \"Topics in LSA model\")"
      ],
      "metadata": {
        "colab": {
          "base_uri": "https://localhost:8080/",
          "height": 969
        },
        "id": "FtvDFx4baU5f",
        "outputId": "7a0c9c66-f6f9-410b-df50-0b03265f11be"
      },
      "execution_count": 121,
      "outputs": [
        {
          "output_type": "display_data",
          "data": {
            "text/plain": [
              "<Figure size 2160x1080 with 20 Axes>"
            ],
            "image/png": "[encoded data removed]"
          },
          "metadata": {
            "needs_background": "light"
          }
        }
      ]
    }
  ]
}